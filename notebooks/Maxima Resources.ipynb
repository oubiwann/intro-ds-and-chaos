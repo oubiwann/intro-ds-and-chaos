{
 "cells": [
  {
   "cell_type": "markdown",
   "metadata": {},
   "source": [
    "# Maxima Resources\n",
    "\n",
    "## Usage\n",
    "\n",
    "* Manual - http://maxima.sourceforge.net/docs/manual/maxima_singlepage.html\n",
    "* Maxima/Jupyter\n",
    "  * Example notebooks - https://github.com/robert-dodier/maxima-jupyter#examples\n",
    "  * Tutorial notebooks - https://github.com/calyau/maxima-tutorial-notebooks\n",
    "* Maxima on Rosetta Code\n",
    "  * Implemented examples - https://rosettacode.org/wiki/Category:Maxima\n",
    "  * Writing Lisp in Maxima - https://rosettacode.org/wiki/Call_a_foreign-language_function#Maxima\n",
    "* Common Lisp Hyper Spec - http://clhs.lisp.se/Front/Contents.htm\n",
    "\n",
    "## Additional Tools\n",
    "\n",
    "* LaTeX/Mathematics - https://en.wikibooks.org/wiki/LaTeX/Mathematics\n",
    "* A collection of various notebook extensions for Jupyter\n",
    "  * https://github.com/ipython-contrib/jupyter_contrib_nbextensions\n",
    "  * https://jupyter-contrib-nbextensions.readthedocs.io/en/latest/\n",
    "\n",
    "## History\n",
    "\n",
    "* Macsyma - https://en.wikipedia.org/wiki/Macsyma\n",
    "* Maxima - https://en.wikipedia.org/wiki/Maxima_(software)\n",
    "* SMP (version zero of Mathematica) - https://en.wikipedia.org/wiki/Symbolic_Manipulation_Program\n",
    "* Mathematica - https://en.wikipedia.org/wiki/Wolfram_Mathematica\n"
   ]
  },
  {
   "cell_type": "code",
   "execution_count": null,
   "metadata": {},
   "outputs": [],
   "source": []
  }
 ],
 "metadata": {
  "kernelspec": {
   "display_name": "Maxima",
   "language": "maxima",
   "name": "maxima"
  },
  "language_info": {
   "codemirror_mode": "maxima",
   "file_extension": ".mac",
   "mimetype": "text/x-maxima",
   "name": "maxima",
   "pygments_lexer": "maxima",
   "version": "5.43.0"
  }
 },
 "nbformat": 4,
 "nbformat_minor": 2
}
