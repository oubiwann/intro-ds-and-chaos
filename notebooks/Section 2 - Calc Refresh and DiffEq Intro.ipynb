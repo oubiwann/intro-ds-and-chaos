{
 "cells": [
  {
   "cell_type": "markdown",
   "metadata": {},
   "source": [
    "# Introduction to Dynamical Systems and Chaos\n",
    "\n",
    "## Section 2\n",
    "\n",
    "### Calculus Refresher\n",
    "\n",
    "The derivative is the instantaneous rate of change of $x$ with regard to $t$:"
   ]
  },
  {
   "cell_type": "code",
   "execution_count": 1,
   "metadata": {},
   "outputs": [
    {
     "data": {
      "text/latex": [
       "\\[\\tag{${\\it \\%o}_{2}$}\\frac{d}{d\\,t}\\,x\\]"
      ],
      "text/plain": [
       "                                      dx\n",
       "(%o2)                                 --\n",
       "                                      dt"
      ],
      "text/x-maxima": [
       "'diff(x,t,1)"
      ]
     },
     "execution_count": 1,
     "metadata": {},
     "output_type": "execute_result"
    }
   ],
   "source": [
    "'diff(x, t);"
   ]
  },
  {
   "cell_type": "markdown",
   "metadata": {},
   "source": [
    "This is also the slope of $x(t)$.\n",
    "\n",
    "### Introducing Differential Equations\n",
    "\n",
    "Comparing iterated functions $x_{n+1} = f(x_n)$ to differential equations $\\frac {d x}{d t} = f(x)$. \n",
    "\n",
    "In the former, if you tell me $x_n$, I can tell you the next $n$. You need a seed, and from that you can figure out the orbit.\n",
    "\n",
    "In the latter, if you tell me $f(x)$, I can tell you how fast $x$ is changing. For a differential equation, you need an initial condition, and then you figure out the solution that is a continuous function.\n",
    "\n",
    "#### Example: Newton's Law of Cooling\n",
    "\n",
    "##### Euler's Method\n",
    "\n",
    "The steps for Euler's method are, for a step size of 2:\n",
    "\n",
    "$X(0) = x_0 = 5$ with $rate = (20 - 5)/5 = 3$\n",
    "\n",
    "$X(0 + 2) = x_2 = 5 + 3 * 2 = 11$ with $rate = (20 - 11)/5 =  1.8$\n",
    "\n",
    "$X(2 + 2) = x_4 = 11 + 1.8 * 2 = 14.6$ with $rate = (20 - 14.6)/5 = 1.08$\n",
    "\n",
    "$X(4 + 2) = x_6 = 14.6 + 1.08 * 2 = 16.76$ with $rate = (20 - 16.76)/5 = 0.648$\n"
   ]
  },
  {
   "cell_type": "code",
   "execution_count": 2,
   "metadata": {},
   "outputs": [
    {
     "name": "stdout",
     "output_type": "stream",
     "text": [
      "\n",
      "Type (to-maxima) to restart, ($quit) to quit Maxima.\n"
     ]
    }
   ],
   "source": [
    "to_lisp()$"
   ]
  },
  {
   "cell_type": "markdown",
   "metadata": {},
   "source": [
    "Let's generalize our steps above into a set of Lisp functions:"
   ]
  },
  {
   "cell_type": "code",
   "execution_count": 3,
   "metadata": {},
   "outputs": [
    {
     "data": {
      "text/plain": [
       "POINTS->MAXIMA"
      ]
     },
     "execution_count": 3,
     "metadata": {},
     "output_type": "execute_result"
    },
    {
     "data": {
      "text/plain": [
       "APPROX"
      ]
     },
     "execution_count": 3,
     "metadata": {},
     "output_type": "execute_result"
    },
    {
     "data": {
      "text/plain": [
       "$EULER_METHOD"
      ]
     },
     "execution_count": 3,
     "metadata": {},
     "output_type": "execute_result"
    },
    {
     "data": {
      "text/plain": [
       "$COOLING"
      ]
     },
     "execution_count": 3,
     "metadata": {},
     "output_type": "execute_result"
    }
   ],
   "source": [
    "(defun points->maxima (data)\n",
    "  (cons '(mlist) \n",
    "        (map 'list (lambda (x) `((mlist) ,@x)) data)))\n",
    "\n",
    "(defun approx (xn step-size last-rate)\n",
    "  (+ xn (* last-rate step-size)))\n",
    "\n",
    "(defun $euler_method (func x0 step-size max-x)\n",
    "  (labels ((e0 (acc)\n",
    "    (let* ((step (length acc))\n",
    "           (last-point (last acc))\n",
    "           (this-x (caar last-point)))\n",
    "      (if (>= this-x max-x) \n",
    "        (points->maxima acc)\n",
    "        (let* ((args (cdar last-point))\n",
    "               (rate (apply func args))\n",
    "               (xn (approx (car args) step-size rate)))\n",
    "          (e0 (append acc `((,(* step step-size) ,xn)))))))))\n",
    "   (e0 `((0 ,x0)))))\n",
    "  \n",
    "(defun $cooling (y)\n",
    "  (float (/ (- 20 y) 5)))"
   ]
  },
  {
   "cell_type": "code",
   "execution_count": 4,
   "metadata": {},
   "outputs": [
    {
     "name": "stdout",
     "output_type": "stream",
     "text": [
      "Returning to Maxima\n"
     ]
    }
   ],
   "source": [
    "(to-maxima)"
   ]
  },
  {
   "cell_type": "markdown",
   "metadata": {},
   "source": [
    "With a generalized function for Euler's Method, we can create data sets using finer steps:"
   ]
  },
  {
   "cell_type": "code",
   "execution_count": 5,
   "metadata": {},
   "outputs": [
    {
     "data": {
      "text/latex": [
       "\\[\\tag{${\\it \\%o}_{4}$}\\left[ \\left[ 0 , 5 \\right]  , \\left[ 2 , 11.0 \\right]  , \\left[ 4 , 14.6 \\right]  , \\left[ 6 , 16.76 \\right]  , \\left[ 8 , 18.056 \\right]  , \\left[ 10 , 18.8336 \\right]  , \\left[ 12 , 19.30016 \\right]  , \\left[ 14 , 19.580096 \\right]  , \\left[ 16 , 19.7480576 \\right]  , \\left[ 18 , 19.84883456 \\right]  , \\left[ 20 , 19.909300736 \\right]  \\right] \\]"
      ],
      "text/plain": [
       "(%o4) [[0, 5], [2, 11.0], [4, 14.6], [6, 16.76], [8, 18.056], [10, 18.8336], \n",
       "[12, 19.30016], [14, 19.580096], [16, 19.7480576], [18, 19.84883456], \n",
       "[20, 19.909300736]]"
      ],
      "text/x-maxima": [
       "[[0,5],[2,11.0],[4,14.6],[6,16.76],[8,18.056],[10,18.8336],[12,19.30016],\n",
       " [14,19.580096],[16,19.7480576],[18,19.84883456],[20,19.909300736]]"
      ]
     },
     "execution_count": 5,
     "metadata": {},
     "output_type": "execute_result"
    }
   ],
   "source": [
    "xy0: euler_method(cooling, 5, 2, 20);\n",
    "xy1: euler_method(cooling, 5, 1, 20)$\n",
    "xy2: euler_method(cooling, 5, 0.5, 20)$"
   ]
  },
  {
   "cell_type": "markdown",
   "metadata": {},
   "source": [
    "The data sets get progressively larger, so we just showed the first one, above.\n",
    "\n",
    "Here's a plot of these approximations:"
   ]
  },
  {
   "cell_type": "code",
   "execution_count": 6,
   "metadata": {},
   "outputs": [
    {
     "data": {
      "image/svg+xml": [
       "<?xml version=\"1.0\" encoding=\"utf-8\"  standalone=\"no\"?>\n",
       "<svg \n",
       " width=\"600\" height=\"480\"\n",
       " viewBox=\"0 0 600 480\"\n",
       " xmlns=\"http://www.w3.org/2000/svg\"\n",
       " xmlns:xlink=\"http://www.w3.org/1999/xlink\"\n",
       ">\n",
       "\n",
       "<title>Gnuplot</title>\n",
       "<desc>Produced by GNUPLOT 5.2 patchlevel 7 </desc>\n",
       "\n",
       "<g id=\"gnuplot_canvas\">\n",
       "\n",
       "<rect x=\"0\" y=\"0\" width=\"600\" height=\"480\" fill=\"none\"/>\n",
       "<defs>\n",
       "\n",
       "\t<circle id='gpDot' r='0.5' stroke-width='0.5' stroke='currentColor'/>\n",
       "\t<path id='gpPt0' stroke-width='0.190' stroke='currentColor' d='M-1,0 h2 M0,-1 v2'/>\n",
       "\t<path id='gpPt1' stroke-width='0.190' stroke='currentColor' d='M-1,-1 L1,1 M1,-1 L-1,1'/>\n",
       "\t<path id='gpPt2' stroke-width='0.190' stroke='currentColor' d='M-1,0 L1,0 M0,-1 L0,1 M-1,-1 L1,1 M-1,1 L1,-1'/>\n",
       "\t<rect id='gpPt3' stroke-width='0.190' stroke='currentColor' x='-1' y='-1' width='2' height='2'/>\n",
       "\t<rect id='gpPt4' stroke-width='0.190' stroke='currentColor' fill='currentColor' x='-1' y='-1' width='2' height='2'/>\n",
       "\t<circle id='gpPt5' stroke-width='0.190' stroke='currentColor' cx='0' cy='0' r='1'/>\n",
       "\t<use xlink:href='#gpPt5' id='gpPt6' fill='currentColor' stroke='none'/>\n",
       "\t<path id='gpPt7' stroke-width='0.190' stroke='currentColor' d='M0,-1.33 L-1.33,0.67 L1.33,0.67 z'/>\n",
       "\t<use xlink:href='#gpPt7' id='gpPt8' fill='currentColor' stroke='none'/>\n",
       "\t<use xlink:href='#gpPt7' id='gpPt9' stroke='currentColor' transform='rotate(180)'/>\n",
       "\t<use xlink:href='#gpPt9' id='gpPt10' fill='currentColor' stroke='none'/>\n",
       "\t<use xlink:href='#gpPt3' id='gpPt11' stroke='currentColor' transform='rotate(45)'/>\n",
       "\t<use xlink:href='#gpPt11' id='gpPt12' fill='currentColor' stroke='none'/>\n",
       "\t<path id='gpPt13' stroke-width='0.190' stroke='currentColor' d='M0,1.330 L1.265,0.411 L0.782,-1.067 L-0.782,-1.076 L-1.265,0.411 z'/>\n",
       "\t<use xlink:href='#gpPt13' id='gpPt14' fill='currentColor' stroke='none'/>\n",
       "\t<filter id='textbox' filterUnits='objectBoundingBox' x='0' y='0' height='1' width='1'>\n",
       "\t  <feFlood flood-color='white' flood-opacity='1' result='bgnd'/>\n",
       "\t  <feComposite in='SourceGraphic' in2='bgnd' operator='atop'/>\n",
       "\t</filter>\n",
       "\t<filter id='greybox' filterUnits='objectBoundingBox' x='0' y='0' height='1' width='1'>\n",
       "\t  <feFlood flood-color='lightgrey' flood-opacity='1' result='grey'/>\n",
       "\t  <feComposite in='SourceGraphic' in2='grey' operator='atop'/>\n",
       "\t</filter>\n",
       "</defs>\n",
       "<g fill=\"none\" color=\"white\" stroke=\"currentColor\" stroke-width=\"1.00\" stroke-linecap=\"butt\" stroke-linejoin=\"miter\">\n",
       "</g>\n",
       "<g fill=\"none\" color=\"gray\" stroke=\"currentColor\" stroke-width=\"1.00\" stroke-linecap=\"butt\" stroke-linejoin=\"miter\">\n",
       "\t<path stroke='black' stroke-dasharray='2,4'  d='M53.3,423.6 L570.8,423.6  '/></g>\n",
       "<g fill=\"none\" color=\"gray\" stroke=\"currentColor\" stroke-width=\"1.00\" stroke-linecap=\"butt\" stroke-linejoin=\"miter\">\n",
       "\t<path stroke='black' stroke-dasharray='2,4'  d='M53.3,423.6 L53.3,35.5  '/></g>\n",
       "<g fill=\"none\" color=\"black\" stroke=\"currentColor\" stroke-width=\"1.00\" stroke-linecap=\"butt\" stroke-linejoin=\"miter\">\n",
       "\t<path stroke='black'  d='M53.3,35.5 L53.3,423.6 L570.8,423.6 L570.8,35.5 L53.3,35.5 Z  '/></g>\n",
       "<g fill=\"none\" color=\"black\" stroke=\"currentColor\" stroke-width=\"1.00\" stroke-linecap=\"butt\" stroke-linejoin=\"miter\">\n",
       "</g>\n",
       "\t<g id=\"gnuplot_plot_1\" ><title>discrete1</title>\n",
       "<g fill=\"none\" color=\"black\" stroke=\"currentColor\" stroke-width=\"1.00\" stroke-linecap=\"butt\" stroke-linejoin=\"miter\">\n",
       "\t<g transform=\"translate(492.4,61.1)\" stroke=\"none\" fill=\"black\" font-family=\"Arial\" font-size=\"14.00\"  text-anchor=\"end\">\n",
       "\t\t<text><tspan font-family=\"Arial\" >discrete1</tspan></text>\n",
       "\t</g>\n",
       "</g>\n",
       "<g fill=\"none\" color=\"black\" stroke=\"currentColor\" stroke-width=\"1.00\" stroke-linecap=\"butt\" stroke-linejoin=\"miter\">\n",
       "\t<path stroke='rgb(  0,   0, 255)'  d='M502.1,56.5 L551.4,56.5 M53.3,326.6 L156.8,210.1 L260.3,140.3 L363.8,98.4 L467.3,73.2 L570.8,58.1\n",
       "\t\t '/></g>\n",
       "\t</g>\n",
       "\t<g id=\"gnuplot_plot_2\" ><title>discrete2</title>\n",
       "<g fill=\"none\" color=\"black\" stroke=\"currentColor\" stroke-width=\"1.00\" stroke-linecap=\"butt\" stroke-linejoin=\"miter\">\n",
       "\t<g transform=\"translate(492.4,82.1)\" stroke=\"none\" fill=\"black\" font-family=\"Arial\" font-size=\"14.00\"  text-anchor=\"end\">\n",
       "\t\t<text><tspan font-family=\"Arial\" >discrete2</tspan></text>\n",
       "\t</g>\n",
       "</g>\n",
       "<g fill=\"none\" color=\"black\" stroke=\"currentColor\" stroke-width=\"1.00\" stroke-linecap=\"butt\" stroke-linejoin=\"miter\">\n",
       "\t<path stroke='rgb(255,   0,   0)'  d='M502.1,77.5 L551.4,77.5 M53.3,326.6 L105.1,268.4 L156.8,221.8 L208.6,184.5 L260.3,154.7 L312.1,130.9\n",
       "\t\tL363.8,111.8 L415.6,96.5 L467.3,84.3 L519.1,74.6 L570.8,66.8  '/></g>\n",
       "\t</g>\n",
       "\t<g id=\"gnuplot_plot_3\" ><title>discrete3</title>\n",
       "<g fill=\"none\" color=\"black\" stroke=\"currentColor\" stroke-width=\"1.00\" stroke-linecap=\"butt\" stroke-linejoin=\"miter\">\n",
       "\t<g transform=\"translate(492.4,103.1)\" stroke=\"none\" fill=\"black\" font-family=\"Arial\" font-size=\"14.00\"  text-anchor=\"end\">\n",
       "\t\t<text><tspan font-family=\"Arial\" >discrete3</tspan></text>\n",
       "\t</g>\n",
       "</g>\n",
       "<g fill=\"none\" color=\"black\" stroke=\"currentColor\" stroke-width=\"1.00\" stroke-linecap=\"butt\" stroke-linejoin=\"miter\">\n",
       "\t<path stroke='rgb(  0, 255,   0)'  d='M502.1,98.5 L551.4,98.5 M53.3,326.6 L79.2,297.5 L105.1,271.3 L130.9,247.7 L156.8,226.5 L182.7,207.4\n",
       "\t\tL208.6,190.2 L234.4,174.7 L260.3,160.8 L286.2,148.3 L312.1,137.0 L337.9,126.8 L363.8,117.7 L389.7,109.5\n",
       "\t\tL415.6,102.1 L441.4,95.4 L467.3,89.4 L493.2,84.0 L519.1,79.2 L544.9,74.8 L570.8,70.9  '/></g>\n",
       "\t</g>\n",
       "<g fill=\"none\" color=\"black\" stroke=\"currentColor\" stroke-width=\"1.00\" stroke-linecap=\"butt\" stroke-linejoin=\"miter\">\n",
       "\t<path stroke='black'  d='M53.3,423.6 L63.8,423.6 M570.8,423.6 L560.3,423.6  '/>\t<g transform=\"translate(43.6,428.2)\" stroke=\"none\" fill=\"black\" font-family=\"Arial\" font-size=\"14.00\"  text-anchor=\"end\">\n",
       "\t\t<text><tspan font-family=\"Arial\" > 0</tspan></text>\n",
       "\t</g>\n",
       "</g>\n",
       "<g fill=\"none\" color=\"black\" stroke=\"currentColor\" stroke-width=\"1.00\" stroke-linecap=\"butt\" stroke-linejoin=\"miter\">\n",
       "\t<path stroke='black'  d='M53.3,326.6 L63.8,326.6 M570.8,326.6 L560.3,326.6  '/>\t<g transform=\"translate(43.6,331.2)\" stroke=\"none\" fill=\"black\" font-family=\"Arial\" font-size=\"14.00\"  text-anchor=\"end\">\n",
       "\t\t<text><tspan font-family=\"Arial\" > 5</tspan></text>\n",
       "\t</g>\n",
       "</g>\n",
       "<g fill=\"none\" color=\"black\" stroke=\"currentColor\" stroke-width=\"1.00\" stroke-linecap=\"butt\" stroke-linejoin=\"miter\">\n",
       "\t<path stroke='black'  d='M53.3,229.5 L63.8,229.5 M570.8,229.5 L560.3,229.5  '/>\t<g transform=\"translate(43.6,234.1)\" stroke=\"none\" fill=\"black\" font-family=\"Arial\" font-size=\"14.00\"  text-anchor=\"end\">\n",
       "\t\t<text><tspan font-family=\"Arial\" > 10</tspan></text>\n",
       "\t</g>\n",
       "</g>\n",
       "<g fill=\"none\" color=\"black\" stroke=\"currentColor\" stroke-width=\"1.00\" stroke-linecap=\"butt\" stroke-linejoin=\"miter\">\n",
       "\t<path stroke='black'  d='M53.3,132.5 L63.8,132.5 M570.8,132.5 L560.3,132.5  '/>\t<g transform=\"translate(43.6,137.1)\" stroke=\"none\" fill=\"black\" font-family=\"Arial\" font-size=\"14.00\"  text-anchor=\"end\">\n",
       "\t\t<text><tspan font-family=\"Arial\" > 15</tspan></text>\n",
       "\t</g>\n",
       "</g>\n",
       "<g fill=\"none\" color=\"black\" stroke=\"currentColor\" stroke-width=\"1.00\" stroke-linecap=\"butt\" stroke-linejoin=\"miter\">\n",
       "\t<path stroke='black'  d='M53.3,35.5 L63.8,35.5 M570.8,35.5 L560.3,35.5  '/>\t<g transform=\"translate(43.6,40.1)\" stroke=\"none\" fill=\"black\" font-family=\"Arial\" font-size=\"14.00\"  text-anchor=\"end\">\n",
       "\t\t<text><tspan font-family=\"Arial\" > 20</tspan></text>\n",
       "\t</g>\n",
       "</g>\n",
       "<g fill=\"none\" color=\"black\" stroke=\"currentColor\" stroke-width=\"1.00\" stroke-linecap=\"butt\" stroke-linejoin=\"miter\">\n",
       "\t<path stroke='black'  d='M53.3,423.6 L53.3,413.1 M53.3,35.5 L53.3,46.0  '/>\t<g transform=\"translate(53.3,449.2)\" stroke=\"none\" fill=\"black\" font-family=\"Arial\" font-size=\"14.00\"  text-anchor=\"middle\">\n",
       "\t\t<text><tspan font-family=\"Arial\" > 0</tspan></text>\n",
       "\t</g>\n",
       "</g>\n",
       "<g fill=\"none\" color=\"black\" stroke=\"currentColor\" stroke-width=\"1.00\" stroke-linecap=\"butt\" stroke-linejoin=\"miter\">\n",
       "\t<path stroke='black'  d='M156.8,423.6 L156.8,413.1 M156.8,35.5 L156.8,46.0  '/>\t<g transform=\"translate(156.8,449.2)\" stroke=\"none\" fill=\"black\" font-family=\"Arial\" font-size=\"14.00\"  text-anchor=\"middle\">\n",
       "\t\t<text><tspan font-family=\"Arial\" > 2</tspan></text>\n",
       "\t</g>\n",
       "</g>\n",
       "<g fill=\"none\" color=\"black\" stroke=\"currentColor\" stroke-width=\"1.00\" stroke-linecap=\"butt\" stroke-linejoin=\"miter\">\n",
       "\t<path stroke='black'  d='M260.3,423.6 L260.3,413.1 M260.3,35.5 L260.3,46.0  '/>\t<g transform=\"translate(260.3,449.2)\" stroke=\"none\" fill=\"black\" font-family=\"Arial\" font-size=\"14.00\"  text-anchor=\"middle\">\n",
       "\t\t<text><tspan font-family=\"Arial\" > 4</tspan></text>\n",
       "\t</g>\n",
       "</g>\n",
       "<g fill=\"none\" color=\"black\" stroke=\"currentColor\" stroke-width=\"1.00\" stroke-linecap=\"butt\" stroke-linejoin=\"miter\">\n",
       "\t<path stroke='black'  d='M363.8,423.6 L363.8,413.1 M363.8,35.5 L363.8,46.0  '/>\t<g transform=\"translate(363.8,449.2)\" stroke=\"none\" fill=\"black\" font-family=\"Arial\" font-size=\"14.00\"  text-anchor=\"middle\">\n",
       "\t\t<text><tspan font-family=\"Arial\" > 6</tspan></text>\n",
       "\t</g>\n",
       "</g>\n",
       "<g fill=\"none\" color=\"black\" stroke=\"currentColor\" stroke-width=\"1.00\" stroke-linecap=\"butt\" stroke-linejoin=\"miter\">\n",
       "\t<path stroke='black'  d='M467.3,423.6 L467.3,413.1 M467.3,35.5 L467.3,46.0  '/>\t<g transform=\"translate(467.3,449.2)\" stroke=\"none\" fill=\"black\" font-family=\"Arial\" font-size=\"14.00\"  text-anchor=\"middle\">\n",
       "\t\t<text><tspan font-family=\"Arial\" > 8</tspan></text>\n",
       "\t</g>\n",
       "</g>\n",
       "<g fill=\"none\" color=\"black\" stroke=\"currentColor\" stroke-width=\"1.00\" stroke-linecap=\"butt\" stroke-linejoin=\"miter\">\n",
       "\t<path stroke='black'  d='M570.8,423.6 L570.8,413.1 M570.8,35.5 L570.8,46.0  '/>\t<g transform=\"translate(570.8,449.2)\" stroke=\"none\" fill=\"black\" font-family=\"Arial\" font-size=\"14.00\"  text-anchor=\"middle\">\n",
       "\t\t<text><tspan font-family=\"Arial\" > 10</tspan></text>\n",
       "\t</g>\n",
       "</g>\n",
       "<g fill=\"none\" color=\"black\" stroke=\"currentColor\" stroke-width=\"1.00\" stroke-linecap=\"butt\" stroke-linejoin=\"miter\">\n",
       "</g>\n",
       "<g fill=\"none\" color=\"gray\" stroke=\"currentColor\" stroke-width=\"1.00\" stroke-linecap=\"butt\" stroke-linejoin=\"miter\">\n",
       "\t<path stroke='black' stroke-dasharray='2,4'  d='M53.3,423.6 L570.8,423.6  '/></g>\n",
       "<g fill=\"none\" color=\"gray\" stroke=\"currentColor\" stroke-width=\"1.00\" stroke-linecap=\"butt\" stroke-linejoin=\"miter\">\n",
       "\t<path stroke='black' stroke-dasharray='2,4'  d='M53.3,423.6 L53.3,35.5  '/></g>\n",
       "<g fill=\"none\" color=\"gray\" stroke=\"black\" stroke-width=\"2.00\" stroke-linecap=\"butt\" stroke-linejoin=\"miter\">\n",
       "</g>\n",
       "<g fill=\"none\" color=\"black\" stroke=\"currentColor\" stroke-width=\"2.00\" stroke-linecap=\"butt\" stroke-linejoin=\"miter\">\n",
       "</g>\n",
       "<g fill=\"none\" color=\"black\" stroke=\"black\" stroke-width=\"1.00\" stroke-linecap=\"butt\" stroke-linejoin=\"miter\">\n",
       "</g>\n",
       "<g fill=\"none\" color=\"black\" stroke=\"currentColor\" stroke-width=\"1.00\" stroke-linecap=\"butt\" stroke-linejoin=\"miter\">\n",
       "\t<path stroke='black'  d='M53.3,35.5 L53.3,423.6 L570.8,423.6 L570.8,35.5 L53.3,35.5 Z  '/></g>\n",
       "<g fill=\"none\" color=\"black\" stroke=\"currentColor\" stroke-width=\"1.00\" stroke-linecap=\"butt\" stroke-linejoin=\"miter\">\n",
       "</g>\n",
       "</g>\n",
       "</svg>\n",
       "\n"
      ],
      "text/plain": [
       "/tmp/maxplot.svg"
      ]
     },
     "metadata": {},
     "output_type": "display_data"
    }
   ],
   "source": [
    "set_plot_option([svg_file, \"maxplot.svg\"])$\n",
    "plot2d([[discrete,xy0],\n",
    "        [discrete,xy1],\n",
    "        [discrete,xy2]], [x, 0, 10], [y, 0, 20])$"
   ]
  },
  {
   "cell_type": "markdown",
   "metadata": {},
   "source": [
    "##### Maxima Numerical Solution\n",
    "\n",
    "Let's use Maxima's `ic1` (stands for \"initial condition, first order differential equation\") function to solve this differential equation:"
   ]
  },
  {
   "cell_type": "code",
   "execution_count": 7,
   "metadata": {},
   "outputs": [
    {
     "data": {
      "text/latex": [
       "\\[\\tag{${\\it \\%o}_{9}$}\\frac{d}{d\\,x}\\,y=\\frac{20-y}{5}\\]"
      ],
      "text/plain": [
       "                                  dy   20 - y\n",
       "(%o9)                             -- = ------\n",
       "                                  dx     5"
      ],
      "text/x-maxima": [
       "'diff(y,x,1) = (20-y)/5"
      ]
     },
     "execution_count": 7,
     "metadata": {},
     "output_type": "execute_result"
    }
   ],
   "source": [
    "eq:'diff(y, x) = 1/5 * (20 - y);"
   ]
  },
  {
   "cell_type": "code",
   "execution_count": 8,
   "metadata": {},
   "outputs": [
    {
     "data": {
      "text/latex": [
       "\\[\\tag{${\\it \\%o}_{10}$}y=e^ {- \\frac{x}{5} }\\,\\left(20\\,e^{\\frac{x}{5}}+{\\it \\%c}\\right)\\]"
      ],
      "text/plain": [
       "                                - x/5       x/5\n",
       "(%o10)                    y = %e      (20 %e    + %c)"
      ],
      "text/x-maxima": [
       "y = %e^-(x/5)*(20*%e^(x/5)+%c)"
      ]
     },
     "execution_count": 8,
     "metadata": {},
     "output_type": "execute_result"
    }
   ],
   "source": [
    "ode2(eq, y, x);"
   ]
  },
  {
   "cell_type": "code",
   "execution_count": 9,
   "metadata": {},
   "outputs": [
    {
     "data": {
      "text/latex": [
       "\\[\\tag{${\\it \\%o}_{11}$}y=e^ {- \\frac{x}{5} }\\,\\left(20\\,e^{\\frac{x}{5}}-15\\right)\\]"
      ],
      "text/plain": [
       "                                - x/5       x/5\n",
       "(%o11)                    y = %e      (20 %e    - 15)"
      ],
      "text/x-maxima": [
       "y = %e^-(x/5)*(20*%e^(x/5)-15)"
      ]
     },
     "execution_count": 9,
     "metadata": {},
     "output_type": "execute_result"
    }
   ],
   "source": [
    "sol: ic1(%, x= 0, y= 5);"
   ]
  },
  {
   "cell_type": "markdown",
   "metadata": {},
   "source": [
    "Here's a plot of the general solution:"
   ]
  },
  {
   "cell_type": "code",
   "execution_count": 10,
   "metadata": {},
   "outputs": [
    {
     "name": "stdout",
     "output_type": "stream",
     "text": [
      "plot2d: some values were clipped.\n"
     ]
    },
    {
     "data": {
      "image/svg+xml": [
       "<?xml version=\"1.0\" encoding=\"utf-8\"  standalone=\"no\"?>\n",
       "<svg \n",
       " width=\"600\" height=\"480\"\n",
       " viewBox=\"0 0 600 480\"\n",
       " xmlns=\"http://www.w3.org/2000/svg\"\n",
       " xmlns:xlink=\"http://www.w3.org/1999/xlink\"\n",
       ">\n",
       "\n",
       "<title>Gnuplot</title>\n",
       "<desc>Produced by GNUPLOT 5.2 patchlevel 7 </desc>\n",
       "\n",
       "<g id=\"gnuplot_canvas\">\n",
       "\n",
       "<rect x=\"0\" y=\"0\" width=\"600\" height=\"480\" fill=\"none\"/>\n",
       "<defs>\n",
       "\n",
       "\t<circle id='gpDot' r='0.5' stroke-width='0.5' stroke='currentColor'/>\n",
       "\t<path id='gpPt0' stroke-width='0.190' stroke='currentColor' d='M-1,0 h2 M0,-1 v2'/>\n",
       "\t<path id='gpPt1' stroke-width='0.190' stroke='currentColor' d='M-1,-1 L1,1 M1,-1 L-1,1'/>\n",
       "\t<path id='gpPt2' stroke-width='0.190' stroke='currentColor' d='M-1,0 L1,0 M0,-1 L0,1 M-1,-1 L1,1 M-1,1 L1,-1'/>\n",
       "\t<rect id='gpPt3' stroke-width='0.190' stroke='currentColor' x='-1' y='-1' width='2' height='2'/>\n",
       "\t<rect id='gpPt4' stroke-width='0.190' stroke='currentColor' fill='currentColor' x='-1' y='-1' width='2' height='2'/>\n",
       "\t<circle id='gpPt5' stroke-width='0.190' stroke='currentColor' cx='0' cy='0' r='1'/>\n",
       "\t<use xlink:href='#gpPt5' id='gpPt6' fill='currentColor' stroke='none'/>\n",
       "\t<path id='gpPt7' stroke-width='0.190' stroke='currentColor' d='M0,-1.33 L-1.33,0.67 L1.33,0.67 z'/>\n",
       "\t<use xlink:href='#gpPt7' id='gpPt8' fill='currentColor' stroke='none'/>\n",
       "\t<use xlink:href='#gpPt7' id='gpPt9' stroke='currentColor' transform='rotate(180)'/>\n",
       "\t<use xlink:href='#gpPt9' id='gpPt10' fill='currentColor' stroke='none'/>\n",
       "\t<use xlink:href='#gpPt3' id='gpPt11' stroke='currentColor' transform='rotate(45)'/>\n",
       "\t<use xlink:href='#gpPt11' id='gpPt12' fill='currentColor' stroke='none'/>\n",
       "\t<path id='gpPt13' stroke-width='0.190' stroke='currentColor' d='M0,1.330 L1.265,0.411 L0.782,-1.067 L-0.782,-1.076 L-1.265,0.411 z'/>\n",
       "\t<use xlink:href='#gpPt13' id='gpPt14' fill='currentColor' stroke='none'/>\n",
       "\t<filter id='textbox' filterUnits='objectBoundingBox' x='0' y='0' height='1' width='1'>\n",
       "\t  <feFlood flood-color='white' flood-opacity='1' result='bgnd'/>\n",
       "\t  <feComposite in='SourceGraphic' in2='bgnd' operator='atop'/>\n",
       "\t</filter>\n",
       "\t<filter id='greybox' filterUnits='objectBoundingBox' x='0' y='0' height='1' width='1'>\n",
       "\t  <feFlood flood-color='lightgrey' flood-opacity='1' result='grey'/>\n",
       "\t  <feComposite in='SourceGraphic' in2='grey' operator='atop'/>\n",
       "\t</filter>\n",
       "</defs>\n",
       "<g fill=\"none\" color=\"white\" stroke=\"currentColor\" stroke-width=\"1.00\" stroke-linecap=\"butt\" stroke-linejoin=\"miter\">\n",
       "</g>\n",
       "<g fill=\"none\" color=\"gray\" stroke=\"currentColor\" stroke-width=\"1.00\" stroke-linecap=\"butt\" stroke-linejoin=\"miter\">\n",
       "\t<path stroke='black' stroke-dasharray='2,4'  d='M74.3,154.9 L570.8,154.9  '/></g>\n",
       "<g fill=\"none\" color=\"gray\" stroke=\"currentColor\" stroke-width=\"1.00\" stroke-linecap=\"butt\" stroke-linejoin=\"miter\">\n",
       "\t<path stroke='black' stroke-dasharray='2,4'  d='M350.1,403.1 L350.1,30.8  '/></g>\n",
       "<g fill=\"none\" color=\"black\" stroke=\"currentColor\" stroke-width=\"1.00\" stroke-linecap=\"butt\" stroke-linejoin=\"miter\">\n",
       "\t<path stroke='black'  d='M74.3,30.8 L74.3,403.1 L570.8,403.1 L570.8,30.8 L74.3,30.8 Z  '/></g>\n",
       "<g fill=\"none\" color=\"black\" stroke=\"currentColor\" stroke-width=\"1.00\" stroke-linecap=\"butt\" stroke-linejoin=\"miter\">\n",
       "\t<g transform=\"translate(29.5,217.0) rotate(270)\" stroke=\"none\" fill=\"black\" font-family=\"Arial\" font-size=\"14.00\"  text-anchor=\"middle\">\n",
       "\t\t<text><tspan font-family=\"Arial\" >%e</tspan><tspan font-family=\"Arial\"  font-size=\"11.2\" dy=\"-7.00px\">-</tspan><tspan font-family=\"Arial\"  font-size=\"14.0\" dy=\"7.00px\">(x/5)*(20*%e</tspan><tspan font-family=\"Arial\"  font-size=\"11.2\" dy=\"-7.00px\">(</tspan><tspan font-family=\"Arial\"  font-size=\"14.0\" dy=\"7.00px\">x/5)-15)</tspan></text>\n",
       "\t</g>\n",
       "</g>\n",
       "<g fill=\"none\" color=\"black\" stroke=\"currentColor\" stroke-width=\"1.00\" stroke-linecap=\"butt\" stroke-linejoin=\"miter\">\n",
       "\t<g transform=\"translate(322.5,460.2)\" stroke=\"none\" fill=\"black\" font-family=\"Arial\" font-size=\"14.00\"  text-anchor=\"middle\">\n",
       "\t\t<text><tspan font-family=\"Arial\" >x</tspan></text>\n",
       "\t</g>\n",
       "</g>\n",
       "<g fill=\"none\" color=\"black\" stroke=\"currentColor\" stroke-width=\"1.00\" stroke-linecap=\"butt\" stroke-linejoin=\"miter\">\n",
       "</g>\n",
       "\t<g id=\"gnuplot_plot_1\" ><title>gnuplot_plot_1</title>\n",
       "<g fill=\"none\" color=\"black\" stroke=\"currentColor\" stroke-width=\"1.00\" stroke-linecap=\"butt\" stroke-linejoin=\"miter\">\n",
       "\t<path stroke='rgb(  0,   0, 255)'  d='M159.9,400.5 L162.0,394.8 L164.2,389.2 L166.3,383.7 L168.5,378.3 L170.6,372.9 L172.7,367.6 L174.9,362.5\n",
       "\t\tL177.0,357.3 L179.2,352.3 L181.3,347.4 L183.4,342.5 L185.6,337.7 L187.7,333.0 L189.9,328.3 L192.0,323.7\n",
       "\t\tL194.1,319.2 L196.3,314.8 L198.4,310.4 L200.6,306.1 L202.7,301.9 L204.8,297.7 L207.0,293.6 L209.1,289.5\n",
       "\t\tL211.3,285.6 L213.4,281.6 L215.5,277.8 L217.7,274.0 L219.8,270.2 L222.0,266.5 L224.1,262.9 L226.2,259.3\n",
       "\t\tL228.4,255.8 L230.5,252.3 L232.7,248.9 L234.8,245.6 L236.9,242.3 L239.1,239.0 L241.2,235.8 L243.4,232.7\n",
       "\t\tL245.5,229.5 L247.6,226.5 L249.8,223.5 L251.9,220.5 L254.1,217.6 L256.2,214.7 L258.3,211.9 L260.5,209.1\n",
       "\t\tL262.6,206.3 L264.8,203.6 L266.9,201.0 L269.0,198.4 L271.2,195.8 L273.3,193.2 L275.5,190.7 L277.6,188.3\n",
       "\t\tL279.7,185.9 L281.9,183.5 L284.0,181.1 L286.2,178.8 L288.3,176.5 L290.4,174.3 L292.6,172.1 L294.7,169.9\n",
       "\t\tL296.9,167.7 L299.0,165.6 L301.1,163.6 L303.3,161.5 L305.4,159.5 L307.6,157.5 L309.7,155.6 L311.8,153.7\n",
       "\t\tL314.0,151.8 L316.1,149.9 L318.3,148.1 L320.4,146.3 L322.6,144.5 L324.7,142.7 L326.8,141.0 L329.0,139.3\n",
       "\t\tL331.1,137.6 L333.3,136.0 L335.4,134.4 L337.5,132.8 L339.7,131.2 L341.8,129.7 L344.0,128.1 L346.1,126.6\n",
       "\t\tL348.2,125.2 L350.4,123.7 L352.5,122.3 L354.7,120.9 L356.8,119.5 L358.9,118.1 L361.1,116.8 L363.2,115.5\n",
       "\t\tL365.4,114.2 L367.5,112.9 L369.6,111.6 L371.8,110.4 L373.9,109.1 L376.1,107.9 L378.2,106.7 L380.3,105.6\n",
       "\t\tL382.5,104.4 L384.6,103.3 L386.8,102.2 L388.9,101.1 L391.0,100.0 L393.2,98.9 L395.3,97.9 L397.5,96.8\n",
       "\t\tL399.6,95.8 L401.7,94.8 L403.9,93.8 L406.0,92.9 L408.2,91.9 L410.3,91.0 L412.4,90.0 L414.6,89.1\n",
       "\t\tL416.7,88.2 L418.9,87.4 L421.0,86.5 L423.1,85.6 L425.3,84.8 L427.4,83.9 L429.6,83.1 L431.7,82.3\n",
       "\t\tL433.8,81.5 L436.0,80.7 L438.1,80.0 L440.3,79.2 L442.4,78.5 L444.5,77.7 L446.7,77.0 L448.8,76.3\n",
       "\t\tL451.0,75.6 L453.1,74.9 L455.2,74.2 L457.4,73.6 L459.5,72.9 L461.7,72.3 L463.8,71.6 L465.9,71.0\n",
       "\t\tL468.1,70.4 L470.2,69.8 L472.4,69.2 L474.5,68.6 L476.6,68.0 L478.8,67.4 L480.9,66.9 L483.1,66.3\n",
       "\t\tL485.2,65.8 L487.3,65.2 L489.5,64.7 L491.6,64.2 L493.8,63.7 L495.9,63.1 L498.0,62.6 L500.2,62.2\n",
       "\t\tL502.3,61.7 L504.5,61.2 L506.6,60.7 L508.7,60.3 L510.9,59.8 L513.0,59.4 L515.2,58.9 L517.3,58.5\n",
       "\t\tL519.4,58.1 L521.6,57.7 L523.7,57.2 L525.9,56.8 L528.0,56.4 L530.1,56.0 L532.3,55.6 L534.4,55.3\n",
       "\t\tL536.6,54.9 L538.7,54.5 L540.8,54.2 L543.0,53.8 L545.1,53.4 L547.3,53.1 L549.4,52.7 L551.5,52.4\n",
       "\t\tL553.7,52.1 L555.8,51.7 L558.0,51.4 L560.1,51.1 L562.2,50.8 L564.4,50.5 L566.5,50.2 L568.7,49.9\n",
       "\t\tL570.8,49.6  '/></g>\n",
       "\t</g>\n",
       "<g fill=\"none\" color=\"black\" stroke=\"currentColor\" stroke-width=\"1.00\" stroke-linecap=\"butt\" stroke-linejoin=\"miter\">\n",
       "\t<path stroke='black'  d='M74.3,403.1 L84.8,403.1 M570.8,403.1 L560.3,403.1  '/>\t<g transform=\"translate(64.6,407.7)\" stroke=\"none\" fill=\"black\" font-family=\"Arial\" font-size=\"14.00\"  text-anchor=\"end\">\n",
       "\t\t<text><tspan font-family=\"Arial\" >-40</tspan></text>\n",
       "\t</g>\n",
       "</g>\n",
       "<g fill=\"none\" color=\"black\" stroke=\"currentColor\" stroke-width=\"1.00\" stroke-linecap=\"butt\" stroke-linejoin=\"miter\">\n",
       "\t<path stroke='black'  d='M74.3,341.0 L84.8,341.0 M570.8,341.0 L560.3,341.0  '/>\t<g transform=\"translate(64.6,345.6)\" stroke=\"none\" fill=\"black\" font-family=\"Arial\" font-size=\"14.00\"  text-anchor=\"end\">\n",
       "\t\t<text><tspan font-family=\"Arial\" >-30</tspan></text>\n",
       "\t</g>\n",
       "</g>\n",
       "<g fill=\"none\" color=\"black\" stroke=\"currentColor\" stroke-width=\"1.00\" stroke-linecap=\"butt\" stroke-linejoin=\"miter\">\n",
       "\t<path stroke='black'  d='M74.3,279.0 L84.8,279.0 M570.8,279.0 L560.3,279.0  '/>\t<g transform=\"translate(64.6,283.6)\" stroke=\"none\" fill=\"black\" font-family=\"Arial\" font-size=\"14.00\"  text-anchor=\"end\">\n",
       "\t\t<text><tspan font-family=\"Arial\" >-20</tspan></text>\n",
       "\t</g>\n",
       "</g>\n",
       "<g fill=\"none\" color=\"black\" stroke=\"currentColor\" stroke-width=\"1.00\" stroke-linecap=\"butt\" stroke-linejoin=\"miter\">\n",
       "\t<path stroke='black'  d='M74.3,216.9 L84.8,216.9 M570.8,216.9 L560.3,216.9  '/>\t<g transform=\"translate(64.6,221.5)\" stroke=\"none\" fill=\"black\" font-family=\"Arial\" font-size=\"14.00\"  text-anchor=\"end\">\n",
       "\t\t<text><tspan font-family=\"Arial\" >-10</tspan></text>\n",
       "\t</g>\n",
       "</g>\n",
       "<g fill=\"none\" color=\"black\" stroke=\"currentColor\" stroke-width=\"1.00\" stroke-linecap=\"butt\" stroke-linejoin=\"miter\">\n",
       "\t<path stroke='black'  d='M74.3,154.9 L84.8,154.9 M570.8,154.9 L560.3,154.9  '/>\t<g transform=\"translate(64.6,159.5)\" stroke=\"none\" fill=\"black\" font-family=\"Arial\" font-size=\"14.00\"  text-anchor=\"end\">\n",
       "\t\t<text><tspan font-family=\"Arial\" > 0</tspan></text>\n",
       "\t</g>\n",
       "</g>\n",
       "<g fill=\"none\" color=\"black\" stroke=\"currentColor\" stroke-width=\"1.00\" stroke-linecap=\"butt\" stroke-linejoin=\"miter\">\n",
       "\t<path stroke='black'  d='M74.3,92.8 L84.8,92.8 M570.8,92.8 L560.3,92.8  '/>\t<g transform=\"translate(64.6,97.4)\" stroke=\"none\" fill=\"black\" font-family=\"Arial\" font-size=\"14.00\"  text-anchor=\"end\">\n",
       "\t\t<text><tspan font-family=\"Arial\" > 10</tspan></text>\n",
       "\t</g>\n",
       "</g>\n",
       "<g fill=\"none\" color=\"black\" stroke=\"currentColor\" stroke-width=\"1.00\" stroke-linecap=\"butt\" stroke-linejoin=\"miter\">\n",
       "\t<path stroke='black'  d='M74.3,30.8 L84.8,30.8 M570.8,30.8 L560.3,30.8  '/>\t<g transform=\"translate(64.6,35.4)\" stroke=\"none\" fill=\"black\" font-family=\"Arial\" font-size=\"14.00\"  text-anchor=\"end\">\n",
       "\t\t<text><tspan font-family=\"Arial\" > 20</tspan></text>\n",
       "\t</g>\n",
       "</g>\n",
       "<g fill=\"none\" color=\"black\" stroke=\"currentColor\" stroke-width=\"1.00\" stroke-linecap=\"butt\" stroke-linejoin=\"miter\">\n",
       "\t<path stroke='black'  d='M74.3,403.1 L74.3,392.6 M74.3,30.8 L74.3,41.3  '/>\t<g transform=\"translate(74.3,428.7)\" stroke=\"none\" fill=\"black\" font-family=\"Arial\" font-size=\"14.00\"  text-anchor=\"middle\">\n",
       "\t\t<text><tspan font-family=\"Arial\" >-10</tspan></text>\n",
       "\t</g>\n",
       "</g>\n",
       "<g fill=\"none\" color=\"black\" stroke=\"currentColor\" stroke-width=\"1.00\" stroke-linecap=\"butt\" stroke-linejoin=\"miter\">\n",
       "\t<path stroke='black'  d='M129.5,403.1 L129.5,392.6 M129.5,30.8 L129.5,41.3  '/>\t<g transform=\"translate(129.5,428.7)\" stroke=\"none\" fill=\"black\" font-family=\"Arial\" font-size=\"14.00\"  text-anchor=\"middle\">\n",
       "\t\t<text><tspan font-family=\"Arial\" >-8</tspan></text>\n",
       "\t</g>\n",
       "</g>\n",
       "<g fill=\"none\" color=\"black\" stroke=\"currentColor\" stroke-width=\"1.00\" stroke-linecap=\"butt\" stroke-linejoin=\"miter\">\n",
       "\t<path stroke='black'  d='M184.6,403.1 L184.6,392.6 M184.6,30.8 L184.6,41.3  '/>\t<g transform=\"translate(184.6,428.7)\" stroke=\"none\" fill=\"black\" font-family=\"Arial\" font-size=\"14.00\"  text-anchor=\"middle\">\n",
       "\t\t<text><tspan font-family=\"Arial\" >-6</tspan></text>\n",
       "\t</g>\n",
       "</g>\n",
       "<g fill=\"none\" color=\"black\" stroke=\"currentColor\" stroke-width=\"1.00\" stroke-linecap=\"butt\" stroke-linejoin=\"miter\">\n",
       "\t<path stroke='black'  d='M239.8,403.1 L239.8,392.6 M239.8,30.8 L239.8,41.3  '/>\t<g transform=\"translate(239.8,428.7)\" stroke=\"none\" fill=\"black\" font-family=\"Arial\" font-size=\"14.00\"  text-anchor=\"middle\">\n",
       "\t\t<text><tspan font-family=\"Arial\" >-4</tspan></text>\n",
       "\t</g>\n",
       "</g>\n",
       "<g fill=\"none\" color=\"black\" stroke=\"currentColor\" stroke-width=\"1.00\" stroke-linecap=\"butt\" stroke-linejoin=\"miter\">\n",
       "\t<path stroke='black'  d='M295.0,403.1 L295.0,392.6 M295.0,30.8 L295.0,41.3  '/>\t<g transform=\"translate(295.0,428.7)\" stroke=\"none\" fill=\"black\" font-family=\"Arial\" font-size=\"14.00\"  text-anchor=\"middle\">\n",
       "\t\t<text><tspan font-family=\"Arial\" >-2</tspan></text>\n",
       "\t</g>\n",
       "</g>\n",
       "<g fill=\"none\" color=\"black\" stroke=\"currentColor\" stroke-width=\"1.00\" stroke-linecap=\"butt\" stroke-linejoin=\"miter\">\n",
       "\t<path stroke='black'  d='M350.1,403.1 L350.1,392.6 M350.1,30.8 L350.1,41.3  '/>\t<g transform=\"translate(350.1,428.7)\" stroke=\"none\" fill=\"black\" font-family=\"Arial\" font-size=\"14.00\"  text-anchor=\"middle\">\n",
       "\t\t<text><tspan font-family=\"Arial\" > 0</tspan></text>\n",
       "\t</g>\n",
       "</g>\n",
       "<g fill=\"none\" color=\"black\" stroke=\"currentColor\" stroke-width=\"1.00\" stroke-linecap=\"butt\" stroke-linejoin=\"miter\">\n",
       "\t<path stroke='black'  d='M405.3,403.1 L405.3,392.6 M405.3,30.8 L405.3,41.3  '/>\t<g transform=\"translate(405.3,428.7)\" stroke=\"none\" fill=\"black\" font-family=\"Arial\" font-size=\"14.00\"  text-anchor=\"middle\">\n",
       "\t\t<text><tspan font-family=\"Arial\" > 2</tspan></text>\n",
       "\t</g>\n",
       "</g>\n",
       "<g fill=\"none\" color=\"black\" stroke=\"currentColor\" stroke-width=\"1.00\" stroke-linecap=\"butt\" stroke-linejoin=\"miter\">\n",
       "\t<path stroke='black'  d='M460.5,403.1 L460.5,392.6 M460.5,30.8 L460.5,41.3  '/>\t<g transform=\"translate(460.5,428.7)\" stroke=\"none\" fill=\"black\" font-family=\"Arial\" font-size=\"14.00\"  text-anchor=\"middle\">\n",
       "\t\t<text><tspan font-family=\"Arial\" > 4</tspan></text>\n",
       "\t</g>\n",
       "</g>\n",
       "<g fill=\"none\" color=\"black\" stroke=\"currentColor\" stroke-width=\"1.00\" stroke-linecap=\"butt\" stroke-linejoin=\"miter\">\n",
       "\t<path stroke='black'  d='M515.6,403.1 L515.6,392.6 M515.6,30.8 L515.6,41.3  '/>\t<g transform=\"translate(515.6,428.7)\" stroke=\"none\" fill=\"black\" font-family=\"Arial\" font-size=\"14.00\"  text-anchor=\"middle\">\n",
       "\t\t<text><tspan font-family=\"Arial\" > 6</tspan></text>\n",
       "\t</g>\n",
       "</g>\n",
       "<g fill=\"none\" color=\"black\" stroke=\"currentColor\" stroke-width=\"1.00\" stroke-linecap=\"butt\" stroke-linejoin=\"miter\">\n",
       "\t<path stroke='black'  d='M570.8,403.1 L570.8,392.6 M570.8,30.8 L570.8,41.3  '/>\t<g transform=\"translate(570.8,428.7)\" stroke=\"none\" fill=\"black\" font-family=\"Arial\" font-size=\"14.00\"  text-anchor=\"middle\">\n",
       "\t\t<text><tspan font-family=\"Arial\" > 8</tspan></text>\n",
       "\t</g>\n",
       "</g>\n",
       "<g fill=\"none\" color=\"black\" stroke=\"currentColor\" stroke-width=\"1.00\" stroke-linecap=\"butt\" stroke-linejoin=\"miter\">\n",
       "</g>\n",
       "<g fill=\"none\" color=\"gray\" stroke=\"currentColor\" stroke-width=\"1.00\" stroke-linecap=\"butt\" stroke-linejoin=\"miter\">\n",
       "\t<path stroke='black' stroke-dasharray='2,4'  d='M74.3,154.9 L570.8,154.9  '/></g>\n",
       "<g fill=\"none\" color=\"gray\" stroke=\"currentColor\" stroke-width=\"1.00\" stroke-linecap=\"butt\" stroke-linejoin=\"miter\">\n",
       "\t<path stroke='black' stroke-dasharray='2,4'  d='M350.1,403.1 L350.1,30.8  '/></g>\n",
       "<g fill=\"none\" color=\"gray\" stroke=\"black\" stroke-width=\"2.00\" stroke-linecap=\"butt\" stroke-linejoin=\"miter\">\n",
       "</g>\n",
       "<g fill=\"none\" color=\"black\" stroke=\"currentColor\" stroke-width=\"2.00\" stroke-linecap=\"butt\" stroke-linejoin=\"miter\">\n",
       "</g>\n",
       "<g fill=\"none\" color=\"black\" stroke=\"black\" stroke-width=\"1.00\" stroke-linecap=\"butt\" stroke-linejoin=\"miter\">\n",
       "</g>\n",
       "<g fill=\"none\" color=\"black\" stroke=\"currentColor\" stroke-width=\"1.00\" stroke-linecap=\"butt\" stroke-linejoin=\"miter\">\n",
       "\t<path stroke='black'  d='M74.3,30.8 L74.3,403.1 L570.8,403.1 L570.8,30.8 L74.3,30.8 Z  '/></g>\n",
       "<g fill=\"none\" color=\"black\" stroke=\"currentColor\" stroke-width=\"1.00\" stroke-linecap=\"butt\" stroke-linejoin=\"miter\">\n",
       "</g>\n",
       "</g>\n",
       "</svg>\n",
       "\n"
      ],
      "text/plain": [
       "/tmp/maxplot.svg"
      ]
     },
     "metadata": {},
     "output_type": "display_data"
    }
   ],
   "source": [
    "plot2d(rhs (sol), [x,-10,8], [y,-40,20])$"
   ]
  },
  {
   "cell_type": "markdown",
   "metadata": {},
   "source": [
    "Let's use this solution to compare some values with our Euler's method approximation:"
   ]
  },
  {
   "cell_type": "code",
   "execution_count": 11,
   "metadata": {},
   "outputs": [
    {
     "data": {
      "text/latex": [
       "\\[\\tag{${\\it \\%o}_{13}$}\\left[ 5.0 , 9.945199309465412 , 13.26006553824168 , 15.48208682131697 , 16.97155223008017 , 17.96997075145081 , 18.63923070065881 \\right] \\]"
      ],
      "text/plain": [
       "(%o13) [5.0, 9.945199309465412, 13.26006553824168, 15.48208682131697, \n",
       "                       16.97155223008017, 17.96997075145081, 18.63923070065881]"
      ],
      "text/x-maxima": [
       "[5.0,9.945199309465412,13.26006553824168,15.48208682131697,16.97155223008017,\n",
       " 17.96997075145081,18.63923070065881]"
      ]
     },
     "execution_count": 11,
     "metadata": {},
     "output_type": "execute_result"
    },
    {
     "data": {
      "text/latex": [
       "\\[\\tag{${\\it \\%o}_{14}$}\\left[ 5 , 11.0 , 14.6 , 16.76 , 18.056 , 18.8336 , 19.30016 , 19.580096 \\right] \\]"
      ],
      "text/plain": [
       "(%o14)   [5, 11.0, 14.6, 16.76, 18.056, 18.8336, 19.30016, 19.580096]"
      ],
      "text/x-maxima": [
       "[5,11.0,14.6,16.76,18.056,18.8336,19.30016,19.580096]"
      ]
     },
     "execution_count": 11,
     "metadata": {},
     "output_type": "execute_result"
    }
   ],
   "source": [
    "ic1_vals: map(lambda([s], float(ev(rhs(sol), x=s))), [0,2,4,6,8,10,12]);\n",
    "approx_vals: map(second, firstn(xy0, 8));"
   ]
  },
  {
   "cell_type": "code",
   "execution_count": 12,
   "metadata": {},
   "outputs": [
    {
     "name": "stdout",
     "output_type": "stream",
     "text": [
      "\n",
      "Type (to-maxima) to restart, ($quit) to quit Maxima.\n"
     ]
    }
   ],
   "source": [
    "to_lisp()$"
   ]
  },
  {
   "cell_type": "markdown",
   "metadata": {},
   "source": [
    "Let's look at the differences between the two outputs above (element-wise). To be clear, this will show how far off the approximate result is from the Maxima ODE numerical solution result. \n",
    "\n",
    "First we'll define some helper functions in Lisp, then we'll use those to create a function that actually computes the differences."
   ]
  },
  {
   "cell_type": "code",
   "execution_count": 13,
   "metadata": {},
   "outputs": [
    {
     "data": {
      "text/plain": [
       "MAXIMA->"
      ]
     },
     "execution_count": 13,
     "metadata": {},
     "output_type": "execute_result"
    },
    {
     "data": {
      "text/plain": [
       "INTERLEAVE"
      ]
     },
     "execution_count": 13,
     "metadata": {},
     "output_type": "execute_result"
    },
    {
     "data": {
      "text/plain": [
       "GROUP-N"
      ]
     },
     "execution_count": 13,
     "metadata": {},
     "output_type": "execute_result"
    },
    {
     "data": {
      "text/plain": [
       "$GET_DIFFERENCES"
      ]
     },
     "execution_count": 13,
     "metadata": {},
     "output_type": "execute_result"
    }
   ],
   "source": [
    "(defun maxima-> (data)\n",
    "  \"Quick little utility function that converts Maxima `mlist`s to a regular Lisp list.\"\n",
    "  (cdr data))\n",
    "  \n",
    "(defun interleave (data1 data2)\n",
    "  \"Given two lists, combine them returning a list wHere the elements are alternated such\n",
    "  that the first two elements are the first element of `data1` and `data2`, respectively;\n",
    "  the next two elements are the second element of `data1` and `data2`, etc.\"\n",
    "  (if (and (not (null data1)) (not (null data2)))\n",
    "    (cons (car data1) (cons (car data2)\n",
    "                            (interleave (cdr data1) (cdr data2))))))\n",
    "\n",
    "(defun group-n (data count)\n",
    "  \"Given a list of elements, group them into sublists, each of length `count`. For example,\n",
    "  a list of 10 elements passed with `count` equal to `2` will be returned as a list of \n",
    "  five elements, where each of those is two elements long. Similarly, that same list \n",
    "  passed with a count of `5` would return a list of two elements where each element was a\n",
    "  sublist five elements (representing the first five elements of the original list in the\n",
    "  first sublist and the last five elements of the original list in the second sublist).\"\n",
    "  (if (not (null data))\n",
    "    (cons (subseq data 0 count)\n",
    "          (group-n (subseq data count) count))))\n",
    "\n",
    "(defun $get_differences (data1 data2)\n",
    "  \"Given two lists, pair each element of the two lists together, then subtract the \n",
    "  second element of each pair from the first element of each pair, returning a list\n",
    "  of floating point numbers that represent the difference between corresponding \n",
    "  values.\n",
    "  \n",
    "  This function is indented to be run from Maxima, taking Maxiam-style lists as \n",
    "  arguments.\"\n",
    "  (cons '(mlist)\n",
    "        (mapcar (lambda (x) (apply #'- x)) \n",
    "                (group-n (interleave (maxima-> data1) (maxima-> data2)) 2))))"
   ]
  },
  {
   "cell_type": "code",
   "execution_count": 14,
   "metadata": {},
   "outputs": [
    {
     "name": "stdout",
     "output_type": "stream",
     "text": [
      "Returning to Maxima\n"
     ]
    }
   ],
   "source": [
    "(to-maxima)"
   ]
  },
  {
   "cell_type": "markdown",
   "metadata": {},
   "source": [
    "Now we can do the actual calculation to see how much the approximation differs from the actual solution:"
   ]
  },
  {
   "cell_type": "code",
   "execution_count": 15,
   "metadata": {},
   "outputs": [
    {
     "data": {
      "text/latex": [
       "\\[\\tag{${\\it \\%o}_{16}$}\\left[ 0.0 , 1.054800690534588 , 1.339934461758324 , 1.277913178683031 , 1.08444776991983 , 0.8636292485491843 , 0.6609292993411842 \\right] \\]"
      ],
      "text/plain": [
       "(%o16) [0.0, 1.054800690534588, 1.339934461758324, 1.277913178683031, \n",
       "                      1.08444776991983, 0.8636292485491843, 0.6609292993411842]"
      ],
      "text/x-maxima": [
       "[0.0,1.054800690534588,1.339934461758324,1.277913178683031,1.08444776991983,\n",
       " 0.8636292485491843,0.6609292993411842]"
      ]
     },
     "execution_count": 15,
     "metadata": {},
     "output_type": "execute_result"
    }
   ],
   "source": [
    "get_differences(approx_vals, ic1_vals);"
   ]
  },
  {
   "cell_type": "markdown",
   "metadata": {},
   "source": [
    "Now let's compare the solution above with our approximations from Eurler's method:"
   ]
  },
  {
   "cell_type": "code",
   "execution_count": 16,
   "metadata": {},
   "outputs": [
    {
     "data": {
      "image/svg+xml": [
       "<?xml version=\"1.0\" encoding=\"utf-8\"  standalone=\"no\"?>\n",
       "<svg \n",
       " width=\"600\" height=\"480\"\n",
       " viewBox=\"0 0 600 480\"\n",
       " xmlns=\"http://www.w3.org/2000/svg\"\n",
       " xmlns:xlink=\"http://www.w3.org/1999/xlink\"\n",
       ">\n",
       "\n",
       "<title>Gnuplot</title>\n",
       "<desc>Produced by GNUPLOT 5.2 patchlevel 7 </desc>\n",
       "\n",
       "<g id=\"gnuplot_canvas\">\n",
       "\n",
       "<rect x=\"0\" y=\"0\" width=\"600\" height=\"480\" fill=\"none\"/>\n",
       "<defs>\n",
       "\n",
       "\t<circle id='gpDot' r='0.5' stroke-width='0.5' stroke='currentColor'/>\n",
       "\t<path id='gpPt0' stroke-width='0.190' stroke='currentColor' d='M-1,0 h2 M0,-1 v2'/>\n",
       "\t<path id='gpPt1' stroke-width='0.190' stroke='currentColor' d='M-1,-1 L1,1 M1,-1 L-1,1'/>\n",
       "\t<path id='gpPt2' stroke-width='0.190' stroke='currentColor' d='M-1,0 L1,0 M0,-1 L0,1 M-1,-1 L1,1 M-1,1 L1,-1'/>\n",
       "\t<rect id='gpPt3' stroke-width='0.190' stroke='currentColor' x='-1' y='-1' width='2' height='2'/>\n",
       "\t<rect id='gpPt4' stroke-width='0.190' stroke='currentColor' fill='currentColor' x='-1' y='-1' width='2' height='2'/>\n",
       "\t<circle id='gpPt5' stroke-width='0.190' stroke='currentColor' cx='0' cy='0' r='1'/>\n",
       "\t<use xlink:href='#gpPt5' id='gpPt6' fill='currentColor' stroke='none'/>\n",
       "\t<path id='gpPt7' stroke-width='0.190' stroke='currentColor' d='M0,-1.33 L-1.33,0.67 L1.33,0.67 z'/>\n",
       "\t<use xlink:href='#gpPt7' id='gpPt8' fill='currentColor' stroke='none'/>\n",
       "\t<use xlink:href='#gpPt7' id='gpPt9' stroke='currentColor' transform='rotate(180)'/>\n",
       "\t<use xlink:href='#gpPt9' id='gpPt10' fill='currentColor' stroke='none'/>\n",
       "\t<use xlink:href='#gpPt3' id='gpPt11' stroke='currentColor' transform='rotate(45)'/>\n",
       "\t<use xlink:href='#gpPt11' id='gpPt12' fill='currentColor' stroke='none'/>\n",
       "\t<path id='gpPt13' stroke-width='0.190' stroke='currentColor' d='M0,1.330 L1.265,0.411 L0.782,-1.067 L-0.782,-1.076 L-1.265,0.411 z'/>\n",
       "\t<use xlink:href='#gpPt13' id='gpPt14' fill='currentColor' stroke='none'/>\n",
       "\t<filter id='textbox' filterUnits='objectBoundingBox' x='0' y='0' height='1' width='1'>\n",
       "\t  <feFlood flood-color='white' flood-opacity='1' result='bgnd'/>\n",
       "\t  <feComposite in='SourceGraphic' in2='bgnd' operator='atop'/>\n",
       "\t</filter>\n",
       "\t<filter id='greybox' filterUnits='objectBoundingBox' x='0' y='0' height='1' width='1'>\n",
       "\t  <feFlood flood-color='lightgrey' flood-opacity='1' result='grey'/>\n",
       "\t  <feComposite in='SourceGraphic' in2='grey' operator='atop'/>\n",
       "\t</filter>\n",
       "</defs>\n",
       "<g fill=\"none\" color=\"white\" stroke=\"currentColor\" stroke-width=\"1.00\" stroke-linecap=\"butt\" stroke-linejoin=\"miter\">\n",
       "</g>\n",
       "<g fill=\"none\" color=\"gray\" stroke=\"currentColor\" stroke-width=\"1.00\" stroke-linecap=\"butt\" stroke-linejoin=\"miter\">\n",
       "\t<path stroke='black' stroke-dasharray='2,4'  d='M53.3,411.0 L570.8,411.0  '/></g>\n",
       "<g fill=\"none\" color=\"gray\" stroke=\"currentColor\" stroke-width=\"1.00\" stroke-linecap=\"butt\" stroke-linejoin=\"miter\">\n",
       "\t<path stroke='black' stroke-dasharray='2,4'  d='M53.3,411.0 L53.3,22.9  '/></g>\n",
       "<g fill=\"none\" color=\"black\" stroke=\"currentColor\" stroke-width=\"1.00\" stroke-linecap=\"butt\" stroke-linejoin=\"miter\">\n",
       "\t<path stroke='black'  d='M53.3,22.9 L53.3,411.0 L570.8,411.0 L570.8,22.9 L53.3,22.9 Z  '/></g>\n",
       "<g fill=\"none\" color=\"black\" stroke=\"currentColor\" stroke-width=\"1.00\" stroke-linecap=\"butt\" stroke-linejoin=\"miter\">\n",
       "\t<g transform=\"translate(312.0,468.1)\" stroke=\"none\" fill=\"black\" font-family=\"Arial\" font-size=\"14.00\"  text-anchor=\"middle\">\n",
       "\t\t<text><tspan font-family=\"Arial\" >x</tspan></text>\n",
       "\t</g>\n",
       "</g>\n",
       "<g fill=\"none\" color=\"black\" stroke=\"currentColor\" stroke-width=\"1.00\" stroke-linecap=\"butt\" stroke-linejoin=\"miter\">\n",
       "</g>\n",
       "\t<g id=\"gnuplot_plot_1\" ><title>discrete1</title>\n",
       "<g fill=\"none\" color=\"black\" stroke=\"currentColor\" stroke-width=\"1.00\" stroke-linecap=\"butt\" stroke-linejoin=\"miter\">\n",
       "\t<g transform=\"translate(492.4,331.6)\" stroke=\"none\" fill=\"black\" font-family=\"Arial\" font-size=\"14.00\"  text-anchor=\"end\">\n",
       "\t\t<text><tspan font-family=\"Arial\" >discrete1</tspan></text>\n",
       "\t</g>\n",
       "</g>\n",
       "<g fill=\"none\" color=\"black\" stroke=\"currentColor\" stroke-width=\"1.00\" stroke-linecap=\"butt\" stroke-linejoin=\"miter\">\n",
       "\t<path stroke='rgb(  0,   0, 255)'  d='M502.1,327.0 L551.4,327.0 M53.3,314.0 L156.8,197.5 L260.3,127.7 L363.8,85.8 L467.3,60.6 L570.8,45.5\n",
       "\t\t '/></g>\n",
       "\t</g>\n",
       "\t<g id=\"gnuplot_plot_2\" ><title>discrete2</title>\n",
       "<g fill=\"none\" color=\"black\" stroke=\"currentColor\" stroke-width=\"1.00\" stroke-linecap=\"butt\" stroke-linejoin=\"miter\">\n",
       "\t<g transform=\"translate(492.4,352.6)\" stroke=\"none\" fill=\"black\" font-family=\"Arial\" font-size=\"14.00\"  text-anchor=\"end\">\n",
       "\t\t<text><tspan font-family=\"Arial\" >discrete2</tspan></text>\n",
       "\t</g>\n",
       "</g>\n",
       "<g fill=\"none\" color=\"black\" stroke=\"currentColor\" stroke-width=\"1.00\" stroke-linecap=\"butt\" stroke-linejoin=\"miter\">\n",
       "\t<path stroke='rgb(255,   0,   0)'  d='M502.1,348.0 L551.4,348.0 M53.3,314.0 L105.1,255.8 L156.8,209.2 L208.6,171.9 L260.3,142.1 L312.1,118.3\n",
       "\t\tL363.8,99.2 L415.6,83.9 L467.3,71.7 L519.1,62.0 L570.8,54.2  '/></g>\n",
       "\t</g>\n",
       "\t<g id=\"gnuplot_plot_3\" ><title>discrete3</title>\n",
       "<g fill=\"none\" color=\"black\" stroke=\"currentColor\" stroke-width=\"1.00\" stroke-linecap=\"butt\" stroke-linejoin=\"miter\">\n",
       "\t<g transform=\"translate(492.4,373.6)\" stroke=\"none\" fill=\"black\" font-family=\"Arial\" font-size=\"14.00\"  text-anchor=\"end\">\n",
       "\t\t<text><tspan font-family=\"Arial\" >discrete3</tspan></text>\n",
       "\t</g>\n",
       "</g>\n",
       "<g fill=\"none\" color=\"black\" stroke=\"currentColor\" stroke-width=\"1.00\" stroke-linecap=\"butt\" stroke-linejoin=\"miter\">\n",
       "\t<path stroke='rgb(  0, 255,   0)'  d='M502.1,369.0 L551.4,369.0 M53.3,314.0 L79.2,284.9 L105.1,258.7 L130.9,235.1 L156.8,213.9 L182.7,194.8\n",
       "\t\tL208.6,177.6 L234.4,162.1 L260.3,148.2 L286.2,135.7 L312.1,124.4 L337.9,114.2 L363.8,105.1 L389.7,96.9\n",
       "\t\tL415.6,89.5 L441.4,82.8 L467.3,76.8 L493.2,71.4 L519.1,66.6 L544.9,62.2 L570.8,58.3  '/></g>\n",
       "\t</g>\n",
       "\t<g id=\"gnuplot_plot_4\" ><title>%e-(x/5)*(20*%e(x/5)-15)</title>\n",
       "<g fill=\"none\" color=\"black\" stroke=\"currentColor\" stroke-width=\"1.00\" stroke-linecap=\"butt\" stroke-linejoin=\"miter\">\n",
       "\t<g transform=\"translate(492.4,394.6)\" stroke=\"none\" fill=\"black\" font-family=\"Arial\" font-size=\"14.00\"  text-anchor=\"end\">\n",
       "\t\t<text><tspan font-family=\"Arial\" >%e</tspan><tspan font-family=\"Arial\"  font-size=\"11.2\" dy=\"-7.00px\">-</tspan><tspan font-family=\"Arial\"  font-size=\"14.0\" dy=\"7.00px\">(x/5)*(20*%e</tspan><tspan font-family=\"Arial\"  font-size=\"11.2\" dy=\"-7.00px\">(</tspan><tspan font-family=\"Arial\"  font-size=\"14.0\" dy=\"7.00px\">x/5)-15)</tspan></text>\n",
       "\t</g>\n",
       "</g>\n",
       "<g fill=\"none\" color=\"black\" stroke=\"currentColor\" stroke-width=\"1.00\" stroke-linecap=\"butt\" stroke-linejoin=\"miter\">\n",
       "\t<path stroke='rgb(255,   0, 255)'  d='M502.1,390.0 L551.4,390.0 M53.3,314.0 L57.8,309.0 L62.2,304.1 L66.7,299.3 L71.1,294.6 L75.6,289.9\n",
       "\t\tL80.1,285.4 L84.5,280.9 L89.0,276.5 L93.5,272.1 L97.9,267.9 L102.4,263.7 L106.8,259.6 L111.3,255.5\n",
       "\t\tL115.8,251.6 L120.2,247.6 L124.7,243.8 L129.1,240.0 L133.6,236.3 L138.1,232.7 L142.5,229.1 L147.0,225.6\n",
       "\t\tL151.4,222.1 L155.9,218.7 L160.4,215.3 L164.8,212.1 L169.3,208.8 L173.8,205.6 L178.2,202.5 L182.7,199.4\n",
       "\t\tL187.1,196.4 L191.6,193.5 L196.1,190.5 L200.5,187.7 L205.0,184.9 L209.4,182.1 L213.9,179.4 L218.4,176.7\n",
       "\t\tL222.8,174.1 L227.3,171.5 L231.7,168.9 L236.2,166.5 L240.7,164.0 L245.1,161.6 L249.6,159.2 L254.1,156.9\n",
       "\t\tL258.5,154.6 L263.0,152.3 L267.4,150.1 L271.9,148.0 L276.4,145.8 L280.8,143.7 L285.3,141.7 L289.7,139.6\n",
       "\t\tL294.2,137.6 L298.7,135.7 L303.1,133.7 L307.6,131.8 L312.1,130.0 L316.5,128.2 L321.0,126.4 L325.4,124.6\n",
       "\t\tL329.9,122.8 L334.4,121.1 L338.8,119.5 L343.3,117.8 L347.7,116.2 L352.2,114.6 L356.7,113.0 L361.1,111.5\n",
       "\t\tL365.6,110.0 L370.0,108.5 L374.5,107.0 L379.0,105.6 L383.4,104.2 L387.9,102.8 L392.4,101.4 L396.8,100.1\n",
       "\t\tL401.3,98.7 L405.7,97.5 L410.2,96.2 L414.7,94.9 L419.1,93.7 L423.6,92.5 L428.0,91.3 L432.5,90.1\n",
       "\t\tL437.0,89.0 L441.4,87.8 L445.9,86.7 L450.3,85.6 L454.8,84.6 L459.3,83.5 L463.7,82.5 L468.2,81.5\n",
       "\t\tL472.7,80.5 L477.1,79.5 L481.6,78.5 L486.0,77.6 L490.5,76.6 L495.0,75.7 L499.4,74.8 L503.9,73.9\n",
       "\t\tL508.3,73.0 L512.8,72.2 L517.3,71.3 L521.7,70.5 L526.2,69.7 L530.6,68.9 L535.1,68.1 L539.6,67.3\n",
       "\t\tL544.0,66.6 L548.5,65.8 L553.0,65.1 L557.4,64.4 L561.9,63.7 L566.3,63.0 L570.8,62.3  '/></g>\n",
       "\t</g>\n",
       "<g fill=\"none\" color=\"black\" stroke=\"currentColor\" stroke-width=\"1.00\" stroke-linecap=\"butt\" stroke-linejoin=\"miter\">\n",
       "\t<path stroke='black'  d='M53.3,411.0 L63.8,411.0 M570.8,411.0 L560.3,411.0  '/>\t<g transform=\"translate(43.6,415.6)\" stroke=\"none\" fill=\"black\" font-family=\"Arial\" font-size=\"14.00\"  text-anchor=\"end\">\n",
       "\t\t<text><tspan font-family=\"Arial\" > 0</tspan></text>\n",
       "\t</g>\n",
       "</g>\n",
       "<g fill=\"none\" color=\"black\" stroke=\"currentColor\" stroke-width=\"1.00\" stroke-linecap=\"butt\" stroke-linejoin=\"miter\">\n",
       "\t<path stroke='black'  d='M53.3,314.0 L63.8,314.0 M570.8,314.0 L560.3,314.0  '/>\t<g transform=\"translate(43.6,318.6)\" stroke=\"none\" fill=\"black\" font-family=\"Arial\" font-size=\"14.00\"  text-anchor=\"end\">\n",
       "\t\t<text><tspan font-family=\"Arial\" > 5</tspan></text>\n",
       "\t</g>\n",
       "</g>\n",
       "<g fill=\"none\" color=\"black\" stroke=\"currentColor\" stroke-width=\"1.00\" stroke-linecap=\"butt\" stroke-linejoin=\"miter\">\n",
       "\t<path stroke='black'  d='M53.3,216.9 L63.8,216.9 M570.8,216.9 L560.3,216.9  '/>\t<g transform=\"translate(43.6,221.5)\" stroke=\"none\" fill=\"black\" font-family=\"Arial\" font-size=\"14.00\"  text-anchor=\"end\">\n",
       "\t\t<text><tspan font-family=\"Arial\" > 10</tspan></text>\n",
       "\t</g>\n",
       "</g>\n",
       "<g fill=\"none\" color=\"black\" stroke=\"currentColor\" stroke-width=\"1.00\" stroke-linecap=\"butt\" stroke-linejoin=\"miter\">\n",
       "\t<path stroke='black'  d='M53.3,119.9 L63.8,119.9 M570.8,119.9 L560.3,119.9  '/>\t<g transform=\"translate(43.6,124.5)\" stroke=\"none\" fill=\"black\" font-family=\"Arial\" font-size=\"14.00\"  text-anchor=\"end\">\n",
       "\t\t<text><tspan font-family=\"Arial\" > 15</tspan></text>\n",
       "\t</g>\n",
       "</g>\n",
       "<g fill=\"none\" color=\"black\" stroke=\"currentColor\" stroke-width=\"1.00\" stroke-linecap=\"butt\" stroke-linejoin=\"miter\">\n",
       "\t<path stroke='black'  d='M53.3,22.9 L63.8,22.9 M570.8,22.9 L560.3,22.9  '/>\t<g transform=\"translate(43.6,27.5)\" stroke=\"none\" fill=\"black\" font-family=\"Arial\" font-size=\"14.00\"  text-anchor=\"end\">\n",
       "\t\t<text><tspan font-family=\"Arial\" > 20</tspan></text>\n",
       "\t</g>\n",
       "</g>\n",
       "<g fill=\"none\" color=\"black\" stroke=\"currentColor\" stroke-width=\"1.00\" stroke-linecap=\"butt\" stroke-linejoin=\"miter\">\n",
       "\t<path stroke='black'  d='M53.3,411.0 L53.3,400.5 M53.3,22.9 L53.3,33.4  '/>\t<g transform=\"translate(53.3,436.6)\" stroke=\"none\" fill=\"black\" font-family=\"Arial\" font-size=\"14.00\"  text-anchor=\"middle\">\n",
       "\t\t<text><tspan font-family=\"Arial\" > 0</tspan></text>\n",
       "\t</g>\n",
       "</g>\n",
       "<g fill=\"none\" color=\"black\" stroke=\"currentColor\" stroke-width=\"1.00\" stroke-linecap=\"butt\" stroke-linejoin=\"miter\">\n",
       "\t<path stroke='black'  d='M156.8,411.0 L156.8,400.5 M156.8,22.9 L156.8,33.4  '/>\t<g transform=\"translate(156.8,436.6)\" stroke=\"none\" fill=\"black\" font-family=\"Arial\" font-size=\"14.00\"  text-anchor=\"middle\">\n",
       "\t\t<text><tspan font-family=\"Arial\" > 2</tspan></text>\n",
       "\t</g>\n",
       "</g>\n",
       "<g fill=\"none\" color=\"black\" stroke=\"currentColor\" stroke-width=\"1.00\" stroke-linecap=\"butt\" stroke-linejoin=\"miter\">\n",
       "\t<path stroke='black'  d='M260.3,411.0 L260.3,400.5 M260.3,22.9 L260.3,33.4  '/>\t<g transform=\"translate(260.3,436.6)\" stroke=\"none\" fill=\"black\" font-family=\"Arial\" font-size=\"14.00\"  text-anchor=\"middle\">\n",
       "\t\t<text><tspan font-family=\"Arial\" > 4</tspan></text>\n",
       "\t</g>\n",
       "</g>\n",
       "<g fill=\"none\" color=\"black\" stroke=\"currentColor\" stroke-width=\"1.00\" stroke-linecap=\"butt\" stroke-linejoin=\"miter\">\n",
       "\t<path stroke='black'  d='M363.8,411.0 L363.8,400.5 M363.8,22.9 L363.8,33.4  '/>\t<g transform=\"translate(363.8,436.6)\" stroke=\"none\" fill=\"black\" font-family=\"Arial\" font-size=\"14.00\"  text-anchor=\"middle\">\n",
       "\t\t<text><tspan font-family=\"Arial\" > 6</tspan></text>\n",
       "\t</g>\n",
       "</g>\n",
       "<g fill=\"none\" color=\"black\" stroke=\"currentColor\" stroke-width=\"1.00\" stroke-linecap=\"butt\" stroke-linejoin=\"miter\">\n",
       "\t<path stroke='black'  d='M467.3,411.0 L467.3,400.5 M467.3,22.9 L467.3,33.4  '/>\t<g transform=\"translate(467.3,436.6)\" stroke=\"none\" fill=\"black\" font-family=\"Arial\" font-size=\"14.00\"  text-anchor=\"middle\">\n",
       "\t\t<text><tspan font-family=\"Arial\" > 8</tspan></text>\n",
       "\t</g>\n",
       "</g>\n",
       "<g fill=\"none\" color=\"black\" stroke=\"currentColor\" stroke-width=\"1.00\" stroke-linecap=\"butt\" stroke-linejoin=\"miter\">\n",
       "\t<path stroke='black'  d='M570.8,411.0 L570.8,400.5 M570.8,22.9 L570.8,33.4  '/>\t<g transform=\"translate(570.8,436.6)\" stroke=\"none\" fill=\"black\" font-family=\"Arial\" font-size=\"14.00\"  text-anchor=\"middle\">\n",
       "\t\t<text><tspan font-family=\"Arial\" > 10</tspan></text>\n",
       "\t</g>\n",
       "</g>\n",
       "<g fill=\"none\" color=\"black\" stroke=\"currentColor\" stroke-width=\"1.00\" stroke-linecap=\"butt\" stroke-linejoin=\"miter\">\n",
       "</g>\n",
       "<g fill=\"none\" color=\"gray\" stroke=\"currentColor\" stroke-width=\"1.00\" stroke-linecap=\"butt\" stroke-linejoin=\"miter\">\n",
       "\t<path stroke='black' stroke-dasharray='2,4'  d='M53.3,411.0 L570.8,411.0  '/></g>\n",
       "<g fill=\"none\" color=\"gray\" stroke=\"currentColor\" stroke-width=\"1.00\" stroke-linecap=\"butt\" stroke-linejoin=\"miter\">\n",
       "\t<path stroke='black' stroke-dasharray='2,4'  d='M53.3,411.0 L53.3,22.9  '/></g>\n",
       "<g fill=\"none\" color=\"gray\" stroke=\"black\" stroke-width=\"2.00\" stroke-linecap=\"butt\" stroke-linejoin=\"miter\">\n",
       "</g>\n",
       "<g fill=\"none\" color=\"black\" stroke=\"currentColor\" stroke-width=\"2.00\" stroke-linecap=\"butt\" stroke-linejoin=\"miter\">\n",
       "</g>\n",
       "<g fill=\"none\" color=\"black\" stroke=\"black\" stroke-width=\"1.00\" stroke-linecap=\"butt\" stroke-linejoin=\"miter\">\n",
       "</g>\n",
       "<g fill=\"none\" color=\"black\" stroke=\"currentColor\" stroke-width=\"1.00\" stroke-linecap=\"butt\" stroke-linejoin=\"miter\">\n",
       "\t<path stroke='black'  d='M53.3,22.9 L53.3,411.0 L570.8,411.0 L570.8,22.9 L53.3,22.9 Z  '/></g>\n",
       "<g fill=\"none\" color=\"black\" stroke=\"currentColor\" stroke-width=\"1.00\" stroke-linecap=\"butt\" stroke-linejoin=\"miter\">\n",
       "</g>\n",
       "</g>\n",
       "</svg>\n",
       "\n"
      ],
      "text/plain": [
       "/tmp/maxplot.svg"
      ]
     },
     "metadata": {},
     "output_type": "display_data"
    }
   ],
   "source": [
    "set_plot_option([svg_file, \"maxplot.svg\"])$\n",
    "plot2d([[discrete,xy0],\n",
    "        [discrete,xy1],\n",
    "        [discrete,xy2],\n",
    "        rhs (sol)], [x, 0, 10], [y, 0, 20],[gnuplot_preamble, \"set key bottom right\"])$"
   ]
  },
  {
   "cell_type": "code",
   "execution_count": null,
   "metadata": {},
   "outputs": [],
   "source": []
  }
 ],
 "metadata": {
  "kernelspec": {
   "display_name": "Maxima",
   "language": "maxima",
   "name": "maxima"
  },
  "language_info": {
   "codemirror_mode": "maxima",
   "file_extension": ".mac",
   "mimetype": "text/x-maxima",
   "name": "maxima",
   "pygments_lexer": "maxima",
   "version": "5.43.0"
  },
  "widgets": {
   "application/vnd.jupyter.widget-state+json": {
    "state": {},
    "version_major": 2,
    "version_minor": 0
   }
  }
 },
 "nbformat": 4,
 "nbformat_minor": 2
}
