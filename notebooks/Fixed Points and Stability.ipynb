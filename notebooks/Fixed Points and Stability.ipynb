{
 "cells": [
  {
   "cell_type": "markdown",
   "metadata": {},
   "source": [
    "# Fixed Points and Stability\n",
    "\n",
    "## Initial setup"
   ]
  },
  {
   "cell_type": "code",
   "execution_count": 1,
   "metadata": {},
   "outputs": [],
   "source": [
    "set_plot_option([svg_file, \"maxplot.svg\"])$"
   ]
  },
  {
   "cell_type": "markdown",
   "metadata": {},
   "source": [
    "## $f(x) = x^2$\n",
    "\n",
    "Let's define and plot a function:"
   ]
  },
  {
   "cell_type": "code",
   "execution_count": 2,
   "metadata": {},
   "outputs": [
    {
     "data": {
      "text/latex": [
       "\\[\\tag{${\\it \\%o}_{3}$}f\\left(x\\right):=x^2\\]"
      ],
      "text/plain": [
       "                                           2\n",
       "(%o3)                             f(x) := x"
      ],
      "text/x-maxima": [
       "f(x):=x^2"
      ]
     },
     "execution_count": 2,
     "metadata": {},
     "output_type": "execute_result"
    }
   ],
   "source": [
    "f(x) := x^2;"
   ]
  },
  {
   "cell_type": "code",
   "execution_count": 3,
   "metadata": {},
   "outputs": [
    {
     "data": {
      "image/svg+xml": [
       "<?xml version=\"1.0\" encoding=\"utf-8\"  standalone=\"no\"?>\n",
       "<svg \n",
       " width=\"600\" height=\"480\"\n",
       " viewBox=\"0 0 600 480\"\n",
       " xmlns=\"http://www.w3.org/2000/svg\"\n",
       " xmlns:xlink=\"http://www.w3.org/1999/xlink\"\n",
       ">\n",
       "\n",
       "<title>Gnuplot</title>\n",
       "<desc>Produced by GNUPLOT 5.2 patchlevel 7 </desc>\n",
       "\n",
       "<g id=\"gnuplot_canvas\">\n",
       "\n",
       "<rect x=\"0\" y=\"0\" width=\"600\" height=\"480\" fill=\"none\"/>\n",
       "<defs>\n",
       "\n",
       "\t<circle id='gpDot' r='0.5' stroke-width='0.5' stroke='currentColor'/>\n",
       "\t<path id='gpPt0' stroke-width='0.190' stroke='currentColor' d='M-1,0 h2 M0,-1 v2'/>\n",
       "\t<path id='gpPt1' stroke-width='0.190' stroke='currentColor' d='M-1,-1 L1,1 M1,-1 L-1,1'/>\n",
       "\t<path id='gpPt2' stroke-width='0.190' stroke='currentColor' d='M-1,0 L1,0 M0,-1 L0,1 M-1,-1 L1,1 M-1,1 L1,-1'/>\n",
       "\t<rect id='gpPt3' stroke-width='0.190' stroke='currentColor' x='-1' y='-1' width='2' height='2'/>\n",
       "\t<rect id='gpPt4' stroke-width='0.190' stroke='currentColor' fill='currentColor' x='-1' y='-1' width='2' height='2'/>\n",
       "\t<circle id='gpPt5' stroke-width='0.190' stroke='currentColor' cx='0' cy='0' r='1'/>\n",
       "\t<use xlink:href='#gpPt5' id='gpPt6' fill='currentColor' stroke='none'/>\n",
       "\t<path id='gpPt7' stroke-width='0.190' stroke='currentColor' d='M0,-1.33 L-1.33,0.67 L1.33,0.67 z'/>\n",
       "\t<use xlink:href='#gpPt7' id='gpPt8' fill='currentColor' stroke='none'/>\n",
       "\t<use xlink:href='#gpPt7' id='gpPt9' stroke='currentColor' transform='rotate(180)'/>\n",
       "\t<use xlink:href='#gpPt9' id='gpPt10' fill='currentColor' stroke='none'/>\n",
       "\t<use xlink:href='#gpPt3' id='gpPt11' stroke='currentColor' transform='rotate(45)'/>\n",
       "\t<use xlink:href='#gpPt11' id='gpPt12' fill='currentColor' stroke='none'/>\n",
       "\t<path id='gpPt13' stroke-width='0.190' stroke='currentColor' d='M0,1.330 L1.265,0.411 L0.782,-1.067 L-0.782,-1.076 L-1.265,0.411 z'/>\n",
       "\t<use xlink:href='#gpPt13' id='gpPt14' fill='currentColor' stroke='none'/>\n",
       "\t<filter id='textbox' filterUnits='objectBoundingBox' x='0' y='0' height='1' width='1'>\n",
       "\t  <feFlood flood-color='white' flood-opacity='1' result='bgnd'/>\n",
       "\t  <feComposite in='SourceGraphic' in2='bgnd' operator='atop'/>\n",
       "\t</filter>\n",
       "\t<filter id='greybox' filterUnits='objectBoundingBox' x='0' y='0' height='1' width='1'>\n",
       "\t  <feFlood flood-color='lightgrey' flood-opacity='1' result='grey'/>\n",
       "\t  <feComposite in='SourceGraphic' in2='grey' operator='atop'/>\n",
       "\t</filter>\n",
       "</defs>\n",
       "<g fill=\"none\" color=\"white\" stroke=\"currentColor\" stroke-width=\"1.00\" stroke-linecap=\"butt\" stroke-linejoin=\"miter\">\n",
       "</g>\n",
       "<g fill=\"none\" color=\"gray\" stroke=\"currentColor\" stroke-width=\"1.00\" stroke-linecap=\"butt\" stroke-linejoin=\"miter\">\n",
       "\t<path stroke='black' stroke-dasharray='2,4'  d='M74.3,403.1 L570.8,403.1  '/></g>\n",
       "<g fill=\"none\" color=\"gray\" stroke=\"currentColor\" stroke-width=\"1.00\" stroke-linecap=\"butt\" stroke-linejoin=\"miter\">\n",
       "\t<path stroke='black' stroke-dasharray='2,4'  d='M74.3,403.1 L74.3,30.8  '/></g>\n",
       "<g fill=\"none\" color=\"black\" stroke=\"currentColor\" stroke-width=\"1.00\" stroke-linecap=\"butt\" stroke-linejoin=\"miter\">\n",
       "\t<path stroke='black'  d='M74.3,30.8 L74.3,403.1 L570.8,403.1 L570.8,30.8 L74.3,30.8 Z  '/></g>\n",
       "<g fill=\"none\" color=\"black\" stroke=\"currentColor\" stroke-width=\"1.00\" stroke-linecap=\"butt\" stroke-linejoin=\"miter\">\n",
       "\t<g transform=\"translate(29.5,217.0) rotate(270)\" stroke=\"none\" fill=\"black\" font-family=\"Arial\" font-size=\"14.00\"  text-anchor=\"middle\">\n",
       "\t\t<text><tspan font-family=\"Arial\" >f</tspan></text>\n",
       "\t</g>\n",
       "</g>\n",
       "<g fill=\"none\" color=\"black\" stroke=\"currentColor\" stroke-width=\"1.00\" stroke-linecap=\"butt\" stroke-linejoin=\"miter\">\n",
       "\t<g transform=\"translate(322.5,460.2)\" stroke=\"none\" fill=\"black\" font-family=\"Arial\" font-size=\"14.00\"  text-anchor=\"middle\">\n",
       "\t\t<text><tspan font-family=\"Arial\" >x</tspan></text>\n",
       "\t</g>\n",
       "</g>\n",
       "<g fill=\"none\" color=\"black\" stroke=\"currentColor\" stroke-width=\"1.00\" stroke-linecap=\"butt\" stroke-linejoin=\"miter\">\n",
       "</g>\n",
       "\t<g id=\"gnuplot_plot_1\" ><title>gnuplot_plot_1</title>\n",
       "<g fill=\"none\" color=\"black\" stroke=\"currentColor\" stroke-width=\"1.00\" stroke-linecap=\"butt\" stroke-linejoin=\"miter\">\n",
       "\t<path stroke='rgb(  0,   0, 255)'  d='M74.3,403.1 L78.6,403.1 L82.9,403.0 L87.1,402.9 L91.4,402.7 L95.7,402.4 L100.0,402.1 L104.3,401.7\n",
       "\t\tL108.5,401.3 L112.8,400.9 L117.1,400.3 L121.4,399.8 L125.7,399.1 L129.9,398.4 L134.2,397.7 L138.5,396.9\n",
       "\t\tL142.8,396.0 L147.1,395.1 L151.3,394.1 L155.6,393.1 L159.9,392.0 L164.2,390.9 L168.5,389.7 L172.7,388.5\n",
       "\t\tL177.0,387.2 L181.3,385.8 L185.6,384.4 L189.9,382.9 L194.1,381.4 L198.4,379.8 L202.7,378.2 L207.0,376.5\n",
       "\t\tL211.3,374.8 L215.5,373.0 L219.8,371.1 L224.1,369.2 L228.4,367.2 L232.7,365.2 L236.9,363.1 L241.2,361.0\n",
       "\t\tL245.5,358.8 L249.8,356.6 L254.1,354.3 L258.3,351.9 L262.6,349.5 L266.9,347.1 L271.2,344.6 L275.5,342.0\n",
       "\t\tL279.7,339.4 L284.0,336.7 L288.3,333.9 L292.6,331.1 L296.9,328.3 L301.1,325.4 L305.4,322.4 L309.7,319.4\n",
       "\t\tL314.0,316.3 L318.3,313.2 L322.6,310.0 L326.8,306.8 L331.1,303.5 L335.4,300.1 L339.7,296.7 L344.0,293.3\n",
       "\t\tL348.2,289.8 L352.5,286.2 L356.8,282.6 L361.1,278.9 L365.4,275.2 L369.6,271.4 L373.9,267.5 L378.2,263.6\n",
       "\t\tL382.5,259.7 L386.8,255.7 L391.0,251.6 L395.3,247.5 L399.6,243.3 L403.9,239.1 L408.2,234.8 L412.4,230.4\n",
       "\t\tL416.7,226.0 L421.0,221.6 L425.3,217.1 L429.6,212.5 L433.8,207.9 L438.1,203.2 L442.4,198.5 L446.7,193.7\n",
       "\t\tL451.0,188.8 L455.2,183.9 L459.5,179.0 L463.8,174.0 L468.1,168.9 L472.4,163.8 L476.6,158.6 L480.9,153.4\n",
       "\t\tL485.2,148.1 L489.5,142.8 L493.8,137.4 L498.0,131.9 L502.3,126.4 L506.6,120.9 L510.9,115.2 L515.2,109.6\n",
       "\t\tL519.4,103.8 L523.7,98.1 L528.0,92.2 L532.3,86.3 L536.6,80.4 L540.8,74.4 L545.1,68.3 L549.4,62.2\n",
       "\t\tL553.7,56.0 L558.0,49.8 L562.2,43.5 L566.5,37.2 L570.8,30.8  '/></g>\n",
       "\t</g>\n",
       "<g fill=\"none\" color=\"black\" stroke=\"currentColor\" stroke-width=\"1.00\" stroke-linecap=\"butt\" stroke-linejoin=\"miter\">\n",
       "\t<path stroke='black'  d='M74.3,403.1 L84.8,403.1 M570.8,403.1 L560.3,403.1  '/>\t<g transform=\"translate(64.6,407.7)\" stroke=\"none\" fill=\"black\" font-family=\"Arial\" font-size=\"14.00\"  text-anchor=\"end\">\n",
       "\t\t<text><tspan font-family=\"Arial\" > 0</tspan></text>\n",
       "\t</g>\n",
       "</g>\n",
       "<g fill=\"none\" color=\"black\" stroke=\"currentColor\" stroke-width=\"1.00\" stroke-linecap=\"butt\" stroke-linejoin=\"miter\">\n",
       "\t<path stroke='black'  d='M74.3,328.6 L84.8,328.6 M570.8,328.6 L560.3,328.6  '/>\t<g transform=\"translate(64.6,333.2)\" stroke=\"none\" fill=\"black\" font-family=\"Arial\" font-size=\"14.00\"  text-anchor=\"end\">\n",
       "\t\t<text><tspan font-family=\"Arial\" > 5</tspan></text>\n",
       "\t</g>\n",
       "</g>\n",
       "<g fill=\"none\" color=\"black\" stroke=\"currentColor\" stroke-width=\"1.00\" stroke-linecap=\"butt\" stroke-linejoin=\"miter\">\n",
       "\t<path stroke='black'  d='M74.3,254.2 L84.8,254.2 M570.8,254.2 L560.3,254.2  '/>\t<g transform=\"translate(64.6,258.8)\" stroke=\"none\" fill=\"black\" font-family=\"Arial\" font-size=\"14.00\"  text-anchor=\"end\">\n",
       "\t\t<text><tspan font-family=\"Arial\" > 10</tspan></text>\n",
       "\t</g>\n",
       "</g>\n",
       "<g fill=\"none\" color=\"black\" stroke=\"currentColor\" stroke-width=\"1.00\" stroke-linecap=\"butt\" stroke-linejoin=\"miter\">\n",
       "\t<path stroke='black'  d='M74.3,179.7 L84.8,179.7 M570.8,179.7 L560.3,179.7  '/>\t<g transform=\"translate(64.6,184.3)\" stroke=\"none\" fill=\"black\" font-family=\"Arial\" font-size=\"14.00\"  text-anchor=\"end\">\n",
       "\t\t<text><tspan font-family=\"Arial\" > 15</tspan></text>\n",
       "\t</g>\n",
       "</g>\n",
       "<g fill=\"none\" color=\"black\" stroke=\"currentColor\" stroke-width=\"1.00\" stroke-linecap=\"butt\" stroke-linejoin=\"miter\">\n",
       "\t<path stroke='black'  d='M74.3,105.3 L84.8,105.3 M570.8,105.3 L560.3,105.3  '/>\t<g transform=\"translate(64.6,109.9)\" stroke=\"none\" fill=\"black\" font-family=\"Arial\" font-size=\"14.00\"  text-anchor=\"end\">\n",
       "\t\t<text><tspan font-family=\"Arial\" > 20</tspan></text>\n",
       "\t</g>\n",
       "</g>\n",
       "<g fill=\"none\" color=\"black\" stroke=\"currentColor\" stroke-width=\"1.00\" stroke-linecap=\"butt\" stroke-linejoin=\"miter\">\n",
       "\t<path stroke='black'  d='M74.3,30.8 L84.8,30.8 M570.8,30.8 L560.3,30.8  '/>\t<g transform=\"translate(64.6,35.4)\" stroke=\"none\" fill=\"black\" font-family=\"Arial\" font-size=\"14.00\"  text-anchor=\"end\">\n",
       "\t\t<text><tspan font-family=\"Arial\" > 25</tspan></text>\n",
       "\t</g>\n",
       "</g>\n",
       "<g fill=\"none\" color=\"black\" stroke=\"currentColor\" stroke-width=\"1.00\" stroke-linecap=\"butt\" stroke-linejoin=\"miter\">\n",
       "\t<path stroke='black'  d='M74.3,403.1 L74.3,392.6 M74.3,30.8 L74.3,41.3  '/>\t<g transform=\"translate(74.3,428.7)\" stroke=\"none\" fill=\"black\" font-family=\"Arial\" font-size=\"14.00\"  text-anchor=\"middle\">\n",
       "\t\t<text><tspan font-family=\"Arial\" > 0</tspan></text>\n",
       "\t</g>\n",
       "</g>\n",
       "<g fill=\"none\" color=\"black\" stroke=\"currentColor\" stroke-width=\"1.00\" stroke-linecap=\"butt\" stroke-linejoin=\"miter\">\n",
       "\t<path stroke='black'  d='M173.6,403.1 L173.6,392.6 M173.6,30.8 L173.6,41.3  '/>\t<g transform=\"translate(173.6,428.7)\" stroke=\"none\" fill=\"black\" font-family=\"Arial\" font-size=\"14.00\"  text-anchor=\"middle\">\n",
       "\t\t<text><tspan font-family=\"Arial\" > 1</tspan></text>\n",
       "\t</g>\n",
       "</g>\n",
       "<g fill=\"none\" color=\"black\" stroke=\"currentColor\" stroke-width=\"1.00\" stroke-linecap=\"butt\" stroke-linejoin=\"miter\">\n",
       "\t<path stroke='black'  d='M272.9,403.1 L272.9,392.6 M272.9,30.8 L272.9,41.3  '/>\t<g transform=\"translate(272.9,428.7)\" stroke=\"none\" fill=\"black\" font-family=\"Arial\" font-size=\"14.00\"  text-anchor=\"middle\">\n",
       "\t\t<text><tspan font-family=\"Arial\" > 2</tspan></text>\n",
       "\t</g>\n",
       "</g>\n",
       "<g fill=\"none\" color=\"black\" stroke=\"currentColor\" stroke-width=\"1.00\" stroke-linecap=\"butt\" stroke-linejoin=\"miter\">\n",
       "\t<path stroke='black'  d='M372.2,403.1 L372.2,392.6 M372.2,30.8 L372.2,41.3  '/>\t<g transform=\"translate(372.2,428.7)\" stroke=\"none\" fill=\"black\" font-family=\"Arial\" font-size=\"14.00\"  text-anchor=\"middle\">\n",
       "\t\t<text><tspan font-family=\"Arial\" > 3</tspan></text>\n",
       "\t</g>\n",
       "</g>\n",
       "<g fill=\"none\" color=\"black\" stroke=\"currentColor\" stroke-width=\"1.00\" stroke-linecap=\"butt\" stroke-linejoin=\"miter\">\n",
       "\t<path stroke='black'  d='M471.5,403.1 L471.5,392.6 M471.5,30.8 L471.5,41.3  '/>\t<g transform=\"translate(471.5,428.7)\" stroke=\"none\" fill=\"black\" font-family=\"Arial\" font-size=\"14.00\"  text-anchor=\"middle\">\n",
       "\t\t<text><tspan font-family=\"Arial\" > 4</tspan></text>\n",
       "\t</g>\n",
       "</g>\n",
       "<g fill=\"none\" color=\"black\" stroke=\"currentColor\" stroke-width=\"1.00\" stroke-linecap=\"butt\" stroke-linejoin=\"miter\">\n",
       "\t<path stroke='black'  d='M570.8,403.1 L570.8,392.6 M570.8,30.8 L570.8,41.3  '/>\t<g transform=\"translate(570.8,428.7)\" stroke=\"none\" fill=\"black\" font-family=\"Arial\" font-size=\"14.00\"  text-anchor=\"middle\">\n",
       "\t\t<text><tspan font-family=\"Arial\" > 5</tspan></text>\n",
       "\t</g>\n",
       "</g>\n",
       "<g fill=\"none\" color=\"black\" stroke=\"currentColor\" stroke-width=\"1.00\" stroke-linecap=\"butt\" stroke-linejoin=\"miter\">\n",
       "</g>\n",
       "<g fill=\"none\" color=\"gray\" stroke=\"currentColor\" stroke-width=\"1.00\" stroke-linecap=\"butt\" stroke-linejoin=\"miter\">\n",
       "\t<path stroke='black' stroke-dasharray='2,4'  d='M74.3,403.1 L570.8,403.1  '/></g>\n",
       "<g fill=\"none\" color=\"gray\" stroke=\"currentColor\" stroke-width=\"1.00\" stroke-linecap=\"butt\" stroke-linejoin=\"miter\">\n",
       "\t<path stroke='black' stroke-dasharray='2,4'  d='M74.3,403.1 L74.3,30.8  '/></g>\n",
       "<g fill=\"none\" color=\"gray\" stroke=\"black\" stroke-width=\"2.00\" stroke-linecap=\"butt\" stroke-linejoin=\"miter\">\n",
       "</g>\n",
       "<g fill=\"none\" color=\"black\" stroke=\"currentColor\" stroke-width=\"2.00\" stroke-linecap=\"butt\" stroke-linejoin=\"miter\">\n",
       "</g>\n",
       "<g fill=\"none\" color=\"black\" stroke=\"black\" stroke-width=\"1.00\" stroke-linecap=\"butt\" stroke-linejoin=\"miter\">\n",
       "</g>\n",
       "<g fill=\"none\" color=\"black\" stroke=\"currentColor\" stroke-width=\"1.00\" stroke-linecap=\"butt\" stroke-linejoin=\"miter\">\n",
       "\t<path stroke='black'  d='M74.3,30.8 L74.3,403.1 L570.8,403.1 L570.8,30.8 L74.3,30.8 Z  '/></g>\n",
       "<g fill=\"none\" color=\"black\" stroke=\"currentColor\" stroke-width=\"1.00\" stroke-linecap=\"butt\" stroke-linejoin=\"miter\">\n",
       "</g>\n",
       "</g>\n",
       "</svg>\n",
       "\n"
      ],
      "text/plain": [
       "/tmp/maxplot.svg"
      ]
     },
     "metadata": {},
     "output_type": "display_data"
    }
   ],
   "source": [
    "plot2d (f, [x, 0, 5])$"
   ]
  },
  {
   "cell_type": "markdown",
   "metadata": {},
   "source": [
    "Can we solve iterated functions using basic tools in the FP toolbox?"
   ]
  },
  {
   "cell_type": "code",
   "execution_count": 4,
   "metadata": {},
   "outputs": [
    {
     "data": {
      "text/latex": [
       "\\[\\tag{${\\it \\%o}_{5}$}\\left[ 1 , 4 , 9 , 16 , 25 , 36 \\right] \\]"
      ],
      "text/plain": [
       "(%o5)                        [1, 4, 9, 16, 25, 36]"
      ],
      "text/x-maxima": [
       "[1,4,9,16,25,36]"
      ]
     },
     "execution_count": 4,
     "metadata": {},
     "output_type": "execute_result"
    }
   ],
   "source": [
    "map (f, [1,2,3,4,5,6]);"
   ]
  },
  {
   "cell_type": "code",
   "execution_count": 5,
   "metadata": {},
   "outputs": [],
   "source": [
    "f_recurse(acc, x) := append(acc, [f(x)])$"
   ]
  },
  {
   "cell_type": "code",
   "execution_count": 6,
   "metadata": {},
   "outputs": [
    {
     "data": {
      "text/latex": [
       "\\[\\tag{${\\it \\%o}_{7}$}\\left[ 1 , 4 , 9 , 16 , 25 , 36 \\right] \\]"
      ],
      "text/plain": [
       "(%o7)                        [1, 4, 9, 16, 25, 36]"
      ],
      "text/x-maxima": [
       "[1,4,9,16,25,36]"
      ]
     },
     "execution_count": 6,
     "metadata": {},
     "output_type": "execute_result"
    }
   ],
   "source": [
    "lreduce (f_recurse, [[],1,2,3,4,5,6]);"
   ]
  },
  {
   "cell_type": "markdown",
   "metadata": {},
   "source": [
    "Doesn't look like it. \n",
    "\n",
    "We're going to need to define a recursive function that does what we're looking for. In particular, we need a function that does the following:\n",
    "\n",
    "* when called, computes a particular function and then uses that result to call itself (again)\n",
    "* builds up and finally returns a data strcuture that is a list of points\n",
    "* each point in the result should have a first value of `t` and a second value of the result at time `t`\n",
    "* in order to support this, we're going to need to pass as arguments to our function:\n",
    "  * an accumulator\n",
    "  * an initial (or computed) value, `x`\n",
    "  * the current iteration, `n`"
   ]
  },
  {
   "cell_type": "code",
   "execution_count": 7,
   "metadata": {},
   "outputs": [],
   "source": [
    "f_rec(func, acc, x, n) := \n",
    "    block ([t: length(acc)],\n",
    "        (if t = n\n",
    "         then acc\n",
    "         else f_rec(func, endcons([t, func(x)], acc), func(x), n)))$\n",
    "         \n",
    "recurse(func, x, n) :=\n",
    "    f_rec(func, [[0, x]], x, n)$"
   ]
  },
  {
   "cell_type": "markdown",
   "metadata": {},
   "source": [
    "Note that the `endcons` function is similar to Clojure's `conj` in that it adds a new value to our list of results, the accumulator `acc`.\n",
    "\n",
    "Now let's generate some data sets with our new function:"
   ]
  },
  {
   "cell_type": "code",
   "execution_count": 8,
   "metadata": {},
   "outputs": [
    {
     "data": {
      "text/latex": [
       "\\[\\tag{${\\it \\%o}_{10}$}\\left[ \\left[ 0 , 0 \\right]  , \\left[ 1 , 0 \\right]  , \\left[ 2 , 0 \\right]  , \\left[ 3 , 0 \\right]  , \\left[ 4 , 0 \\right]  \\right] \\]"
      ],
      "text/plain": [
       "(%o10)             [[0, 0], [1, 0], [2, 0], [3, 0], [4, 0]]"
      ],
      "text/x-maxima": [
       "[[0,0],[1,0],[2,0],[3,0],[4,0]]"
      ]
     },
     "execution_count": 8,
     "metadata": {},
     "output_type": "execute_result"
    },
    {
     "data": {
      "text/latex": [
       "\\[\\tag{${\\it \\%o}_{11}$}\\left[ \\left[ 0 , 0.5 \\right]  , \\left[ 1 , 0.25 \\right]  , \\left[ 2 , 0.0625 \\right]  , \\left[ 3 , 0.00390625 \\right]  , \\left[ 4 , 1.52587890625 \\times 10^{-5} \\right]  \\right] \\]"
      ],
      "text/plain": [
       "(%o11) [[0, 0.5], [1, 0.25], [2, 0.0625], [3, 0.00390625], \n",
       "                                                         [4, 1.52587890625e-5]]"
      ],
      "text/x-maxima": [
       "[[0,0.5],[1,0.25],[2,0.0625],[3,0.00390625],[4,1.52587890625e-5]]"
      ]
     },
     "execution_count": 8,
     "metadata": {},
     "output_type": "execute_result"
    },
    {
     "data": {
      "text/latex": [
       "\\[\\tag{${\\it \\%o}_{12}$}\\left[ \\left[ 0 , 0.8 \\right]  , \\left[ 1 , 0.6400000000000001 \\right]  , \\left[ 2 , 0.4096000000000002 \\right]  , \\left[ 3 , 0.1677721600000001 \\right]  , \\left[ 4 , 0.02814749767106565 \\right]  \\right] \\]"
      ],
      "text/plain": [
       "(%o12) [[0, 0.8], [1, 0.6400000000000001], [2, 0.4096000000000002], \n",
       "                             [3, 0.1677721600000001], [4, 0.02814749767106565]]"
      ],
      "text/x-maxima": [
       "[[0,0.8],[1,0.6400000000000001],[2,0.4096000000000002],[3,0.1677721600000001],\n",
       " [4,0.02814749767106565]]"
      ]
     },
     "execution_count": 8,
     "metadata": {},
     "output_type": "execute_result"
    },
    {
     "data": {
      "text/latex": [
       "\\[\\tag{${\\it \\%o}_{13}$}\\left[ \\left[ 0 , 0.9 \\right]  , \\left[ 1 , 0.81 \\right]  , \\left[ 2 , 0.6561000000000001 \\right]  , \\left[ 3 , 0.4304672100000002 \\right]  , \\left[ 4 , 0.1853020188851842 \\right]  \\right] \\]"
      ],
      "text/plain": [
       "(%o13) [[0, 0.9], [1, 0.81], [2, 0.6561000000000001], [3, 0.4304672100000002], \n",
       "                                                       [4, 0.1853020188851842]]"
      ],
      "text/x-maxima": [
       "[[0,0.9],[1,0.81],[2,0.6561000000000001],[3,0.4304672100000002],\n",
       " [4,0.1853020188851842]]"
      ]
     },
     "execution_count": 8,
     "metadata": {},
     "output_type": "execute_result"
    },
    {
     "data": {
      "text/latex": [
       "\\[\\tag{${\\it \\%o}_{14}$}\\left[ \\left[ 0 , 1 \\right]  , \\left[ 1 , 1 \\right]  , \\left[ 2 , 1 \\right]  , \\left[ 3 , 1 \\right]  , \\left[ 4 , 1 \\right]  \\right] \\]"
      ],
      "text/plain": [
       "(%o14)             [[0, 1], [1, 1], [2, 1], [3, 1], [4, 1]]"
      ],
      "text/x-maxima": [
       "[[0,1],[1,1],[2,1],[3,1],[4,1]]"
      ]
     },
     "execution_count": 8,
     "metadata": {},
     "output_type": "execute_result"
    },
    {
     "data": {
      "text/latex": [
       "\\[\\tag{${\\it \\%o}_{15}$}\\left[ \\left[ 0 , 1.1 \\right]  , \\left[ 1 , 1.21 \\right]  , \\left[ 2 , 1.4641 \\right]  , \\left[ 3 , 2.143588810000001 \\right]  , \\left[ 4 , 4.594972986357221 \\right]  \\right] \\]"
      ],
      "text/plain": [
       "(%o15) [[0, 1.1], [1, 1.21], [2, 1.4641], [3, 2.143588810000001], \n",
       "                                                        [4, 4.594972986357221]]"
      ],
      "text/x-maxima": [
       "[[0,1.1],[1,1.21],[2,1.4641],[3,2.143588810000001],[4,4.594972986357221]]"
      ]
     },
     "execution_count": 8,
     "metadata": {},
     "output_type": "execute_result"
    },
    {
     "data": {
      "text/latex": [
       "\\[\\tag{${\\it \\%o}_{16}$}\\left[ \\left[ 0 , 1.2 \\right]  , \\left[ 1 , 1.44 \\right]  , \\left[ 2 , 2.0736 \\right]  , \\left[ 3 , 4.299816959999999 \\right]  , \\left[ 4 , 18.48842588950363 \\right]  \\right] \\]"
      ],
      "text/plain": [
       "(%o16) [[0, 1.2], [1, 1.44], [2, 2.0736], [3, 4.299816959999999], \n",
       "                                                        [4, 18.48842588950363]]"
      ],
      "text/x-maxima": [
       "[[0,1.2],[1,1.44],[2,2.0736],[3,4.299816959999999],[4,18.48842588950363]]"
      ]
     },
     "execution_count": 8,
     "metadata": {},
     "output_type": "execute_result"
    },
    {
     "data": {
      "text/latex": [
       "\\[\\tag{${\\it \\%o}_{17}$}\\left[ \\left[ 0 , 1.5 \\right]  , \\left[ 1 , 2.25 \\right]  , \\left[ 2 , 5.0625 \\right]  , \\left[ 3 , 25.62890625 \\right]  , \\left[ 4 , 656.8408355712891 \\right]  \\right] \\]"
      ],
      "text/plain": [
       "(%o17) [[0, 1.5], [1, 2.25], [2, 5.0625], [3, 25.62890625], \n",
       "                                                        [4, 656.8408355712891]]"
      ],
      "text/x-maxima": [
       "[[0,1.5],[1,2.25],[2,5.0625],[3,25.62890625],[4,656.8408355712891]]"
      ]
     },
     "execution_count": 8,
     "metadata": {},
     "output_type": "execute_result"
    }
   ],
   "source": [
    "xy0: recurse(f, 0, 5);\n",
    "xy1: recurse(f, 0.5, 5);\n",
    "xy2: recurse(f, 0.8, 5);\n",
    "xy3: recurse(f, 0.9, 5);\n",
    "xy4: recurse(f, 1, 5);\n",
    "xy5: recurse(f, 1.1, 5);\n",
    "xy6: recurse(f, 1.2, 5);\n",
    "xy7: recurse(f, 1.5, 5);"
   ]
  },
  {
   "cell_type": "markdown",
   "metadata": {},
   "source": [
    "Let's plot what we have:"
   ]
  },
  {
   "cell_type": "code",
   "execution_count": 9,
   "metadata": {},
   "outputs": [
    {
     "data": {
      "image/svg+xml": [
       "<?xml version=\"1.0\" encoding=\"utf-8\"  standalone=\"no\"?>\n",
       "<svg \n",
       " width=\"600\" height=\"480\"\n",
       " viewBox=\"0 0 600 480\"\n",
       " xmlns=\"http://www.w3.org/2000/svg\"\n",
       " xmlns:xlink=\"http://www.w3.org/1999/xlink\"\n",
       ">\n",
       "\n",
       "<title>Gnuplot</title>\n",
       "<desc>Produced by GNUPLOT 5.2 patchlevel 7 </desc>\n",
       "\n",
       "<g id=\"gnuplot_canvas\">\n",
       "\n",
       "<rect x=\"0\" y=\"0\" width=\"600\" height=\"480\" fill=\"none\"/>\n",
       "<defs>\n",
       "\n",
       "\t<circle id='gpDot' r='0.5' stroke-width='0.5' stroke='currentColor'/>\n",
       "\t<path id='gpPt0' stroke-width='0.190' stroke='currentColor' d='M-1,0 h2 M0,-1 v2'/>\n",
       "\t<path id='gpPt1' stroke-width='0.190' stroke='currentColor' d='M-1,-1 L1,1 M1,-1 L-1,1'/>\n",
       "\t<path id='gpPt2' stroke-width='0.190' stroke='currentColor' d='M-1,0 L1,0 M0,-1 L0,1 M-1,-1 L1,1 M-1,1 L1,-1'/>\n",
       "\t<rect id='gpPt3' stroke-width='0.190' stroke='currentColor' x='-1' y='-1' width='2' height='2'/>\n",
       "\t<rect id='gpPt4' stroke-width='0.190' stroke='currentColor' fill='currentColor' x='-1' y='-1' width='2' height='2'/>\n",
       "\t<circle id='gpPt5' stroke-width='0.190' stroke='currentColor' cx='0' cy='0' r='1'/>\n",
       "\t<use xlink:href='#gpPt5' id='gpPt6' fill='currentColor' stroke='none'/>\n",
       "\t<path id='gpPt7' stroke-width='0.190' stroke='currentColor' d='M0,-1.33 L-1.33,0.67 L1.33,0.67 z'/>\n",
       "\t<use xlink:href='#gpPt7' id='gpPt8' fill='currentColor' stroke='none'/>\n",
       "\t<use xlink:href='#gpPt7' id='gpPt9' stroke='currentColor' transform='rotate(180)'/>\n",
       "\t<use xlink:href='#gpPt9' id='gpPt10' fill='currentColor' stroke='none'/>\n",
       "\t<use xlink:href='#gpPt3' id='gpPt11' stroke='currentColor' transform='rotate(45)'/>\n",
       "\t<use xlink:href='#gpPt11' id='gpPt12' fill='currentColor' stroke='none'/>\n",
       "\t<path id='gpPt13' stroke-width='0.190' stroke='currentColor' d='M0,1.330 L1.265,0.411 L0.782,-1.067 L-0.782,-1.076 L-1.265,0.411 z'/>\n",
       "\t<use xlink:href='#gpPt13' id='gpPt14' fill='currentColor' stroke='none'/>\n",
       "\t<filter id='textbox' filterUnits='objectBoundingBox' x='0' y='0' height='1' width='1'>\n",
       "\t  <feFlood flood-color='white' flood-opacity='1' result='bgnd'/>\n",
       "\t  <feComposite in='SourceGraphic' in2='bgnd' operator='atop'/>\n",
       "\t</filter>\n",
       "\t<filter id='greybox' filterUnits='objectBoundingBox' x='0' y='0' height='1' width='1'>\n",
       "\t  <feFlood flood-color='lightgrey' flood-opacity='1' result='grey'/>\n",
       "\t  <feComposite in='SourceGraphic' in2='grey' operator='atop'/>\n",
       "\t</filter>\n",
       "</defs>\n",
       "<g fill=\"none\" color=\"white\" stroke=\"currentColor\" stroke-width=\"1.00\" stroke-linecap=\"butt\" stroke-linejoin=\"miter\">\n",
       "</g>\n",
       "<g fill=\"none\" color=\"gray\" stroke=\"currentColor\" stroke-width=\"1.00\" stroke-linecap=\"butt\" stroke-linejoin=\"miter\">\n",
       "\t<path stroke='black' stroke-dasharray='2,4'  d='M53.3,423.6 L570.8,423.6  '/></g>\n",
       "<g fill=\"none\" color=\"gray\" stroke=\"currentColor\" stroke-width=\"1.00\" stroke-linecap=\"butt\" stroke-linejoin=\"miter\">\n",
       "\t<path stroke='black' stroke-dasharray='2,4'  d='M53.3,423.6 L53.3,35.5  '/></g>\n",
       "<g fill=\"none\" color=\"black\" stroke=\"currentColor\" stroke-width=\"1.00\" stroke-linecap=\"butt\" stroke-linejoin=\"miter\">\n",
       "\t<path stroke='black'  d='M53.3,35.5 L53.3,423.6 L570.8,423.6 L570.8,35.5 L53.3,35.5 Z  '/></g>\n",
       "<g fill=\"none\" color=\"black\" stroke=\"currentColor\" stroke-width=\"1.00\" stroke-linecap=\"butt\" stroke-linejoin=\"miter\">\n",
       "</g>\n",
       "\t<g id=\"gnuplot_plot_1\" ><title>discrete1</title>\n",
       "<g fill=\"none\" color=\"black\" stroke=\"currentColor\" stroke-width=\"1.00\" stroke-linecap=\"butt\" stroke-linejoin=\"miter\">\n",
       "\t<g transform=\"translate(492.4,61.1)\" stroke=\"none\" fill=\"black\" font-family=\"Arial\" font-size=\"14.00\"  text-anchor=\"end\">\n",
       "\t\t<text><tspan font-family=\"Arial\" >discrete1</tspan></text>\n",
       "\t</g>\n",
       "</g>\n",
       "<g fill=\"none\" color=\"black\" stroke=\"currentColor\" stroke-width=\"1.00\" stroke-linecap=\"butt\" stroke-linejoin=\"miter\">\n",
       "\t<path stroke='rgb(  0,   0, 255)'  d='M502.1,56.5 L551.4,56.5 M53.3,423.6 L182.7,423.6 L312.1,423.6 L441.4,423.6 L570.8,423.6  '/></g>\n",
       "\t</g>\n",
       "\t<g id=\"gnuplot_plot_2\" ><title>discrete2</title>\n",
       "<g fill=\"none\" color=\"black\" stroke=\"currentColor\" stroke-width=\"1.00\" stroke-linecap=\"butt\" stroke-linejoin=\"miter\">\n",
       "\t<g transform=\"translate(492.4,82.1)\" stroke=\"none\" fill=\"black\" font-family=\"Arial\" font-size=\"14.00\"  text-anchor=\"end\">\n",
       "\t\t<text><tspan font-family=\"Arial\" >discrete2</tspan></text>\n",
       "\t</g>\n",
       "</g>\n",
       "<g fill=\"none\" color=\"black\" stroke=\"currentColor\" stroke-width=\"1.00\" stroke-linecap=\"butt\" stroke-linejoin=\"miter\">\n",
       "\t<path stroke='rgb(255,   0,   0)'  d='M502.1,77.5 L551.4,77.5 M53.3,404.2 L182.7,413.9 L312.1,421.2 L441.4,423.4 L570.8,423.6  '/></g>\n",
       "\t</g>\n",
       "\t<g id=\"gnuplot_plot_3\" ><title>discrete3</title>\n",
       "<g fill=\"none\" color=\"black\" stroke=\"currentColor\" stroke-width=\"1.00\" stroke-linecap=\"butt\" stroke-linejoin=\"miter\">\n",
       "\t<g transform=\"translate(492.4,103.1)\" stroke=\"none\" fill=\"black\" font-family=\"Arial\" font-size=\"14.00\"  text-anchor=\"end\">\n",
       "\t\t<text><tspan font-family=\"Arial\" >discrete3</tspan></text>\n",
       "\t</g>\n",
       "</g>\n",
       "<g fill=\"none\" color=\"black\" stroke=\"currentColor\" stroke-width=\"1.00\" stroke-linecap=\"butt\" stroke-linejoin=\"miter\">\n",
       "\t<path stroke='rgb(  0, 255,   0)'  d='M502.1,98.5 L551.4,98.5 M53.3,392.6 L182.7,398.8 L312.1,407.7 L441.4,417.1 L570.8,422.5  '/></g>\n",
       "\t</g>\n",
       "\t<g id=\"gnuplot_plot_4\" ><title>discrete4</title>\n",
       "<g fill=\"none\" color=\"black\" stroke=\"currentColor\" stroke-width=\"1.00\" stroke-linecap=\"butt\" stroke-linejoin=\"miter\">\n",
       "\t<g transform=\"translate(492.4,124.1)\" stroke=\"none\" fill=\"black\" font-family=\"Arial\" font-size=\"14.00\"  text-anchor=\"end\">\n",
       "\t\t<text><tspan font-family=\"Arial\" >discrete4</tspan></text>\n",
       "\t</g>\n",
       "</g>\n",
       "<g fill=\"none\" color=\"black\" stroke=\"currentColor\" stroke-width=\"1.00\" stroke-linecap=\"butt\" stroke-linejoin=\"miter\">\n",
       "\t<path stroke='rgb(255,   0, 255)'  d='M502.1,119.5 L551.4,119.5 M53.3,388.7 L182.7,392.2 L312.1,398.1 L441.4,406.9 L570.8,416.4  '/></g>\n",
       "\t</g>\n",
       "\t<g id=\"gnuplot_plot_5\" ><title>discrete5</title>\n",
       "<g fill=\"none\" color=\"black\" stroke=\"currentColor\" stroke-width=\"1.00\" stroke-linecap=\"butt\" stroke-linejoin=\"miter\">\n",
       "\t<g transform=\"translate(492.4,145.1)\" stroke=\"none\" fill=\"black\" font-family=\"Arial\" font-size=\"14.00\"  text-anchor=\"end\">\n",
       "\t\t<text><tspan font-family=\"Arial\" >discrete5</tspan></text>\n",
       "\t</g>\n",
       "</g>\n",
       "<g fill=\"none\" color=\"black\" stroke=\"currentColor\" stroke-width=\"1.00\" stroke-linecap=\"butt\" stroke-linejoin=\"miter\">\n",
       "\t<path stroke='rgb(  0,   0,   0)'  d='M502.1,140.5 L551.4,140.5 M53.3,384.8 L182.7,384.8 L312.1,384.8 L441.4,384.8 L570.8,384.8  '/></g>\n",
       "\t</g>\n",
       "\t<g id=\"gnuplot_plot_6\" ><title>discrete6</title>\n",
       "<g fill=\"none\" color=\"black\" stroke=\"currentColor\" stroke-width=\"1.00\" stroke-linecap=\"butt\" stroke-linejoin=\"miter\">\n",
       "\t<g transform=\"translate(492.4,166.1)\" stroke=\"none\" fill=\"black\" font-family=\"Arial\" font-size=\"14.00\"  text-anchor=\"end\">\n",
       "\t\t<text><tspan font-family=\"Arial\" >discrete6</tspan></text>\n",
       "\t</g>\n",
       "</g>\n",
       "<g fill=\"none\" color=\"black\" stroke=\"currentColor\" stroke-width=\"1.00\" stroke-linecap=\"butt\" stroke-linejoin=\"miter\">\n",
       "\t<path stroke='rgb(  0, 255, 255)'  d='M502.1,161.5 L551.4,161.5 M53.3,380.9 L182.7,376.6 L312.1,366.8 L441.4,340.4 L570.8,245.3  '/></g>\n",
       "\t</g>\n",
       "\t<g id=\"gnuplot_plot_7\" ><title>discrete7</title>\n",
       "<g fill=\"none\" color=\"black\" stroke=\"currentColor\" stroke-width=\"1.00\" stroke-linecap=\"butt\" stroke-linejoin=\"miter\">\n",
       "\t<g transform=\"translate(492.4,187.1)\" stroke=\"none\" fill=\"black\" font-family=\"Arial\" font-size=\"14.00\"  text-anchor=\"end\">\n",
       "\t\t<text><tspan font-family=\"Arial\" >discrete7</tspan></text>\n",
       "\t</g>\n",
       "</g>\n",
       "<g fill=\"none\" color=\"black\" stroke=\"currentColor\" stroke-width=\"1.00\" stroke-linecap=\"butt\" stroke-linejoin=\"miter\">\n",
       "\t<path stroke='rgb(  0,   0, 255)'  d='M502.1,182.5 L551.4,182.5 M53.3,377.0 L182.7,367.7 L312.1,343.1 L441.4,256.7 L493.3,35.5  '/></g>\n",
       "\t</g>\n",
       "\t<g id=\"gnuplot_plot_8\" ><title>discrete8</title>\n",
       "<g fill=\"none\" color=\"black\" stroke=\"currentColor\" stroke-width=\"1.00\" stroke-linecap=\"butt\" stroke-linejoin=\"miter\">\n",
       "\t<g transform=\"translate(492.4,208.1)\" stroke=\"none\" fill=\"black\" font-family=\"Arial\" font-size=\"14.00\"  text-anchor=\"end\">\n",
       "\t\t<text><tspan font-family=\"Arial\" >discrete8</tspan></text>\n",
       "\t</g>\n",
       "</g>\n",
       "<g fill=\"none\" color=\"black\" stroke=\"currentColor\" stroke-width=\"1.00\" stroke-linecap=\"butt\" stroke-linejoin=\"miter\">\n",
       "\t<path stroke='rgb(255,   0,   0)'  d='M502.1,203.5 L551.4,203.5 M53.3,365.4 L182.7,336.3 L312.1,227.1 L343.1,35.5  '/></g>\n",
       "\t</g>\n",
       "<g fill=\"none\" color=\"black\" stroke=\"currentColor\" stroke-width=\"1.00\" stroke-linecap=\"butt\" stroke-linejoin=\"miter\">\n",
       "\t<path stroke='black'  d='M53.3,423.6 L63.8,423.6 M570.8,423.6 L560.3,423.6  '/>\t<g transform=\"translate(43.6,428.2)\" stroke=\"none\" fill=\"black\" font-family=\"Arial\" font-size=\"14.00\"  text-anchor=\"end\">\n",
       "\t\t<text><tspan font-family=\"Arial\" > 0</tspan></text>\n",
       "\t</g>\n",
       "</g>\n",
       "<g fill=\"none\" color=\"black\" stroke=\"currentColor\" stroke-width=\"1.00\" stroke-linecap=\"butt\" stroke-linejoin=\"miter\">\n",
       "\t<path stroke='black'  d='M53.3,346.0 L63.8,346.0 M570.8,346.0 L560.3,346.0  '/>\t<g transform=\"translate(43.6,350.6)\" stroke=\"none\" fill=\"black\" font-family=\"Arial\" font-size=\"14.00\"  text-anchor=\"end\">\n",
       "\t\t<text><tspan font-family=\"Arial\" > 2</tspan></text>\n",
       "\t</g>\n",
       "</g>\n",
       "<g fill=\"none\" color=\"black\" stroke=\"currentColor\" stroke-width=\"1.00\" stroke-linecap=\"butt\" stroke-linejoin=\"miter\">\n",
       "\t<path stroke='black'  d='M53.3,268.4 L63.8,268.4 M570.8,268.4 L560.3,268.4  '/>\t<g transform=\"translate(43.6,273.0)\" stroke=\"none\" fill=\"black\" font-family=\"Arial\" font-size=\"14.00\"  text-anchor=\"end\">\n",
       "\t\t<text><tspan font-family=\"Arial\" > 4</tspan></text>\n",
       "\t</g>\n",
       "</g>\n",
       "<g fill=\"none\" color=\"black\" stroke=\"currentColor\" stroke-width=\"1.00\" stroke-linecap=\"butt\" stroke-linejoin=\"miter\">\n",
       "\t<path stroke='black'  d='M53.3,190.7 L63.8,190.7 M570.8,190.7 L560.3,190.7  '/>\t<g transform=\"translate(43.6,195.3)\" stroke=\"none\" fill=\"black\" font-family=\"Arial\" font-size=\"14.00\"  text-anchor=\"end\">\n",
       "\t\t<text><tspan font-family=\"Arial\" > 6</tspan></text>\n",
       "\t</g>\n",
       "</g>\n",
       "<g fill=\"none\" color=\"black\" stroke=\"currentColor\" stroke-width=\"1.00\" stroke-linecap=\"butt\" stroke-linejoin=\"miter\">\n",
       "\t<path stroke='black'  d='M53.3,113.1 L63.8,113.1 M570.8,113.1 L560.3,113.1  '/>\t<g transform=\"translate(43.6,117.7)\" stroke=\"none\" fill=\"black\" font-family=\"Arial\" font-size=\"14.00\"  text-anchor=\"end\">\n",
       "\t\t<text><tspan font-family=\"Arial\" > 8</tspan></text>\n",
       "\t</g>\n",
       "</g>\n",
       "<g fill=\"none\" color=\"black\" stroke=\"currentColor\" stroke-width=\"1.00\" stroke-linecap=\"butt\" stroke-linejoin=\"miter\">\n",
       "\t<path stroke='black'  d='M53.3,35.5 L63.8,35.5 M570.8,35.5 L560.3,35.5  '/>\t<g transform=\"translate(43.6,40.1)\" stroke=\"none\" fill=\"black\" font-family=\"Arial\" font-size=\"14.00\"  text-anchor=\"end\">\n",
       "\t\t<text><tspan font-family=\"Arial\" > 10</tspan></text>\n",
       "\t</g>\n",
       "</g>\n",
       "<g fill=\"none\" color=\"black\" stroke=\"currentColor\" stroke-width=\"1.00\" stroke-linecap=\"butt\" stroke-linejoin=\"miter\">\n",
       "\t<path stroke='black'  d='M53.3,423.6 L53.3,413.1 M53.3,35.5 L53.3,46.0  '/>\t<g transform=\"translate(53.3,449.2)\" stroke=\"none\" fill=\"black\" font-family=\"Arial\" font-size=\"14.00\"  text-anchor=\"middle\">\n",
       "\t\t<text><tspan font-family=\"Arial\" > 0</tspan></text>\n",
       "\t</g>\n",
       "</g>\n",
       "<g fill=\"none\" color=\"black\" stroke=\"currentColor\" stroke-width=\"1.00\" stroke-linecap=\"butt\" stroke-linejoin=\"miter\">\n",
       "\t<path stroke='black'  d='M118.0,423.6 L118.0,413.1 M118.0,35.5 L118.0,46.0  '/>\t<g transform=\"translate(118.0,449.2)\" stroke=\"none\" fill=\"black\" font-family=\"Arial\" font-size=\"14.00\"  text-anchor=\"middle\">\n",
       "\t\t<text><tspan font-family=\"Arial\" > 0.5</tspan></text>\n",
       "\t</g>\n",
       "</g>\n",
       "<g fill=\"none\" color=\"black\" stroke=\"currentColor\" stroke-width=\"1.00\" stroke-linecap=\"butt\" stroke-linejoin=\"miter\">\n",
       "\t<path stroke='black'  d='M182.7,423.6 L182.7,413.1 M182.7,35.5 L182.7,46.0  '/>\t<g transform=\"translate(182.7,449.2)\" stroke=\"none\" fill=\"black\" font-family=\"Arial\" font-size=\"14.00\"  text-anchor=\"middle\">\n",
       "\t\t<text><tspan font-family=\"Arial\" > 1</tspan></text>\n",
       "\t</g>\n",
       "</g>\n",
       "<g fill=\"none\" color=\"black\" stroke=\"currentColor\" stroke-width=\"1.00\" stroke-linecap=\"butt\" stroke-linejoin=\"miter\">\n",
       "\t<path stroke='black'  d='M247.4,423.6 L247.4,413.1 M247.4,35.5 L247.4,46.0  '/>\t<g transform=\"translate(247.4,449.2)\" stroke=\"none\" fill=\"black\" font-family=\"Arial\" font-size=\"14.00\"  text-anchor=\"middle\">\n",
       "\t\t<text><tspan font-family=\"Arial\" > 1.5</tspan></text>\n",
       "\t</g>\n",
       "</g>\n",
       "<g fill=\"none\" color=\"black\" stroke=\"currentColor\" stroke-width=\"1.00\" stroke-linecap=\"butt\" stroke-linejoin=\"miter\">\n",
       "\t<path stroke='black'  d='M312.1,423.6 L312.1,413.1 M312.1,35.5 L312.1,46.0  '/>\t<g transform=\"translate(312.1,449.2)\" stroke=\"none\" fill=\"black\" font-family=\"Arial\" font-size=\"14.00\"  text-anchor=\"middle\">\n",
       "\t\t<text><tspan font-family=\"Arial\" > 2</tspan></text>\n",
       "\t</g>\n",
       "</g>\n",
       "<g fill=\"none\" color=\"black\" stroke=\"currentColor\" stroke-width=\"1.00\" stroke-linecap=\"butt\" stroke-linejoin=\"miter\">\n",
       "\t<path stroke='black'  d='M376.7,423.6 L376.7,413.1 M376.7,35.5 L376.7,46.0  '/>\t<g transform=\"translate(376.7,449.2)\" stroke=\"none\" fill=\"black\" font-family=\"Arial\" font-size=\"14.00\"  text-anchor=\"middle\">\n",
       "\t\t<text><tspan font-family=\"Arial\" > 2.5</tspan></text>\n",
       "\t</g>\n",
       "</g>\n",
       "<g fill=\"none\" color=\"black\" stroke=\"currentColor\" stroke-width=\"1.00\" stroke-linecap=\"butt\" stroke-linejoin=\"miter\">\n",
       "\t<path stroke='black'  d='M441.4,423.6 L441.4,413.1 M441.4,35.5 L441.4,46.0  '/>\t<g transform=\"translate(441.4,449.2)\" stroke=\"none\" fill=\"black\" font-family=\"Arial\" font-size=\"14.00\"  text-anchor=\"middle\">\n",
       "\t\t<text><tspan font-family=\"Arial\" > 3</tspan></text>\n",
       "\t</g>\n",
       "</g>\n",
       "<g fill=\"none\" color=\"black\" stroke=\"currentColor\" stroke-width=\"1.00\" stroke-linecap=\"butt\" stroke-linejoin=\"miter\">\n",
       "\t<path stroke='black'  d='M506.1,423.6 L506.1,413.1 M506.1,35.5 L506.1,46.0  '/>\t<g transform=\"translate(506.1,449.2)\" stroke=\"none\" fill=\"black\" font-family=\"Arial\" font-size=\"14.00\"  text-anchor=\"middle\">\n",
       "\t\t<text><tspan font-family=\"Arial\" > 3.5</tspan></text>\n",
       "\t</g>\n",
       "</g>\n",
       "<g fill=\"none\" color=\"black\" stroke=\"currentColor\" stroke-width=\"1.00\" stroke-linecap=\"butt\" stroke-linejoin=\"miter\">\n",
       "\t<path stroke='black'  d='M570.8,423.6 L570.8,413.1 M570.8,35.5 L570.8,46.0  '/>\t<g transform=\"translate(570.8,449.2)\" stroke=\"none\" fill=\"black\" font-family=\"Arial\" font-size=\"14.00\"  text-anchor=\"middle\">\n",
       "\t\t<text><tspan font-family=\"Arial\" > 4</tspan></text>\n",
       "\t</g>\n",
       "</g>\n",
       "<g fill=\"none\" color=\"black\" stroke=\"currentColor\" stroke-width=\"1.00\" stroke-linecap=\"butt\" stroke-linejoin=\"miter\">\n",
       "</g>\n",
       "<g fill=\"none\" color=\"gray\" stroke=\"currentColor\" stroke-width=\"1.00\" stroke-linecap=\"butt\" stroke-linejoin=\"miter\">\n",
       "\t<path stroke='black' stroke-dasharray='2,4'  d='M53.3,423.6 L570.8,423.6  '/></g>\n",
       "<g fill=\"none\" color=\"gray\" stroke=\"currentColor\" stroke-width=\"1.00\" stroke-linecap=\"butt\" stroke-linejoin=\"miter\">\n",
       "\t<path stroke='black' stroke-dasharray='2,4'  d='M53.3,423.6 L53.3,35.5  '/></g>\n",
       "<g fill=\"none\" color=\"gray\" stroke=\"black\" stroke-width=\"2.00\" stroke-linecap=\"butt\" stroke-linejoin=\"miter\">\n",
       "</g>\n",
       "<g fill=\"none\" color=\"black\" stroke=\"currentColor\" stroke-width=\"2.00\" stroke-linecap=\"butt\" stroke-linejoin=\"miter\">\n",
       "</g>\n",
       "<g fill=\"none\" color=\"black\" stroke=\"black\" stroke-width=\"1.00\" stroke-linecap=\"butt\" stroke-linejoin=\"miter\">\n",
       "</g>\n",
       "<g fill=\"none\" color=\"black\" stroke=\"currentColor\" stroke-width=\"1.00\" stroke-linecap=\"butt\" stroke-linejoin=\"miter\">\n",
       "\t<path stroke='black'  d='M53.3,35.5 L53.3,423.6 L570.8,423.6 L570.8,35.5 L53.3,35.5 Z  '/></g>\n",
       "<g fill=\"none\" color=\"black\" stroke=\"currentColor\" stroke-width=\"1.00\" stroke-linecap=\"butt\" stroke-linejoin=\"miter\">\n",
       "</g>\n",
       "</g>\n",
       "</svg>\n",
       "\n"
      ],
      "text/plain": [
       "/tmp/maxplot.svg"
      ]
     },
     "metadata": {},
     "output_type": "display_data"
    }
   ],
   "source": [
    "plot2d([[discrete,xy0],\n",
    "        [discrete,xy1],\n",
    "        [discrete,xy2],\n",
    "        [discrete,xy3],\n",
    "        [discrete,xy4],\n",
    "        [discrete,xy5],\n",
    "        [discrete,xy6],\n",
    "        [discrete,xy7]], [x, 0, 4], [y, 0, 10])$"
   ]
  },
  {
   "cell_type": "markdown",
   "metadata": {},
   "source": [
    "The function above was written in Maxima, but we have an alternative and much more powerful option: since Maxima is written in Common Lisp, we have access to that language as well. Let's rewrite this in Lisp:"
   ]
  },
  {
   "cell_type": "code",
   "execution_count": 31,
   "metadata": {},
   "outputs": [
    {
     "data": {
      "text/plain": [
       "POINTS->MAXIMA"
      ]
     },
     "execution_count": 31,
     "metadata": {},
     "output_type": "execute_result"
    },
    {
     "data": {
      "text/plain": [
       "$RECURSE"
      ]
     },
     "execution_count": 31,
     "metadata": {},
     "output_type": "execute_result"
    },
    {
     "data": {
      "text/plain": [
       "$SQUARED"
      ]
     },
     "execution_count": 31,
     "metadata": {},
     "output_type": "execute_result"
    },
    {
     "name": "stdout",
     "output_type": "stream",
     "text": [
      "\n",
      "Type (to-maxima) to restart, ($quit) to quit Maxima.\n",
      "\n",
      "REDEFINITION-WITH-DEFUN: \n",
      "  redefining MAXIMA::POINTS->MAXIMA in DEFUN\n",
      "\n",
      "REDEFINITION-WITH-DEFUN: \n",
      "  redefining MAXIMA::$RECURSE in DEFUN\n",
      "\n",
      "REDEFINITION-WITH-DEFUN: \n",
      "  redefining MAXIMA::$SQUARED in DEFUN\n",
      "Returning to Maxima\n"
     ]
    }
   ],
   "source": [
    "to_lisp()$\n",
    "\n",
    "(defun points->maxima (data)\n",
    "  (cons '(mlist) \n",
    "        (map 'list (lambda (x) `((mlist) ,@x)) data)))\n",
    "\n",
    "(defun $recurse (func x0 n)\n",
    "  (labels ((r0 (acc)\n",
    "    (let ((step (length acc)))\n",
    "      (if (eql step n) \n",
    "        (points->maxima acc)\n",
    "        (let* ((args (cdar (last acc)))\n",
    "               (xn (apply func args)))\n",
    "          (r0 (append acc `((,step ,xn)))))))))\n",
    "   (r0 `((0 ,x0)))))\n",
    "  \n",
    "(defun $squared (x)\n",
    "  (* x x))\n",
    "  \n",
    "(to-maxima)"
   ]
  },
  {
   "cell_type": "markdown",
   "metadata": {},
   "source": [
    "For more information on these Lisp functions (and how we came up with them), be sure to see the [Use of Lisp](https://nbviewer.jupyter.org/github/calyau/maxima-tutorial-notebooks/blob/master/notebooks/Use%20of%20Lisp.ipynb) Maxima notebook (in particular, the subsection \"Programming in Lisp\").\n",
    "\n",
    "Now let's generate some iterated solutions for our function:"
   ]
  },
  {
   "cell_type": "code",
   "execution_count": 32,
   "metadata": {},
   "outputs": [
    {
     "data": {
      "text/latex": [
       "\\[\\tag{${\\it \\%o}_{83}$}\\left[ \\left[ 0 , 0 \\right]  , \\left[ 1 , 0 \\right]  , \\left[ 2 , 0 \\right]  , \\left[ 3 , 0 \\right]  , \\left[ 4 , 0 \\right]  \\right] \\]"
      ],
      "text/plain": [
       "(%o83)             [[0, 0], [1, 0], [2, 0], [3, 0], [4, 0]]"
      ],
      "text/x-maxima": [
       "[[0,0],[1,0],[2,0],[3,0],[4,0]]"
      ]
     },
     "execution_count": 32,
     "metadata": {},
     "output_type": "execute_result"
    },
    {
     "data": {
      "text/latex": [
       "\\[\\tag{${\\it \\%o}_{84}$}\\left[ \\left[ 0 , 0.5 \\right]  , \\left[ 1 , 0.25 \\right]  , \\left[ 2 , 0.0625 \\right]  , \\left[ 3 , 0.00390625 \\right]  , \\left[ 4 , 1.52587890625 \\times 10^{-5} \\right]  \\right] \\]"
      ],
      "text/plain": [
       "(%o84) [[0, 0.5], [1, 0.25], [2, 0.0625], [3, 0.00390625], \n",
       "                                                         [4, 1.52587890625e-5]]"
      ],
      "text/x-maxima": [
       "[[0,0.5],[1,0.25],[2,0.0625],[3,0.00390625],[4,1.52587890625e-5]]"
      ]
     },
     "execution_count": 32,
     "metadata": {},
     "output_type": "execute_result"
    },
    {
     "data": {
      "text/latex": [
       "\\[\\tag{${\\it \\%o}_{85}$}\\left[ \\left[ 0 , 0.8 \\right]  , \\left[ 1 , 0.6400000000000001 \\right]  , \\left[ 2 , 0.4096000000000002 \\right]  , \\left[ 3 , 0.1677721600000001 \\right]  , \\left[ 4 , 0.02814749767106565 \\right]  \\right] \\]"
      ],
      "text/plain": [
       "(%o85) [[0, 0.8], [1, 0.6400000000000001], [2, 0.4096000000000002], \n",
       "                             [3, 0.1677721600000001], [4, 0.02814749767106565]]"
      ],
      "text/x-maxima": [
       "[[0,0.8],[1,0.6400000000000001],[2,0.4096000000000002],[3,0.1677721600000001],\n",
       " [4,0.02814749767106565]]"
      ]
     },
     "execution_count": 32,
     "metadata": {},
     "output_type": "execute_result"
    },
    {
     "data": {
      "text/latex": [
       "\\[\\tag{${\\it \\%o}_{86}$}\\left[ \\left[ 0 , 0.9 \\right]  , \\left[ 1 , 0.81 \\right]  , \\left[ 2 , 0.6561000000000001 \\right]  , \\left[ 3 , 0.4304672100000002 \\right]  , \\left[ 4 , 0.1853020188851842 \\right]  \\right] \\]"
      ],
      "text/plain": [
       "(%o86) [[0, 0.9], [1, 0.81], [2, 0.6561000000000001], [3, 0.4304672100000002], \n",
       "                                                       [4, 0.1853020188851842]]"
      ],
      "text/x-maxima": [
       "[[0,0.9],[1,0.81],[2,0.6561000000000001],[3,0.4304672100000002],\n",
       " [4,0.1853020188851842]]"
      ]
     },
     "execution_count": 32,
     "metadata": {},
     "output_type": "execute_result"
    },
    {
     "data": {
      "text/latex": [
       "\\[\\tag{${\\it \\%o}_{87}$}\\left[ \\left[ 0 , 1 \\right]  , \\left[ 1 , 1 \\right]  , \\left[ 2 , 1 \\right]  , \\left[ 3 , 1 \\right]  , \\left[ 4 , 1 \\right]  \\right] \\]"
      ],
      "text/plain": [
       "(%o87)             [[0, 1], [1, 1], [2, 1], [3, 1], [4, 1]]"
      ],
      "text/x-maxima": [
       "[[0,1],[1,1],[2,1],[3,1],[4,1]]"
      ]
     },
     "execution_count": 32,
     "metadata": {},
     "output_type": "execute_result"
    },
    {
     "data": {
      "text/latex": [
       "\\[\\tag{${\\it \\%o}_{88}$}\\left[ \\left[ 0 , 1.1 \\right]  , \\left[ 1 , 1.21 \\right]  , \\left[ 2 , 1.4641 \\right]  , \\left[ 3 , 2.143588810000001 \\right]  , \\left[ 4 , 4.594972986357221 \\right]  \\right] \\]"
      ],
      "text/plain": [
       "(%o88) [[0, 1.1], [1, 1.21], [2, 1.4641], [3, 2.143588810000001], \n",
       "                                                        [4, 4.594972986357221]]"
      ],
      "text/x-maxima": [
       "[[0,1.1],[1,1.21],[2,1.4641],[3,2.143588810000001],[4,4.594972986357221]]"
      ]
     },
     "execution_count": 32,
     "metadata": {},
     "output_type": "execute_result"
    },
    {
     "data": {
      "text/latex": [
       "\\[\\tag{${\\it \\%o}_{89}$}\\left[ \\left[ 0 , 1.2 \\right]  , \\left[ 1 , 1.44 \\right]  , \\left[ 2 , 2.0736 \\right]  , \\left[ 3 , 4.299816959999999 \\right]  , \\left[ 4 , 18.48842588950363 \\right]  \\right] \\]"
      ],
      "text/plain": [
       "(%o89) [[0, 1.2], [1, 1.44], [2, 2.0736], [3, 4.299816959999999], \n",
       "                                                        [4, 18.48842588950363]]"
      ],
      "text/x-maxima": [
       "[[0,1.2],[1,1.44],[2,2.0736],[3,4.299816959999999],[4,18.48842588950363]]"
      ]
     },
     "execution_count": 32,
     "metadata": {},
     "output_type": "execute_result"
    },
    {
     "data": {
      "text/latex": [
       "\\[\\tag{${\\it \\%o}_{90}$}\\left[ \\left[ 0 , 1.5 \\right]  , \\left[ 1 , 2.25 \\right]  , \\left[ 2 , 5.0625 \\right]  , \\left[ 3 , 25.62890625 \\right]  , \\left[ 4 , 656.8408355712891 \\right]  \\right] \\]"
      ],
      "text/plain": [
       "(%o90) [[0, 1.5], [1, 2.25], [2, 5.0625], [3, 25.62890625], \n",
       "                                                        [4, 656.8408355712891]]"
      ],
      "text/x-maxima": [
       "[[0,1.5],[1,2.25],[2,5.0625],[3,25.62890625],[4,656.8408355712891]]"
      ]
     },
     "execution_count": 32,
     "metadata": {},
     "output_type": "execute_result"
    }
   ],
   "source": [
    "xy0: recurse(squared, 0, 5);\n",
    "xy1: recurse(squared, 0.5, 5);\n",
    "xy2: recurse(squared, 0.8, 5);\n",
    "xy3: recurse(squared, 0.9, 5);\n",
    "xy4: recurse(squared, 1, 5);\n",
    "xy5: recurse(squared, 1.1, 5);\n",
    "xy6: recurse(squared, 1.2, 5);\n",
    "xy7: recurse(squared, 1.5, 5);"
   ]
  },
  {
   "cell_type": "code",
   "execution_count": 33,
   "metadata": {},
   "outputs": [
    {
     "data": {
      "image/svg+xml": [
       "<?xml version=\"1.0\" encoding=\"utf-8\"  standalone=\"no\"?>\n",
       "<svg \n",
       " width=\"600\" height=\"480\"\n",
       " viewBox=\"0 0 600 480\"\n",
       " xmlns=\"http://www.w3.org/2000/svg\"\n",
       " xmlns:xlink=\"http://www.w3.org/1999/xlink\"\n",
       ">\n",
       "\n",
       "<title>Gnuplot</title>\n",
       "<desc>Produced by GNUPLOT 5.2 patchlevel 7 </desc>\n",
       "\n",
       "<g id=\"gnuplot_canvas\">\n",
       "\n",
       "<rect x=\"0\" y=\"0\" width=\"600\" height=\"480\" fill=\"none\"/>\n",
       "<defs>\n",
       "\n",
       "\t<circle id='gpDot' r='0.5' stroke-width='0.5' stroke='currentColor'/>\n",
       "\t<path id='gpPt0' stroke-width='0.190' stroke='currentColor' d='M-1,0 h2 M0,-1 v2'/>\n",
       "\t<path id='gpPt1' stroke-width='0.190' stroke='currentColor' d='M-1,-1 L1,1 M1,-1 L-1,1'/>\n",
       "\t<path id='gpPt2' stroke-width='0.190' stroke='currentColor' d='M-1,0 L1,0 M0,-1 L0,1 M-1,-1 L1,1 M-1,1 L1,-1'/>\n",
       "\t<rect id='gpPt3' stroke-width='0.190' stroke='currentColor' x='-1' y='-1' width='2' height='2'/>\n",
       "\t<rect id='gpPt4' stroke-width='0.190' stroke='currentColor' fill='currentColor' x='-1' y='-1' width='2' height='2'/>\n",
       "\t<circle id='gpPt5' stroke-width='0.190' stroke='currentColor' cx='0' cy='0' r='1'/>\n",
       "\t<use xlink:href='#gpPt5' id='gpPt6' fill='currentColor' stroke='none'/>\n",
       "\t<path id='gpPt7' stroke-width='0.190' stroke='currentColor' d='M0,-1.33 L-1.33,0.67 L1.33,0.67 z'/>\n",
       "\t<use xlink:href='#gpPt7' id='gpPt8' fill='currentColor' stroke='none'/>\n",
       "\t<use xlink:href='#gpPt7' id='gpPt9' stroke='currentColor' transform='rotate(180)'/>\n",
       "\t<use xlink:href='#gpPt9' id='gpPt10' fill='currentColor' stroke='none'/>\n",
       "\t<use xlink:href='#gpPt3' id='gpPt11' stroke='currentColor' transform='rotate(45)'/>\n",
       "\t<use xlink:href='#gpPt11' id='gpPt12' fill='currentColor' stroke='none'/>\n",
       "\t<path id='gpPt13' stroke-width='0.190' stroke='currentColor' d='M0,1.330 L1.265,0.411 L0.782,-1.067 L-0.782,-1.076 L-1.265,0.411 z'/>\n",
       "\t<use xlink:href='#gpPt13' id='gpPt14' fill='currentColor' stroke='none'/>\n",
       "\t<filter id='textbox' filterUnits='objectBoundingBox' x='0' y='0' height='1' width='1'>\n",
       "\t  <feFlood flood-color='white' flood-opacity='1' result='bgnd'/>\n",
       "\t  <feComposite in='SourceGraphic' in2='bgnd' operator='atop'/>\n",
       "\t</filter>\n",
       "\t<filter id='greybox' filterUnits='objectBoundingBox' x='0' y='0' height='1' width='1'>\n",
       "\t  <feFlood flood-color='lightgrey' flood-opacity='1' result='grey'/>\n",
       "\t  <feComposite in='SourceGraphic' in2='grey' operator='atop'/>\n",
       "\t</filter>\n",
       "</defs>\n",
       "<g fill=\"none\" color=\"white\" stroke=\"currentColor\" stroke-width=\"1.00\" stroke-linecap=\"butt\" stroke-linejoin=\"miter\">\n",
       "</g>\n",
       "<g fill=\"none\" color=\"gray\" stroke=\"currentColor\" stroke-width=\"1.00\" stroke-linecap=\"butt\" stroke-linejoin=\"miter\">\n",
       "\t<path stroke='black' stroke-dasharray='2,4'  d='M53.3,423.6 L570.8,423.6  '/></g>\n",
       "<g fill=\"none\" color=\"gray\" stroke=\"currentColor\" stroke-width=\"1.00\" stroke-linecap=\"butt\" stroke-linejoin=\"miter\">\n",
       "\t<path stroke='black' stroke-dasharray='2,4'  d='M53.3,423.6 L53.3,35.5  '/></g>\n",
       "<g fill=\"none\" color=\"black\" stroke=\"currentColor\" stroke-width=\"1.00\" stroke-linecap=\"butt\" stroke-linejoin=\"miter\">\n",
       "\t<path stroke='black'  d='M53.3,35.5 L53.3,423.6 L570.8,423.6 L570.8,35.5 L53.3,35.5 Z  '/></g>\n",
       "<g fill=\"none\" color=\"black\" stroke=\"currentColor\" stroke-width=\"1.00\" stroke-linecap=\"butt\" stroke-linejoin=\"miter\">\n",
       "</g>\n",
       "\t<g id=\"gnuplot_plot_1\" ><title>discrete1</title>\n",
       "<g fill=\"none\" color=\"black\" stroke=\"currentColor\" stroke-width=\"1.00\" stroke-linecap=\"butt\" stroke-linejoin=\"miter\">\n",
       "\t<g transform=\"translate(492.4,61.1)\" stroke=\"none\" fill=\"black\" font-family=\"Arial\" font-size=\"14.00\"  text-anchor=\"end\">\n",
       "\t\t<text><tspan font-family=\"Arial\" >discrete1</tspan></text>\n",
       "\t</g>\n",
       "</g>\n",
       "<g fill=\"none\" color=\"black\" stroke=\"currentColor\" stroke-width=\"1.00\" stroke-linecap=\"butt\" stroke-linejoin=\"miter\">\n",
       "\t<path stroke='rgb(  0,   0, 255)'  d='M502.1,56.5 L551.4,56.5 M53.3,423.6 L182.7,423.6 L312.1,423.6 L441.4,423.6 L570.8,423.6  '/></g>\n",
       "\t</g>\n",
       "\t<g id=\"gnuplot_plot_2\" ><title>discrete2</title>\n",
       "<g fill=\"none\" color=\"black\" stroke=\"currentColor\" stroke-width=\"1.00\" stroke-linecap=\"butt\" stroke-linejoin=\"miter\">\n",
       "\t<g transform=\"translate(492.4,82.1)\" stroke=\"none\" fill=\"black\" font-family=\"Arial\" font-size=\"14.00\"  text-anchor=\"end\">\n",
       "\t\t<text><tspan font-family=\"Arial\" >discrete2</tspan></text>\n",
       "\t</g>\n",
       "</g>\n",
       "<g fill=\"none\" color=\"black\" stroke=\"currentColor\" stroke-width=\"1.00\" stroke-linecap=\"butt\" stroke-linejoin=\"miter\">\n",
       "\t<path stroke='rgb(255,   0,   0)'  d='M502.1,77.5 L551.4,77.5 M53.3,404.2 L182.7,413.9 L312.1,421.2 L441.4,423.4 L570.8,423.6  '/></g>\n",
       "\t</g>\n",
       "\t<g id=\"gnuplot_plot_3\" ><title>discrete3</title>\n",
       "<g fill=\"none\" color=\"black\" stroke=\"currentColor\" stroke-width=\"1.00\" stroke-linecap=\"butt\" stroke-linejoin=\"miter\">\n",
       "\t<g transform=\"translate(492.4,103.1)\" stroke=\"none\" fill=\"black\" font-family=\"Arial\" font-size=\"14.00\"  text-anchor=\"end\">\n",
       "\t\t<text><tspan font-family=\"Arial\" >discrete3</tspan></text>\n",
       "\t</g>\n",
       "</g>\n",
       "<g fill=\"none\" color=\"black\" stroke=\"currentColor\" stroke-width=\"1.00\" stroke-linecap=\"butt\" stroke-linejoin=\"miter\">\n",
       "\t<path stroke='rgb(  0, 255,   0)'  d='M502.1,98.5 L551.4,98.5 M53.3,392.6 L182.7,398.8 L312.1,407.7 L441.4,417.1 L570.8,422.5  '/></g>\n",
       "\t</g>\n",
       "\t<g id=\"gnuplot_plot_4\" ><title>discrete4</title>\n",
       "<g fill=\"none\" color=\"black\" stroke=\"currentColor\" stroke-width=\"1.00\" stroke-linecap=\"butt\" stroke-linejoin=\"miter\">\n",
       "\t<g transform=\"translate(492.4,124.1)\" stroke=\"none\" fill=\"black\" font-family=\"Arial\" font-size=\"14.00\"  text-anchor=\"end\">\n",
       "\t\t<text><tspan font-family=\"Arial\" >discrete4</tspan></text>\n",
       "\t</g>\n",
       "</g>\n",
       "<g fill=\"none\" color=\"black\" stroke=\"currentColor\" stroke-width=\"1.00\" stroke-linecap=\"butt\" stroke-linejoin=\"miter\">\n",
       "\t<path stroke='rgb(255,   0, 255)'  d='M502.1,119.5 L551.4,119.5 M53.3,388.7 L182.7,392.2 L312.1,398.1 L441.4,406.9 L570.8,416.4  '/></g>\n",
       "\t</g>\n",
       "\t<g id=\"gnuplot_plot_5\" ><title>discrete5</title>\n",
       "<g fill=\"none\" color=\"black\" stroke=\"currentColor\" stroke-width=\"1.00\" stroke-linecap=\"butt\" stroke-linejoin=\"miter\">\n",
       "\t<g transform=\"translate(492.4,145.1)\" stroke=\"none\" fill=\"black\" font-family=\"Arial\" font-size=\"14.00\"  text-anchor=\"end\">\n",
       "\t\t<text><tspan font-family=\"Arial\" >discrete5</tspan></text>\n",
       "\t</g>\n",
       "</g>\n",
       "<g fill=\"none\" color=\"black\" stroke=\"currentColor\" stroke-width=\"1.00\" stroke-linecap=\"butt\" stroke-linejoin=\"miter\">\n",
       "\t<path stroke='rgb(  0,   0,   0)'  d='M502.1,140.5 L551.4,140.5 M53.3,384.8 L182.7,384.8 L312.1,384.8 L441.4,384.8 L570.8,384.8  '/></g>\n",
       "\t</g>\n",
       "\t<g id=\"gnuplot_plot_6\" ><title>discrete6</title>\n",
       "<g fill=\"none\" color=\"black\" stroke=\"currentColor\" stroke-width=\"1.00\" stroke-linecap=\"butt\" stroke-linejoin=\"miter\">\n",
       "\t<g transform=\"translate(492.4,166.1)\" stroke=\"none\" fill=\"black\" font-family=\"Arial\" font-size=\"14.00\"  text-anchor=\"end\">\n",
       "\t\t<text><tspan font-family=\"Arial\" >discrete6</tspan></text>\n",
       "\t</g>\n",
       "</g>\n",
       "<g fill=\"none\" color=\"black\" stroke=\"currentColor\" stroke-width=\"1.00\" stroke-linecap=\"butt\" stroke-linejoin=\"miter\">\n",
       "\t<path stroke='rgb(  0, 255, 255)'  d='M502.1,161.5 L551.4,161.5 M53.3,380.9 L182.7,376.6 L312.1,366.8 L441.4,340.4 L570.8,245.3  '/></g>\n",
       "\t</g>\n",
       "\t<g id=\"gnuplot_plot_7\" ><title>discrete7</title>\n",
       "<g fill=\"none\" color=\"black\" stroke=\"currentColor\" stroke-width=\"1.00\" stroke-linecap=\"butt\" stroke-linejoin=\"miter\">\n",
       "\t<g transform=\"translate(492.4,187.1)\" stroke=\"none\" fill=\"black\" font-family=\"Arial\" font-size=\"14.00\"  text-anchor=\"end\">\n",
       "\t\t<text><tspan font-family=\"Arial\" >discrete7</tspan></text>\n",
       "\t</g>\n",
       "</g>\n",
       "<g fill=\"none\" color=\"black\" stroke=\"currentColor\" stroke-width=\"1.00\" stroke-linecap=\"butt\" stroke-linejoin=\"miter\">\n",
       "\t<path stroke='rgb(  0,   0, 255)'  d='M502.1,182.5 L551.4,182.5 M53.3,377.0 L182.7,367.7 L312.1,343.1 L441.4,256.7 L493.3,35.5  '/></g>\n",
       "\t</g>\n",
       "\t<g id=\"gnuplot_plot_8\" ><title>discrete8</title>\n",
       "<g fill=\"none\" color=\"black\" stroke=\"currentColor\" stroke-width=\"1.00\" stroke-linecap=\"butt\" stroke-linejoin=\"miter\">\n",
       "\t<g transform=\"translate(492.4,208.1)\" stroke=\"none\" fill=\"black\" font-family=\"Arial\" font-size=\"14.00\"  text-anchor=\"end\">\n",
       "\t\t<text><tspan font-family=\"Arial\" >discrete8</tspan></text>\n",
       "\t</g>\n",
       "</g>\n",
       "<g fill=\"none\" color=\"black\" stroke=\"currentColor\" stroke-width=\"1.00\" stroke-linecap=\"butt\" stroke-linejoin=\"miter\">\n",
       "\t<path stroke='rgb(255,   0,   0)'  d='M502.1,203.5 L551.4,203.5 M53.3,365.4 L182.7,336.3 L312.1,227.1 L343.1,35.5  '/></g>\n",
       "\t</g>\n",
       "<g fill=\"none\" color=\"black\" stroke=\"currentColor\" stroke-width=\"1.00\" stroke-linecap=\"butt\" stroke-linejoin=\"miter\">\n",
       "\t<path stroke='black'  d='M53.3,423.6 L63.8,423.6 M570.8,423.6 L560.3,423.6  '/>\t<g transform=\"translate(43.6,428.2)\" stroke=\"none\" fill=\"black\" font-family=\"Arial\" font-size=\"14.00\"  text-anchor=\"end\">\n",
       "\t\t<text><tspan font-family=\"Arial\" > 0</tspan></text>\n",
       "\t</g>\n",
       "</g>\n",
       "<g fill=\"none\" color=\"black\" stroke=\"currentColor\" stroke-width=\"1.00\" stroke-linecap=\"butt\" stroke-linejoin=\"miter\">\n",
       "\t<path stroke='black'  d='M53.3,346.0 L63.8,346.0 M570.8,346.0 L560.3,346.0  '/>\t<g transform=\"translate(43.6,350.6)\" stroke=\"none\" fill=\"black\" font-family=\"Arial\" font-size=\"14.00\"  text-anchor=\"end\">\n",
       "\t\t<text><tspan font-family=\"Arial\" > 2</tspan></text>\n",
       "\t</g>\n",
       "</g>\n",
       "<g fill=\"none\" color=\"black\" stroke=\"currentColor\" stroke-width=\"1.00\" stroke-linecap=\"butt\" stroke-linejoin=\"miter\">\n",
       "\t<path stroke='black'  d='M53.3,268.4 L63.8,268.4 M570.8,268.4 L560.3,268.4  '/>\t<g transform=\"translate(43.6,273.0)\" stroke=\"none\" fill=\"black\" font-family=\"Arial\" font-size=\"14.00\"  text-anchor=\"end\">\n",
       "\t\t<text><tspan font-family=\"Arial\" > 4</tspan></text>\n",
       "\t</g>\n",
       "</g>\n",
       "<g fill=\"none\" color=\"black\" stroke=\"currentColor\" stroke-width=\"1.00\" stroke-linecap=\"butt\" stroke-linejoin=\"miter\">\n",
       "\t<path stroke='black'  d='M53.3,190.7 L63.8,190.7 M570.8,190.7 L560.3,190.7  '/>\t<g transform=\"translate(43.6,195.3)\" stroke=\"none\" fill=\"black\" font-family=\"Arial\" font-size=\"14.00\"  text-anchor=\"end\">\n",
       "\t\t<text><tspan font-family=\"Arial\" > 6</tspan></text>\n",
       "\t</g>\n",
       "</g>\n",
       "<g fill=\"none\" color=\"black\" stroke=\"currentColor\" stroke-width=\"1.00\" stroke-linecap=\"butt\" stroke-linejoin=\"miter\">\n",
       "\t<path stroke='black'  d='M53.3,113.1 L63.8,113.1 M570.8,113.1 L560.3,113.1  '/>\t<g transform=\"translate(43.6,117.7)\" stroke=\"none\" fill=\"black\" font-family=\"Arial\" font-size=\"14.00\"  text-anchor=\"end\">\n",
       "\t\t<text><tspan font-family=\"Arial\" > 8</tspan></text>\n",
       "\t</g>\n",
       "</g>\n",
       "<g fill=\"none\" color=\"black\" stroke=\"currentColor\" stroke-width=\"1.00\" stroke-linecap=\"butt\" stroke-linejoin=\"miter\">\n",
       "\t<path stroke='black'  d='M53.3,35.5 L63.8,35.5 M570.8,35.5 L560.3,35.5  '/>\t<g transform=\"translate(43.6,40.1)\" stroke=\"none\" fill=\"black\" font-family=\"Arial\" font-size=\"14.00\"  text-anchor=\"end\">\n",
       "\t\t<text><tspan font-family=\"Arial\" > 10</tspan></text>\n",
       "\t</g>\n",
       "</g>\n",
       "<g fill=\"none\" color=\"black\" stroke=\"currentColor\" stroke-width=\"1.00\" stroke-linecap=\"butt\" stroke-linejoin=\"miter\">\n",
       "\t<path stroke='black'  d='M53.3,423.6 L53.3,413.1 M53.3,35.5 L53.3,46.0  '/>\t<g transform=\"translate(53.3,449.2)\" stroke=\"none\" fill=\"black\" font-family=\"Arial\" font-size=\"14.00\"  text-anchor=\"middle\">\n",
       "\t\t<text><tspan font-family=\"Arial\" > 0</tspan></text>\n",
       "\t</g>\n",
       "</g>\n",
       "<g fill=\"none\" color=\"black\" stroke=\"currentColor\" stroke-width=\"1.00\" stroke-linecap=\"butt\" stroke-linejoin=\"miter\">\n",
       "\t<path stroke='black'  d='M118.0,423.6 L118.0,413.1 M118.0,35.5 L118.0,46.0  '/>\t<g transform=\"translate(118.0,449.2)\" stroke=\"none\" fill=\"black\" font-family=\"Arial\" font-size=\"14.00\"  text-anchor=\"middle\">\n",
       "\t\t<text><tspan font-family=\"Arial\" > 0.5</tspan></text>\n",
       "\t</g>\n",
       "</g>\n",
       "<g fill=\"none\" color=\"black\" stroke=\"currentColor\" stroke-width=\"1.00\" stroke-linecap=\"butt\" stroke-linejoin=\"miter\">\n",
       "\t<path stroke='black'  d='M182.7,423.6 L182.7,413.1 M182.7,35.5 L182.7,46.0  '/>\t<g transform=\"translate(182.7,449.2)\" stroke=\"none\" fill=\"black\" font-family=\"Arial\" font-size=\"14.00\"  text-anchor=\"middle\">\n",
       "\t\t<text><tspan font-family=\"Arial\" > 1</tspan></text>\n",
       "\t</g>\n",
       "</g>\n",
       "<g fill=\"none\" color=\"black\" stroke=\"currentColor\" stroke-width=\"1.00\" stroke-linecap=\"butt\" stroke-linejoin=\"miter\">\n",
       "\t<path stroke='black'  d='M247.4,423.6 L247.4,413.1 M247.4,35.5 L247.4,46.0  '/>\t<g transform=\"translate(247.4,449.2)\" stroke=\"none\" fill=\"black\" font-family=\"Arial\" font-size=\"14.00\"  text-anchor=\"middle\">\n",
       "\t\t<text><tspan font-family=\"Arial\" > 1.5</tspan></text>\n",
       "\t</g>\n",
       "</g>\n",
       "<g fill=\"none\" color=\"black\" stroke=\"currentColor\" stroke-width=\"1.00\" stroke-linecap=\"butt\" stroke-linejoin=\"miter\">\n",
       "\t<path stroke='black'  d='M312.1,423.6 L312.1,413.1 M312.1,35.5 L312.1,46.0  '/>\t<g transform=\"translate(312.1,449.2)\" stroke=\"none\" fill=\"black\" font-family=\"Arial\" font-size=\"14.00\"  text-anchor=\"middle\">\n",
       "\t\t<text><tspan font-family=\"Arial\" > 2</tspan></text>\n",
       "\t</g>\n",
       "</g>\n",
       "<g fill=\"none\" color=\"black\" stroke=\"currentColor\" stroke-width=\"1.00\" stroke-linecap=\"butt\" stroke-linejoin=\"miter\">\n",
       "\t<path stroke='black'  d='M376.7,423.6 L376.7,413.1 M376.7,35.5 L376.7,46.0  '/>\t<g transform=\"translate(376.7,449.2)\" stroke=\"none\" fill=\"black\" font-family=\"Arial\" font-size=\"14.00\"  text-anchor=\"middle\">\n",
       "\t\t<text><tspan font-family=\"Arial\" > 2.5</tspan></text>\n",
       "\t</g>\n",
       "</g>\n",
       "<g fill=\"none\" color=\"black\" stroke=\"currentColor\" stroke-width=\"1.00\" stroke-linecap=\"butt\" stroke-linejoin=\"miter\">\n",
       "\t<path stroke='black'  d='M441.4,423.6 L441.4,413.1 M441.4,35.5 L441.4,46.0  '/>\t<g transform=\"translate(441.4,449.2)\" stroke=\"none\" fill=\"black\" font-family=\"Arial\" font-size=\"14.00\"  text-anchor=\"middle\">\n",
       "\t\t<text><tspan font-family=\"Arial\" > 3</tspan></text>\n",
       "\t</g>\n",
       "</g>\n",
       "<g fill=\"none\" color=\"black\" stroke=\"currentColor\" stroke-width=\"1.00\" stroke-linecap=\"butt\" stroke-linejoin=\"miter\">\n",
       "\t<path stroke='black'  d='M506.1,423.6 L506.1,413.1 M506.1,35.5 L506.1,46.0  '/>\t<g transform=\"translate(506.1,449.2)\" stroke=\"none\" fill=\"black\" font-family=\"Arial\" font-size=\"14.00\"  text-anchor=\"middle\">\n",
       "\t\t<text><tspan font-family=\"Arial\" > 3.5</tspan></text>\n",
       "\t</g>\n",
       "</g>\n",
       "<g fill=\"none\" color=\"black\" stroke=\"currentColor\" stroke-width=\"1.00\" stroke-linecap=\"butt\" stroke-linejoin=\"miter\">\n",
       "\t<path stroke='black'  d='M570.8,423.6 L570.8,413.1 M570.8,35.5 L570.8,46.0  '/>\t<g transform=\"translate(570.8,449.2)\" stroke=\"none\" fill=\"black\" font-family=\"Arial\" font-size=\"14.00\"  text-anchor=\"middle\">\n",
       "\t\t<text><tspan font-family=\"Arial\" > 4</tspan></text>\n",
       "\t</g>\n",
       "</g>\n",
       "<g fill=\"none\" color=\"black\" stroke=\"currentColor\" stroke-width=\"1.00\" stroke-linecap=\"butt\" stroke-linejoin=\"miter\">\n",
       "</g>\n",
       "<g fill=\"none\" color=\"gray\" stroke=\"currentColor\" stroke-width=\"1.00\" stroke-linecap=\"butt\" stroke-linejoin=\"miter\">\n",
       "\t<path stroke='black' stroke-dasharray='2,4'  d='M53.3,423.6 L570.8,423.6  '/></g>\n",
       "<g fill=\"none\" color=\"gray\" stroke=\"currentColor\" stroke-width=\"1.00\" stroke-linecap=\"butt\" stroke-linejoin=\"miter\">\n",
       "\t<path stroke='black' stroke-dasharray='2,4'  d='M53.3,423.6 L53.3,35.5  '/></g>\n",
       "<g fill=\"none\" color=\"gray\" stroke=\"black\" stroke-width=\"2.00\" stroke-linecap=\"butt\" stroke-linejoin=\"miter\">\n",
       "</g>\n",
       "<g fill=\"none\" color=\"black\" stroke=\"currentColor\" stroke-width=\"2.00\" stroke-linecap=\"butt\" stroke-linejoin=\"miter\">\n",
       "</g>\n",
       "<g fill=\"none\" color=\"black\" stroke=\"black\" stroke-width=\"1.00\" stroke-linecap=\"butt\" stroke-linejoin=\"miter\">\n",
       "</g>\n",
       "<g fill=\"none\" color=\"black\" stroke=\"currentColor\" stroke-width=\"1.00\" stroke-linecap=\"butt\" stroke-linejoin=\"miter\">\n",
       "\t<path stroke='black'  d='M53.3,35.5 L53.3,423.6 L570.8,423.6 L570.8,35.5 L53.3,35.5 Z  '/></g>\n",
       "<g fill=\"none\" color=\"black\" stroke=\"currentColor\" stroke-width=\"1.00\" stroke-linecap=\"butt\" stroke-linejoin=\"miter\">\n",
       "</g>\n",
       "</g>\n",
       "</svg>\n",
       "\n"
      ],
      "text/plain": [
       "/tmp/maxplot.svg"
      ]
     },
     "metadata": {},
     "output_type": "display_data"
    }
   ],
   "source": [
    "set_plot_option([svg_file, \"maxplot.svg\"])$\n",
    "plot2d([[discrete,xy0],\n",
    "        [discrete,xy1],\n",
    "        [discrete,xy2],\n",
    "        [discrete,xy3],\n",
    "        [discrete,xy4],\n",
    "        [discrete,xy5],\n",
    "        [discrete,xy6],\n",
    "        [discrete,xy7]], [x, 0, 4], [y, 0, 10])$"
   ]
  },
  {
   "cell_type": "markdown",
   "metadata": {},
   "source": [
    "## $h(x) = 3x - 10$"
   ]
  },
  {
   "cell_type": "code",
   "execution_count": 13,
   "metadata": {},
   "outputs": [
    {
     "data": {
      "text/latex": [
       "\\[\\tag{${\\it \\%o}_{30}$}h\\left(x\\right):=3\\,x-10\\]"
      ],
      "text/plain": [
       "(%o30)                         h(x) := 3 x - 10"
      ],
      "text/x-maxima": [
       "h(x):=3*x-10"
      ]
     },
     "execution_count": 13,
     "metadata": {},
     "output_type": "execute_result"
    }
   ],
   "source": [
    "h(x) := 3 * x - 10;"
   ]
  },
  {
   "cell_type": "code",
   "execution_count": 14,
   "metadata": {},
   "outputs": [
    {
     "data": {
      "text/latex": [
       "\\[\\tag{${\\it \\%o}_{31}$}\\left[ \\left[ 0 , -5 \\right]  , \\left[ 1 , -25 \\right]  , \\left[ 2 , -85 \\right]  , \\left[ 3 , -265 \\right]  , \\left[ 4 , -805 \\right]  \\right] \\]"
      ],
      "text/plain": [
       "(%o31)     [[0, - 5], [1, - 25], [2, - 85], [3, - 265], [4, - 805]]"
      ],
      "text/x-maxima": [
       "[[0,-5],[1,-25],[2,-85],[3,-265],[4,-805]]"
      ]
     },
     "execution_count": 14,
     "metadata": {},
     "output_type": "execute_result"
    },
    {
     "data": {
      "text/latex": [
       "\\[\\tag{${\\it \\%o}_{32}$}\\left[ \\left[ 0 , 0 \\right]  , \\left[ 1 , -10 \\right]  , \\left[ 2 , -40 \\right]  , \\left[ 3 , -130 \\right]  , \\left[ 4 , -400 \\right]  \\right] \\]"
      ],
      "text/plain": [
       "(%o32)      [[0, 0], [1, - 10], [2, - 40], [3, - 130], [4, - 400]]"
      ],
      "text/x-maxima": [
       "[[0,0],[1,-10],[2,-40],[3,-130],[4,-400]]"
      ]
     },
     "execution_count": 14,
     "metadata": {},
     "output_type": "execute_result"
    },
    {
     "data": {
      "text/latex": [
       "\\[\\tag{${\\it \\%o}_{33}$}\\left[ \\left[ 0 , 3.33 \\right]  , \\left[ 1 , -0.009999999999999787 \\right]  , \\left[ 2 , -10.03 \\right]  , \\left[ 3 , -40.09 \\right]  , \\left[ 4 , -130.27 \\right]  \\right] \\]"
      ],
      "text/plain": [
       "(%o33) [[0, 3.33], [1, - 0.009999999999999787], [2, - 10.03], [3, - 40.09], \n",
       "                                                                 [4, - 130.27]]"
      ],
      "text/x-maxima": [
       "[[0,3.33],[1,-0.009999999999999787],[2,-10.03],[3,-40.09],[4,-130.27]]"
      ]
     },
     "execution_count": 14,
     "metadata": {},
     "output_type": "execute_result"
    },
    {
     "data": {
      "text/latex": [
       "\\[\\tag{${\\it \\%o}_{34}$}\\left[ \\left[ 0 , 5 \\right]  , \\left[ 1 , 5 \\right]  , \\left[ 2 , 5 \\right]  , \\left[ 3 , 5 \\right]  , \\left[ 4 , 5 \\right]  \\right] \\]"
      ],
      "text/plain": [
       "(%o34)             [[0, 5], [1, 5], [2, 5], [3, 5], [4, 5]]"
      ],
      "text/x-maxima": [
       "[[0,5],[1,5],[2,5],[3,5],[4,5]]"
      ]
     },
     "execution_count": 14,
     "metadata": {},
     "output_type": "execute_result"
    }
   ],
   "source": [
    "xy1: recurse(h, -5, 5);\n",
    "xy2: recurse(h, 0, 5);\n",
    "xy3: recurse(h, 3.33, 5);\n",
    "xy4: recurse(h, 5, 5);\n"
   ]
  },
  {
   "cell_type": "code",
   "execution_count": 15,
   "metadata": {},
   "outputs": [
    {
     "data": {
      "image/svg+xml": [
       "<?xml version=\"1.0\" encoding=\"utf-8\"  standalone=\"no\"?>\n",
       "<svg \n",
       " width=\"600\" height=\"480\"\n",
       " viewBox=\"0 0 600 480\"\n",
       " xmlns=\"http://www.w3.org/2000/svg\"\n",
       " xmlns:xlink=\"http://www.w3.org/1999/xlink\"\n",
       ">\n",
       "\n",
       "<title>Gnuplot</title>\n",
       "<desc>Produced by GNUPLOT 5.2 patchlevel 7 </desc>\n",
       "\n",
       "<g id=\"gnuplot_canvas\">\n",
       "\n",
       "<rect x=\"0\" y=\"0\" width=\"600\" height=\"480\" fill=\"none\"/>\n",
       "<defs>\n",
       "\n",
       "\t<circle id='gpDot' r='0.5' stroke-width='0.5' stroke='currentColor'/>\n",
       "\t<path id='gpPt0' stroke-width='0.190' stroke='currentColor' d='M-1,0 h2 M0,-1 v2'/>\n",
       "\t<path id='gpPt1' stroke-width='0.190' stroke='currentColor' d='M-1,-1 L1,1 M1,-1 L-1,1'/>\n",
       "\t<path id='gpPt2' stroke-width='0.190' stroke='currentColor' d='M-1,0 L1,0 M0,-1 L0,1 M-1,-1 L1,1 M-1,1 L1,-1'/>\n",
       "\t<rect id='gpPt3' stroke-width='0.190' stroke='currentColor' x='-1' y='-1' width='2' height='2'/>\n",
       "\t<rect id='gpPt4' stroke-width='0.190' stroke='currentColor' fill='currentColor' x='-1' y='-1' width='2' height='2'/>\n",
       "\t<circle id='gpPt5' stroke-width='0.190' stroke='currentColor' cx='0' cy='0' r='1'/>\n",
       "\t<use xlink:href='#gpPt5' id='gpPt6' fill='currentColor' stroke='none'/>\n",
       "\t<path id='gpPt7' stroke-width='0.190' stroke='currentColor' d='M0,-1.33 L-1.33,0.67 L1.33,0.67 z'/>\n",
       "\t<use xlink:href='#gpPt7' id='gpPt8' fill='currentColor' stroke='none'/>\n",
       "\t<use xlink:href='#gpPt7' id='gpPt9' stroke='currentColor' transform='rotate(180)'/>\n",
       "\t<use xlink:href='#gpPt9' id='gpPt10' fill='currentColor' stroke='none'/>\n",
       "\t<use xlink:href='#gpPt3' id='gpPt11' stroke='currentColor' transform='rotate(45)'/>\n",
       "\t<use xlink:href='#gpPt11' id='gpPt12' fill='currentColor' stroke='none'/>\n",
       "\t<path id='gpPt13' stroke-width='0.190' stroke='currentColor' d='M0,1.330 L1.265,0.411 L0.782,-1.067 L-0.782,-1.076 L-1.265,0.411 z'/>\n",
       "\t<use xlink:href='#gpPt13' id='gpPt14' fill='currentColor' stroke='none'/>\n",
       "\t<filter id='textbox' filterUnits='objectBoundingBox' x='0' y='0' height='1' width='1'>\n",
       "\t  <feFlood flood-color='white' flood-opacity='1' result='bgnd'/>\n",
       "\t  <feComposite in='SourceGraphic' in2='bgnd' operator='atop'/>\n",
       "\t</filter>\n",
       "\t<filter id='greybox' filterUnits='objectBoundingBox' x='0' y='0' height='1' width='1'>\n",
       "\t  <feFlood flood-color='lightgrey' flood-opacity='1' result='grey'/>\n",
       "\t  <feComposite in='SourceGraphic' in2='grey' operator='atop'/>\n",
       "\t</filter>\n",
       "</defs>\n",
       "<g fill=\"none\" color=\"white\" stroke=\"currentColor\" stroke-width=\"1.00\" stroke-linecap=\"butt\" stroke-linejoin=\"miter\">\n",
       "</g>\n",
       "<g fill=\"none\" color=\"gray\" stroke=\"currentColor\" stroke-width=\"1.00\" stroke-linecap=\"butt\" stroke-linejoin=\"miter\">\n",
       "\t<path stroke='black' stroke-dasharray='2,4'  d='M53.3,229.5 L570.8,229.5  '/></g>\n",
       "<g fill=\"none\" color=\"gray\" stroke=\"currentColor\" stroke-width=\"1.00\" stroke-linecap=\"butt\" stroke-linejoin=\"miter\">\n",
       "\t<path stroke='black' stroke-dasharray='2,4'  d='M53.3,423.6 L53.3,35.5  '/></g>\n",
       "<g fill=\"none\" color=\"black\" stroke=\"currentColor\" stroke-width=\"1.00\" stroke-linecap=\"butt\" stroke-linejoin=\"miter\">\n",
       "\t<path stroke='black'  d='M53.3,35.5 L53.3,423.6 L570.8,423.6 L570.8,35.5 L53.3,35.5 Z  '/></g>\n",
       "<g fill=\"none\" color=\"black\" stroke=\"currentColor\" stroke-width=\"1.00\" stroke-linecap=\"butt\" stroke-linejoin=\"miter\">\n",
       "</g>\n",
       "\t<g id=\"gnuplot_plot_1\" ><title>discrete1</title>\n",
       "<g fill=\"none\" color=\"black\" stroke=\"currentColor\" stroke-width=\"1.00\" stroke-linecap=\"butt\" stroke-linejoin=\"miter\">\n",
       "\t<g transform=\"translate(492.4,61.1)\" stroke=\"none\" fill=\"black\" font-family=\"Arial\" font-size=\"14.00\"  text-anchor=\"end\">\n",
       "\t\t<text><tspan font-family=\"Arial\" >discrete1</tspan></text>\n",
       "\t</g>\n",
       "</g>\n",
       "<g fill=\"none\" color=\"black\" stroke=\"currentColor\" stroke-width=\"1.00\" stroke-linecap=\"butt\" stroke-linejoin=\"miter\">\n",
       "\t<path stroke='rgb(  0,   0, 255)'  d='M502.1,56.5 L551.4,56.5 M53.3,261.9 L182.7,391.3 L193.4,423.6  '/></g>\n",
       "\t</g>\n",
       "\t<g id=\"gnuplot_plot_2\" ><title>discrete2</title>\n",
       "<g fill=\"none\" color=\"black\" stroke=\"currentColor\" stroke-width=\"1.00\" stroke-linecap=\"butt\" stroke-linejoin=\"miter\">\n",
       "\t<g transform=\"translate(492.4,82.1)\" stroke=\"none\" fill=\"black\" font-family=\"Arial\" font-size=\"14.00\"  text-anchor=\"end\">\n",
       "\t\t<text><tspan font-family=\"Arial\" >discrete2</tspan></text>\n",
       "\t</g>\n",
       "</g>\n",
       "<g fill=\"none\" color=\"black\" stroke=\"currentColor\" stroke-width=\"1.00\" stroke-linecap=\"butt\" stroke-linejoin=\"miter\">\n",
       "\t<path stroke='rgb(255,   0,   0)'  d='M502.1,77.5 L551.4,77.5 M53.3,229.5 L182.7,294.2 L269.0,423.6  '/></g>\n",
       "\t</g>\n",
       "\t<g id=\"gnuplot_plot_3\" ><title>discrete3</title>\n",
       "<g fill=\"none\" color=\"black\" stroke=\"currentColor\" stroke-width=\"1.00\" stroke-linecap=\"butt\" stroke-linejoin=\"miter\">\n",
       "\t<g transform=\"translate(492.4,103.1)\" stroke=\"none\" fill=\"black\" font-family=\"Arial\" font-size=\"14.00\"  text-anchor=\"end\">\n",
       "\t\t<text><tspan font-family=\"Arial\" >discrete3</tspan></text>\n",
       "\t</g>\n",
       "</g>\n",
       "<g fill=\"none\" color=\"black\" stroke=\"currentColor\" stroke-width=\"1.00\" stroke-linecap=\"butt\" stroke-linejoin=\"miter\">\n",
       "\t<path stroke='rgb(  0, 255,   0)'  d='M502.1,98.5 L551.4,98.5 M53.3,208.0 L182.7,229.6 L312.1,294.4 L398.0,423.6  '/></g>\n",
       "\t</g>\n",
       "\t<g id=\"gnuplot_plot_4\" ><title>discrete4</title>\n",
       "<g fill=\"none\" color=\"black\" stroke=\"currentColor\" stroke-width=\"1.00\" stroke-linecap=\"butt\" stroke-linejoin=\"miter\">\n",
       "\t<g transform=\"translate(492.4,124.1)\" stroke=\"none\" fill=\"black\" font-family=\"Arial\" font-size=\"14.00\"  text-anchor=\"end\">\n",
       "\t\t<text><tspan font-family=\"Arial\" >discrete4</tspan></text>\n",
       "\t</g>\n",
       "</g>\n",
       "<g fill=\"none\" color=\"black\" stroke=\"currentColor\" stroke-width=\"1.00\" stroke-linecap=\"butt\" stroke-linejoin=\"miter\">\n",
       "\t<path stroke='rgb(255,   0, 255)'  d='M502.1,119.5 L551.4,119.5 M53.3,197.2 L182.7,197.2 L312.1,197.2 L441.4,197.2 L570.8,197.2  '/></g>\n",
       "\t</g>\n",
       "<g fill=\"none\" color=\"black\" stroke=\"currentColor\" stroke-width=\"1.00\" stroke-linecap=\"butt\" stroke-linejoin=\"miter\">\n",
       "\t<path stroke='black'  d='M53.3,423.6 L63.8,423.6 M570.8,423.6 L560.3,423.6  '/>\t<g transform=\"translate(43.6,428.2)\" stroke=\"none\" fill=\"black\" font-family=\"Arial\" font-size=\"14.00\"  text-anchor=\"end\">\n",
       "\t\t<text><tspan font-family=\"Arial\" >-30</tspan></text>\n",
       "\t</g>\n",
       "</g>\n",
       "<g fill=\"none\" color=\"black\" stroke=\"currentColor\" stroke-width=\"1.00\" stroke-linecap=\"butt\" stroke-linejoin=\"miter\">\n",
       "\t<path stroke='black'  d='M53.3,358.9 L63.8,358.9 M570.8,358.9 L560.3,358.9  '/>\t<g transform=\"translate(43.6,363.5)\" stroke=\"none\" fill=\"black\" font-family=\"Arial\" font-size=\"14.00\"  text-anchor=\"end\">\n",
       "\t\t<text><tspan font-family=\"Arial\" >-20</tspan></text>\n",
       "\t</g>\n",
       "</g>\n",
       "<g fill=\"none\" color=\"black\" stroke=\"currentColor\" stroke-width=\"1.00\" stroke-linecap=\"butt\" stroke-linejoin=\"miter\">\n",
       "\t<path stroke='black'  d='M53.3,294.2 L63.8,294.2 M570.8,294.2 L560.3,294.2  '/>\t<g transform=\"translate(43.6,298.8)\" stroke=\"none\" fill=\"black\" font-family=\"Arial\" font-size=\"14.00\"  text-anchor=\"end\">\n",
       "\t\t<text><tspan font-family=\"Arial\" >-10</tspan></text>\n",
       "\t</g>\n",
       "</g>\n",
       "<g fill=\"none\" color=\"black\" stroke=\"currentColor\" stroke-width=\"1.00\" stroke-linecap=\"butt\" stroke-linejoin=\"miter\">\n",
       "\t<path stroke='black'  d='M53.3,229.5 L63.8,229.5 M570.8,229.5 L560.3,229.5  '/>\t<g transform=\"translate(43.6,234.1)\" stroke=\"none\" fill=\"black\" font-family=\"Arial\" font-size=\"14.00\"  text-anchor=\"end\">\n",
       "\t\t<text><tspan font-family=\"Arial\" > 0</tspan></text>\n",
       "\t</g>\n",
       "</g>\n",
       "<g fill=\"none\" color=\"black\" stroke=\"currentColor\" stroke-width=\"1.00\" stroke-linecap=\"butt\" stroke-linejoin=\"miter\">\n",
       "\t<path stroke='black'  d='M53.3,164.9 L63.8,164.9 M570.8,164.9 L560.3,164.9  '/>\t<g transform=\"translate(43.6,169.5)\" stroke=\"none\" fill=\"black\" font-family=\"Arial\" font-size=\"14.00\"  text-anchor=\"end\">\n",
       "\t\t<text><tspan font-family=\"Arial\" > 10</tspan></text>\n",
       "\t</g>\n",
       "</g>\n",
       "<g fill=\"none\" color=\"black\" stroke=\"currentColor\" stroke-width=\"1.00\" stroke-linecap=\"butt\" stroke-linejoin=\"miter\">\n",
       "\t<path stroke='black'  d='M53.3,100.2 L63.8,100.2 M570.8,100.2 L560.3,100.2  '/>\t<g transform=\"translate(43.6,104.8)\" stroke=\"none\" fill=\"black\" font-family=\"Arial\" font-size=\"14.00\"  text-anchor=\"end\">\n",
       "\t\t<text><tspan font-family=\"Arial\" > 20</tspan></text>\n",
       "\t</g>\n",
       "</g>\n",
       "<g fill=\"none\" color=\"black\" stroke=\"currentColor\" stroke-width=\"1.00\" stroke-linecap=\"butt\" stroke-linejoin=\"miter\">\n",
       "\t<path stroke='black'  d='M53.3,35.5 L63.8,35.5 M570.8,35.5 L560.3,35.5  '/>\t<g transform=\"translate(43.6,40.1)\" stroke=\"none\" fill=\"black\" font-family=\"Arial\" font-size=\"14.00\"  text-anchor=\"end\">\n",
       "\t\t<text><tspan font-family=\"Arial\" > 30</tspan></text>\n",
       "\t</g>\n",
       "</g>\n",
       "<g fill=\"none\" color=\"black\" stroke=\"currentColor\" stroke-width=\"1.00\" stroke-linecap=\"butt\" stroke-linejoin=\"miter\">\n",
       "\t<path stroke='black'  d='M53.3,423.6 L53.3,413.1 M53.3,35.5 L53.3,46.0  '/>\t<g transform=\"translate(53.3,449.2)\" stroke=\"none\" fill=\"black\" font-family=\"Arial\" font-size=\"14.00\"  text-anchor=\"middle\">\n",
       "\t\t<text><tspan font-family=\"Arial\" > 0</tspan></text>\n",
       "\t</g>\n",
       "</g>\n",
       "<g fill=\"none\" color=\"black\" stroke=\"currentColor\" stroke-width=\"1.00\" stroke-linecap=\"butt\" stroke-linejoin=\"miter\">\n",
       "\t<path stroke='black'  d='M118.0,423.6 L118.0,413.1 M118.0,35.5 L118.0,46.0  '/>\t<g transform=\"translate(118.0,449.2)\" stroke=\"none\" fill=\"black\" font-family=\"Arial\" font-size=\"14.00\"  text-anchor=\"middle\">\n",
       "\t\t<text><tspan font-family=\"Arial\" > 0.5</tspan></text>\n",
       "\t</g>\n",
       "</g>\n",
       "<g fill=\"none\" color=\"black\" stroke=\"currentColor\" stroke-width=\"1.00\" stroke-linecap=\"butt\" stroke-linejoin=\"miter\">\n",
       "\t<path stroke='black'  d='M182.7,423.6 L182.7,413.1 M182.7,35.5 L182.7,46.0  '/>\t<g transform=\"translate(182.7,449.2)\" stroke=\"none\" fill=\"black\" font-family=\"Arial\" font-size=\"14.00\"  text-anchor=\"middle\">\n",
       "\t\t<text><tspan font-family=\"Arial\" > 1</tspan></text>\n",
       "\t</g>\n",
       "</g>\n",
       "<g fill=\"none\" color=\"black\" stroke=\"currentColor\" stroke-width=\"1.00\" stroke-linecap=\"butt\" stroke-linejoin=\"miter\">\n",
       "\t<path stroke='black'  d='M247.4,423.6 L247.4,413.1 M247.4,35.5 L247.4,46.0  '/>\t<g transform=\"translate(247.4,449.2)\" stroke=\"none\" fill=\"black\" font-family=\"Arial\" font-size=\"14.00\"  text-anchor=\"middle\">\n",
       "\t\t<text><tspan font-family=\"Arial\" > 1.5</tspan></text>\n",
       "\t</g>\n",
       "</g>\n",
       "<g fill=\"none\" color=\"black\" stroke=\"currentColor\" stroke-width=\"1.00\" stroke-linecap=\"butt\" stroke-linejoin=\"miter\">\n",
       "\t<path stroke='black'  d='M312.1,423.6 L312.1,413.1 M312.1,35.5 L312.1,46.0  '/>\t<g transform=\"translate(312.1,449.2)\" stroke=\"none\" fill=\"black\" font-family=\"Arial\" font-size=\"14.00\"  text-anchor=\"middle\">\n",
       "\t\t<text><tspan font-family=\"Arial\" > 2</tspan></text>\n",
       "\t</g>\n",
       "</g>\n",
       "<g fill=\"none\" color=\"black\" stroke=\"currentColor\" stroke-width=\"1.00\" stroke-linecap=\"butt\" stroke-linejoin=\"miter\">\n",
       "\t<path stroke='black'  d='M376.7,423.6 L376.7,413.1 M376.7,35.5 L376.7,46.0  '/>\t<g transform=\"translate(376.7,449.2)\" stroke=\"none\" fill=\"black\" font-family=\"Arial\" font-size=\"14.00\"  text-anchor=\"middle\">\n",
       "\t\t<text><tspan font-family=\"Arial\" > 2.5</tspan></text>\n",
       "\t</g>\n",
       "</g>\n",
       "<g fill=\"none\" color=\"black\" stroke=\"currentColor\" stroke-width=\"1.00\" stroke-linecap=\"butt\" stroke-linejoin=\"miter\">\n",
       "\t<path stroke='black'  d='M441.4,423.6 L441.4,413.1 M441.4,35.5 L441.4,46.0  '/>\t<g transform=\"translate(441.4,449.2)\" stroke=\"none\" fill=\"black\" font-family=\"Arial\" font-size=\"14.00\"  text-anchor=\"middle\">\n",
       "\t\t<text><tspan font-family=\"Arial\" > 3</tspan></text>\n",
       "\t</g>\n",
       "</g>\n",
       "<g fill=\"none\" color=\"black\" stroke=\"currentColor\" stroke-width=\"1.00\" stroke-linecap=\"butt\" stroke-linejoin=\"miter\">\n",
       "\t<path stroke='black'  d='M506.1,423.6 L506.1,413.1 M506.1,35.5 L506.1,46.0  '/>\t<g transform=\"translate(506.1,449.2)\" stroke=\"none\" fill=\"black\" font-family=\"Arial\" font-size=\"14.00\"  text-anchor=\"middle\">\n",
       "\t\t<text><tspan font-family=\"Arial\" > 3.5</tspan></text>\n",
       "\t</g>\n",
       "</g>\n",
       "<g fill=\"none\" color=\"black\" stroke=\"currentColor\" stroke-width=\"1.00\" stroke-linecap=\"butt\" stroke-linejoin=\"miter\">\n",
       "\t<path stroke='black'  d='M570.8,423.6 L570.8,413.1 M570.8,35.5 L570.8,46.0  '/>\t<g transform=\"translate(570.8,449.2)\" stroke=\"none\" fill=\"black\" font-family=\"Arial\" font-size=\"14.00\"  text-anchor=\"middle\">\n",
       "\t\t<text><tspan font-family=\"Arial\" > 4</tspan></text>\n",
       "\t</g>\n",
       "</g>\n",
       "<g fill=\"none\" color=\"black\" stroke=\"currentColor\" stroke-width=\"1.00\" stroke-linecap=\"butt\" stroke-linejoin=\"miter\">\n",
       "</g>\n",
       "<g fill=\"none\" color=\"gray\" stroke=\"currentColor\" stroke-width=\"1.00\" stroke-linecap=\"butt\" stroke-linejoin=\"miter\">\n",
       "\t<path stroke='black' stroke-dasharray='2,4'  d='M53.3,229.5 L570.8,229.5  '/></g>\n",
       "<g fill=\"none\" color=\"gray\" stroke=\"currentColor\" stroke-width=\"1.00\" stroke-linecap=\"butt\" stroke-linejoin=\"miter\">\n",
       "\t<path stroke='black' stroke-dasharray='2,4'  d='M53.3,423.6 L53.3,35.5  '/></g>\n",
       "<g fill=\"none\" color=\"gray\" stroke=\"black\" stroke-width=\"2.00\" stroke-linecap=\"butt\" stroke-linejoin=\"miter\">\n",
       "</g>\n",
       "<g fill=\"none\" color=\"black\" stroke=\"currentColor\" stroke-width=\"2.00\" stroke-linecap=\"butt\" stroke-linejoin=\"miter\">\n",
       "</g>\n",
       "<g fill=\"none\" color=\"black\" stroke=\"black\" stroke-width=\"1.00\" stroke-linecap=\"butt\" stroke-linejoin=\"miter\">\n",
       "</g>\n",
       "<g fill=\"none\" color=\"black\" stroke=\"currentColor\" stroke-width=\"1.00\" stroke-linecap=\"butt\" stroke-linejoin=\"miter\">\n",
       "\t<path stroke='black'  d='M53.3,35.5 L53.3,423.6 L570.8,423.6 L570.8,35.5 L53.3,35.5 Z  '/></g>\n",
       "<g fill=\"none\" color=\"black\" stroke=\"currentColor\" stroke-width=\"1.00\" stroke-linecap=\"butt\" stroke-linejoin=\"miter\">\n",
       "</g>\n",
       "</g>\n",
       "</svg>\n",
       "\n"
      ],
      "text/plain": [
       "/tmp/maxplot.svg"
      ]
     },
     "metadata": {},
     "output_type": "display_data"
    }
   ],
   "source": [
    "plot2d([[discrete,xy1],\n",
    "        [discrete,xy2],\n",
    "        [discrete,xy3],\n",
    "        [discrete,xy4]], [x, 0, 4], [y, -30, 30])$"
   ]
  },
  {
   "cell_type": "markdown",
   "metadata": {},
   "source": [
    "## $f(x) = \\frac {1} {4} x + 12$"
   ]
  },
  {
   "cell_type": "code",
   "execution_count": 16,
   "metadata": {},
   "outputs": [
    {
     "data": {
      "text/latex": [
       "\\[\\tag{${\\it \\%o}_{36}$}f\\left(x\\right):=\\frac{1}{4}\\,x+12\\]"
      ],
      "text/plain": [
       "                                       1\n",
       "(%o36)                        f(x) := (-) x + 12\n",
       "                                       4"
      ],
      "text/x-maxima": [
       "f(x):=(1/4)*x+12"
      ]
     },
     "execution_count": 16,
     "metadata": {},
     "output_type": "execute_result"
    }
   ],
   "source": [
    "f(x) := 1/4 * x + 12;"
   ]
  },
  {
   "cell_type": "code",
   "execution_count": 17,
   "metadata": {},
   "outputs": [
    {
     "data": {
      "text/latex": [
       "\\[\\tag{${\\it \\%o}_{37}$}\\left[ \\left[ 0 , -48 \\right]  , \\left[ 1 , 0 \\right]  , \\left[ 2 , 12 \\right]  , \\left[ 3 , 15 \\right]  , \\left[ 4 , \\frac{63}{4} \\right]  \\right] \\]"
      ],
      "text/plain": [
       "                                                          63\n",
       "(%o37)          [[0, - 48], [1, 0], [2, 12], [3, 15], [4, --]]\n",
       "                                                          4"
      ],
      "text/x-maxima": [
       "[[0,-48],[1,0],[2,12],[3,15],[4,63/4]]"
      ]
     },
     "execution_count": 17,
     "metadata": {},
     "output_type": "execute_result"
    },
    {
     "data": {
      "text/latex": [
       "\\[\\tag{${\\it \\%o}_{38}$}\\left[ \\left[ 0 , -36 \\right]  , \\left[ 1 , 3 \\right]  , \\left[ 2 , \\frac{51}{4} \\right]  , \\left[ 3 , \\frac{243}{16} \\right]  , \\left[ 4 , \\frac{1011}{64} \\right]  \\right] \\]"
      ],
      "text/plain": [
       "                                       51       243       1011\n",
       "(%o38)         [[0, - 36], [1, 3], [2, --], [3, ---], [4, ----]]\n",
       "                                       4        16         64"
      ],
      "text/x-maxima": [
       "[[0,-36],[1,3],[2,51/4],[3,243/16],[4,1011/64]]"
      ]
     },
     "execution_count": 17,
     "metadata": {},
     "output_type": "execute_result"
    },
    {
     "data": {
      "text/latex": [
       "\\[\\tag{${\\it \\%o}_{39}$}\\left[ \\left[ 0 , -24 \\right]  , \\left[ 1 , 6 \\right]  , \\left[ 2 , \\frac{27}{2} \\right]  , \\left[ 3 , \\frac{123}{8} \\right]  , \\left[ 4 , \\frac{507}{32} \\right]  \\right] \\]"
      ],
      "text/plain": [
       "                                       27       123       507\n",
       "(%o39)         [[0, - 24], [1, 6], [2, --], [3, ---], [4, ---]]\n",
       "                                       2         8        32"
      ],
      "text/x-maxima": [
       "[[0,-24],[1,6],[2,27/2],[3,123/8],[4,507/32]]"
      ]
     },
     "execution_count": 17,
     "metadata": {},
     "output_type": "execute_result"
    },
    {
     "data": {
      "text/latex": [
       "\\[\\tag{${\\it \\%o}_{40}$}\\left[ \\left[ 0 , -12 \\right]  , \\left[ 1 , 9 \\right]  , \\left[ 2 , \\frac{57}{4} \\right]  , \\left[ 3 , \\frac{249}{16} \\right]  , \\left[ 4 , \\frac{1017}{64} \\right]  \\right] \\]"
      ],
      "text/plain": [
       "                                       57       249       1017\n",
       "(%o40)         [[0, - 12], [1, 9], [2, --], [3, ---], [4, ----]]\n",
       "                                       4        16         64"
      ],
      "text/x-maxima": [
       "[[0,-12],[1,9],[2,57/4],[3,249/16],[4,1017/64]]"
      ]
     },
     "execution_count": 17,
     "metadata": {},
     "output_type": "execute_result"
    },
    {
     "data": {
      "text/latex": [
       "\\[\\tag{${\\it \\%o}_{41}$}\\left[ \\left[ 0 , 0 \\right]  , \\left[ 1 , 12 \\right]  , \\left[ 2 , 15 \\right]  , \\left[ 3 , \\frac{63}{4} \\right]  , \\left[ 4 , \\frac{255}{16} \\right]  \\right] \\]"
      ],
      "text/plain": [
       "                                                63       255\n",
       "(%o41)           [[0, 0], [1, 12], [2, 15], [3, --], [4, ---]]\n",
       "                                                4        16"
      ],
      "text/x-maxima": [
       "[[0,0],[1,12],[2,15],[3,63/4],[4,255/16]]"
      ]
     },
     "execution_count": 17,
     "metadata": {},
     "output_type": "execute_result"
    },
    {
     "data": {
      "text/latex": [
       "\\[\\tag{${\\it \\%o}_{42}$}\\left[ \\left[ 0 , 12 \\right]  , \\left[ 1 , 15 \\right]  , \\left[ 2 , \\frac{63}{4} \\right]  , \\left[ 3 , \\frac{255}{16} \\right]  , \\left[ 4 , \\frac{1023}{64} \\right]  \\right] \\]"
      ],
      "text/plain": [
       "                                      63       255       1023\n",
       "(%o42)         [[0, 12], [1, 15], [2, --], [3, ---], [4, ----]]\n",
       "                                      4        16         64"
      ],
      "text/x-maxima": [
       "[[0,12],[1,15],[2,63/4],[3,255/16],[4,1023/64]]"
      ]
     },
     "execution_count": 17,
     "metadata": {},
     "output_type": "execute_result"
    },
    {
     "data": {
      "text/latex": [
       "\\[\\tag{${\\it \\%o}_{43}$}\\left[ \\left[ 0 , 24 \\right]  , \\left[ 1 , 18 \\right]  , \\left[ 2 , \\frac{33}{2} \\right]  , \\left[ 3 , \\frac{129}{8} \\right]  , \\left[ 4 , \\frac{513}{32} \\right]  \\right] \\]"
      ],
      "text/plain": [
       "                                       33       129       513\n",
       "(%o43)          [[0, 24], [1, 18], [2, --], [3, ---], [4, ---]]\n",
       "                                       2         8        32"
      ],
      "text/x-maxima": [
       "[[0,24],[1,18],[2,33/2],[3,129/8],[4,513/32]]"
      ]
     },
     "execution_count": 17,
     "metadata": {},
     "output_type": "execute_result"
    },
    {
     "data": {
      "text/latex": [
       "\\[\\tag{${\\it \\%o}_{44}$}\\left[ \\left[ 0 , 36 \\right]  , \\left[ 1 , 21 \\right]  , \\left[ 2 , \\frac{69}{4} \\right]  , \\left[ 3 , \\frac{261}{16} \\right]  , \\left[ 4 , \\frac{1029}{64} \\right]  \\right] \\]"
      ],
      "text/plain": [
       "                                      69       261       1029\n",
       "(%o44)         [[0, 36], [1, 21], [2, --], [3, ---], [4, ----]]\n",
       "                                      4        16         64"
      ],
      "text/x-maxima": [
       "[[0,36],[1,21],[2,69/4],[3,261/16],[4,1029/64]]"
      ]
     },
     "execution_count": 17,
     "metadata": {},
     "output_type": "execute_result"
    },
    {
     "data": {
      "text/latex": [
       "\\[\\tag{${\\it \\%o}_{45}$}\\left[ \\left[ 0 , 48 \\right]  , \\left[ 1 , 24 \\right]  , \\left[ 2 , 18 \\right]  , \\left[ 3 , \\frac{33}{2} \\right]  , \\left[ 4 , \\frac{129}{8} \\right]  \\right] \\]"
      ],
      "text/plain": [
       "                                                33       129\n",
       "(%o45)          [[0, 48], [1, 24], [2, 18], [3, --], [4, ---]]\n",
       "                                                2         8"
      ],
      "text/x-maxima": [
       "[[0,48],[1,24],[2,18],[3,33/2],[4,129/8]]"
      ]
     },
     "execution_count": 17,
     "metadata": {},
     "output_type": "execute_result"
    }
   ],
   "source": [
    "xy1: recurse(f, -48, 5);\n",
    "xy2: recurse(f, -36, 5);\n",
    "xy3: recurse(f, -24, 5);\n",
    "xy4: recurse(f, -12, 5);\n",
    "xy5: recurse(f, 0, 5);\n",
    "xy6: recurse(f, 12, 5);\n",
    "xy7: recurse(f, 24, 5);\n",
    "xy8: recurse(f, 36, 5);\n",
    "xy9: recurse(f, 48, 5);"
   ]
  },
  {
   "cell_type": "code",
   "execution_count": 18,
   "metadata": {},
   "outputs": [
    {
     "data": {
      "image/svg+xml": [
       "<?xml version=\"1.0\" encoding=\"utf-8\"  standalone=\"no\"?>\n",
       "<svg \n",
       " width=\"600\" height=\"480\"\n",
       " viewBox=\"0 0 600 480\"\n",
       " xmlns=\"http://www.w3.org/2000/svg\"\n",
       " xmlns:xlink=\"http://www.w3.org/1999/xlink\"\n",
       ">\n",
       "\n",
       "<title>Gnuplot</title>\n",
       "<desc>Produced by GNUPLOT 5.2 patchlevel 7 </desc>\n",
       "\n",
       "<g id=\"gnuplot_canvas\">\n",
       "\n",
       "<rect x=\"0\" y=\"0\" width=\"600\" height=\"480\" fill=\"none\"/>\n",
       "<defs>\n",
       "\n",
       "\t<circle id='gpDot' r='0.5' stroke-width='0.5' stroke='currentColor'/>\n",
       "\t<path id='gpPt0' stroke-width='0.190' stroke='currentColor' d='M-1,0 h2 M0,-1 v2'/>\n",
       "\t<path id='gpPt1' stroke-width='0.190' stroke='currentColor' d='M-1,-1 L1,1 M1,-1 L-1,1'/>\n",
       "\t<path id='gpPt2' stroke-width='0.190' stroke='currentColor' d='M-1,0 L1,0 M0,-1 L0,1 M-1,-1 L1,1 M-1,1 L1,-1'/>\n",
       "\t<rect id='gpPt3' stroke-width='0.190' stroke='currentColor' x='-1' y='-1' width='2' height='2'/>\n",
       "\t<rect id='gpPt4' stroke-width='0.190' stroke='currentColor' fill='currentColor' x='-1' y='-1' width='2' height='2'/>\n",
       "\t<circle id='gpPt5' stroke-width='0.190' stroke='currentColor' cx='0' cy='0' r='1'/>\n",
       "\t<use xlink:href='#gpPt5' id='gpPt6' fill='currentColor' stroke='none'/>\n",
       "\t<path id='gpPt7' stroke-width='0.190' stroke='currentColor' d='M0,-1.33 L-1.33,0.67 L1.33,0.67 z'/>\n",
       "\t<use xlink:href='#gpPt7' id='gpPt8' fill='currentColor' stroke='none'/>\n",
       "\t<use xlink:href='#gpPt7' id='gpPt9' stroke='currentColor' transform='rotate(180)'/>\n",
       "\t<use xlink:href='#gpPt9' id='gpPt10' fill='currentColor' stroke='none'/>\n",
       "\t<use xlink:href='#gpPt3' id='gpPt11' stroke='currentColor' transform='rotate(45)'/>\n",
       "\t<use xlink:href='#gpPt11' id='gpPt12' fill='currentColor' stroke='none'/>\n",
       "\t<path id='gpPt13' stroke-width='0.190' stroke='currentColor' d='M0,1.330 L1.265,0.411 L0.782,-1.067 L-0.782,-1.076 L-1.265,0.411 z'/>\n",
       "\t<use xlink:href='#gpPt13' id='gpPt14' fill='currentColor' stroke='none'/>\n",
       "\t<filter id='textbox' filterUnits='objectBoundingBox' x='0' y='0' height='1' width='1'>\n",
       "\t  <feFlood flood-color='white' flood-opacity='1' result='bgnd'/>\n",
       "\t  <feComposite in='SourceGraphic' in2='bgnd' operator='atop'/>\n",
       "\t</filter>\n",
       "\t<filter id='greybox' filterUnits='objectBoundingBox' x='0' y='0' height='1' width='1'>\n",
       "\t  <feFlood flood-color='lightgrey' flood-opacity='1' result='grey'/>\n",
       "\t  <feComposite in='SourceGraphic' in2='grey' operator='atop'/>\n",
       "\t</filter>\n",
       "</defs>\n",
       "<g fill=\"none\" color=\"white\" stroke=\"currentColor\" stroke-width=\"1.00\" stroke-linecap=\"butt\" stroke-linejoin=\"miter\">\n",
       "</g>\n",
       "<g fill=\"none\" color=\"gray\" stroke=\"currentColor\" stroke-width=\"1.00\" stroke-linecap=\"butt\" stroke-linejoin=\"miter\">\n",
       "\t<path stroke='black' stroke-dasharray='2,4'  d='M53.3,423.6 L570.8,423.6  '/></g>\n",
       "<g fill=\"none\" color=\"gray\" stroke=\"currentColor\" stroke-width=\"1.00\" stroke-linecap=\"butt\" stroke-linejoin=\"miter\">\n",
       "\t<path stroke='black' stroke-dasharray='2,4'  d='M53.3,423.6 L53.3,35.5  '/></g>\n",
       "<g fill=\"none\" color=\"black\" stroke=\"currentColor\" stroke-width=\"1.00\" stroke-linecap=\"butt\" stroke-linejoin=\"miter\">\n",
       "\t<path stroke='black'  d='M53.3,35.5 L53.3,423.6 L570.8,423.6 L570.8,35.5 L53.3,35.5 Z  '/></g>\n",
       "<g fill=\"none\" color=\"black\" stroke=\"currentColor\" stroke-width=\"1.00\" stroke-linecap=\"butt\" stroke-linejoin=\"miter\">\n",
       "</g>\n",
       "\t<g id=\"gnuplot_plot_1\" ><title>discrete1</title>\n",
       "<g fill=\"none\" color=\"black\" stroke=\"currentColor\" stroke-width=\"1.00\" stroke-linecap=\"butt\" stroke-linejoin=\"miter\">\n",
       "\t<g transform=\"translate(492.4,61.1)\" stroke=\"none\" fill=\"black\" font-family=\"Arial\" font-size=\"14.00\"  text-anchor=\"end\">\n",
       "\t\t<text><tspan font-family=\"Arial\" >discrete1</tspan></text>\n",
       "\t</g>\n",
       "</g>\n",
       "<g fill=\"none\" color=\"black\" stroke=\"currentColor\" stroke-width=\"1.00\" stroke-linecap=\"butt\" stroke-linejoin=\"miter\">\n",
       "\t<path stroke='rgb(  0,   0, 255)'  d='M502.1,56.5 L551.4,56.5 M182.7,423.6 L312.1,190.7 L441.4,132.5 L570.8,118.0  '/></g>\n",
       "\t</g>\n",
       "\t<g id=\"gnuplot_plot_2\" ><title>discrete2</title>\n",
       "<g fill=\"none\" color=\"black\" stroke=\"currentColor\" stroke-width=\"1.00\" stroke-linecap=\"butt\" stroke-linejoin=\"miter\">\n",
       "\t<g transform=\"translate(492.4,82.1)\" stroke=\"none\" fill=\"black\" font-family=\"Arial\" font-size=\"14.00\"  text-anchor=\"end\">\n",
       "\t\t<text><tspan font-family=\"Arial\" >discrete2</tspan></text>\n",
       "\t</g>\n",
       "</g>\n",
       "<g fill=\"none\" color=\"black\" stroke=\"currentColor\" stroke-width=\"1.00\" stroke-linecap=\"butt\" stroke-linejoin=\"miter\">\n",
       "\t<path stroke='rgb(255,   0,   0)'  d='M502.1,77.5 L551.4,77.5 M172.7,423.6 L182.7,365.4 L312.1,176.2 L441.4,128.9 L570.8,117.1  '/></g>\n",
       "\t</g>\n",
       "\t<g id=\"gnuplot_plot_3\" ><title>discrete3</title>\n",
       "<g fill=\"none\" color=\"black\" stroke=\"currentColor\" stroke-width=\"1.00\" stroke-linecap=\"butt\" stroke-linejoin=\"miter\">\n",
       "\t<g transform=\"translate(492.4,103.1)\" stroke=\"none\" fill=\"black\" font-family=\"Arial\" font-size=\"14.00\"  text-anchor=\"end\">\n",
       "\t\t<text><tspan font-family=\"Arial\" >discrete3</tspan></text>\n",
       "\t</g>\n",
       "</g>\n",
       "<g fill=\"none\" color=\"black\" stroke=\"currentColor\" stroke-width=\"1.00\" stroke-linecap=\"butt\" stroke-linejoin=\"miter\">\n",
       "\t<path stroke='rgb(  0, 255,   0)'  d='M502.1,98.5 L551.4,98.5 M156.8,423.6 L182.7,307.2 L312.1,161.6 L441.4,125.2 L570.8,116.2  '/></g>\n",
       "\t</g>\n",
       "\t<g id=\"gnuplot_plot_4\" ><title>discrete4</title>\n",
       "<g fill=\"none\" color=\"black\" stroke=\"currentColor\" stroke-width=\"1.00\" stroke-linecap=\"butt\" stroke-linejoin=\"miter\">\n",
       "\t<g transform=\"translate(492.4,124.1)\" stroke=\"none\" fill=\"black\" font-family=\"Arial\" font-size=\"14.00\"  text-anchor=\"end\">\n",
       "\t\t<text><tspan font-family=\"Arial\" >discrete4</tspan></text>\n",
       "\t</g>\n",
       "</g>\n",
       "<g fill=\"none\" color=\"black\" stroke=\"currentColor\" stroke-width=\"1.00\" stroke-linecap=\"butt\" stroke-linejoin=\"miter\">\n",
       "\t<path stroke='rgb(255,   0, 255)'  d='M502.1,119.5 L551.4,119.5 M127.2,423.6 L182.7,249.0 L312.1,147.1 L441.4,121.6 L570.8,115.2  '/></g>\n",
       "\t</g>\n",
       "\t<g id=\"gnuplot_plot_5\" ><title>discrete5</title>\n",
       "<g fill=\"none\" color=\"black\" stroke=\"currentColor\" stroke-width=\"1.00\" stroke-linecap=\"butt\" stroke-linejoin=\"miter\">\n",
       "\t<g transform=\"translate(492.4,145.1)\" stroke=\"none\" fill=\"black\" font-family=\"Arial\" font-size=\"14.00\"  text-anchor=\"end\">\n",
       "\t\t<text><tspan font-family=\"Arial\" >discrete5</tspan></text>\n",
       "\t</g>\n",
       "</g>\n",
       "<g fill=\"none\" color=\"black\" stroke=\"currentColor\" stroke-width=\"1.00\" stroke-linecap=\"butt\" stroke-linejoin=\"miter\">\n",
       "\t<path stroke='rgb(  0,   0,   0)'  d='M502.1,140.5 L551.4,140.5 M53.3,423.6 L182.7,190.7 L312.1,132.5 L441.4,118.0 L570.8,114.3  '/></g>\n",
       "\t</g>\n",
       "\t<g id=\"gnuplot_plot_6\" ><title>discrete6</title>\n",
       "<g fill=\"none\" color=\"black\" stroke=\"currentColor\" stroke-width=\"1.00\" stroke-linecap=\"butt\" stroke-linejoin=\"miter\">\n",
       "\t<g transform=\"translate(492.4,166.1)\" stroke=\"none\" fill=\"black\" font-family=\"Arial\" font-size=\"14.00\"  text-anchor=\"end\">\n",
       "\t\t<text><tspan font-family=\"Arial\" >discrete6</tspan></text>\n",
       "\t</g>\n",
       "</g>\n",
       "<g fill=\"none\" color=\"black\" stroke=\"currentColor\" stroke-width=\"1.00\" stroke-linecap=\"butt\" stroke-linejoin=\"miter\">\n",
       "\t<path stroke='rgb(  0, 255, 255)'  d='M502.1,161.5 L551.4,161.5 M53.3,190.7 L182.7,132.5 L312.1,118.0 L441.4,114.3 L570.8,113.4  '/></g>\n",
       "\t</g>\n",
       "\t<g id=\"gnuplot_plot_7\" ><title>discrete7</title>\n",
       "<g fill=\"none\" color=\"black\" stroke=\"currentColor\" stroke-width=\"1.00\" stroke-linecap=\"butt\" stroke-linejoin=\"miter\">\n",
       "\t<g transform=\"translate(492.4,187.1)\" stroke=\"none\" fill=\"black\" font-family=\"Arial\" font-size=\"14.00\"  text-anchor=\"end\">\n",
       "\t\t<text><tspan font-family=\"Arial\" >discrete7</tspan></text>\n",
       "\t</g>\n",
       "</g>\n",
       "<g fill=\"none\" color=\"black\" stroke=\"currentColor\" stroke-width=\"1.00\" stroke-linecap=\"butt\" stroke-linejoin=\"miter\">\n",
       "\t<path stroke='rgb(  0,   0, 255)'  d='M502.1,182.5 L551.4,182.5 M139.5,35.5 L182.7,74.3 L312.1,103.4 L441.4,110.7 L570.8,112.5  '/></g>\n",
       "\t</g>\n",
       "\t<g id=\"gnuplot_plot_8\" ><title>discrete8</title>\n",
       "<g fill=\"none\" color=\"black\" stroke=\"currentColor\" stroke-width=\"1.00\" stroke-linecap=\"butt\" stroke-linejoin=\"miter\">\n",
       "\t<g transform=\"translate(492.4,208.1)\" stroke=\"none\" fill=\"black\" font-family=\"Arial\" font-size=\"14.00\"  text-anchor=\"end\">\n",
       "\t\t<text><tspan font-family=\"Arial\" >discrete8</tspan></text>\n",
       "\t</g>\n",
       "</g>\n",
       "<g fill=\"none\" color=\"black\" stroke=\"currentColor\" stroke-width=\"1.00\" stroke-linecap=\"butt\" stroke-linejoin=\"miter\">\n",
       "\t<path stroke='rgb(255,   0,   0)'  d='M502.1,203.5 L551.4,203.5 M217.1,35.5 L312.1,88.9 L441.4,107.1 L570.8,111.6  '/></g>\n",
       "\t</g>\n",
       "\t<g id=\"gnuplot_plot_9\" ><title>discrete9</title>\n",
       "<g fill=\"none\" color=\"black\" stroke=\"currentColor\" stroke-width=\"1.00\" stroke-linecap=\"butt\" stroke-linejoin=\"miter\">\n",
       "\t<g transform=\"translate(492.4,229.1)\" stroke=\"none\" fill=\"black\" font-family=\"Arial\" font-size=\"14.00\"  text-anchor=\"end\">\n",
       "\t\t<text><tspan font-family=\"Arial\" >discrete9</tspan></text>\n",
       "\t</g>\n",
       "</g>\n",
       "<g fill=\"none\" color=\"black\" stroke=\"currentColor\" stroke-width=\"1.00\" stroke-linecap=\"butt\" stroke-linejoin=\"miter\">\n",
       "\t<path stroke='rgb(  0, 255,   0)'  d='M502.1,224.5 L551.4,224.5 M268.9,35.5 L312.1,74.3 L441.4,103.4 L570.8,110.7  '/></g>\n",
       "\t</g>\n",
       "<g fill=\"none\" color=\"black\" stroke=\"currentColor\" stroke-width=\"1.00\" stroke-linecap=\"butt\" stroke-linejoin=\"miter\">\n",
       "\t<path stroke='black'  d='M53.3,423.6 L63.8,423.6 M570.8,423.6 L560.3,423.6  '/>\t<g transform=\"translate(43.6,428.2)\" stroke=\"none\" fill=\"black\" font-family=\"Arial\" font-size=\"14.00\"  text-anchor=\"end\">\n",
       "\t\t<text><tspan font-family=\"Arial\" > 0</tspan></text>\n",
       "\t</g>\n",
       "</g>\n",
       "<g fill=\"none\" color=\"black\" stroke=\"currentColor\" stroke-width=\"1.00\" stroke-linecap=\"butt\" stroke-linejoin=\"miter\">\n",
       "\t<path stroke='black'  d='M53.3,326.6 L63.8,326.6 M570.8,326.6 L560.3,326.6  '/>\t<g transform=\"translate(43.6,331.2)\" stroke=\"none\" fill=\"black\" font-family=\"Arial\" font-size=\"14.00\"  text-anchor=\"end\">\n",
       "\t\t<text><tspan font-family=\"Arial\" > 5</tspan></text>\n",
       "\t</g>\n",
       "</g>\n",
       "<g fill=\"none\" color=\"black\" stroke=\"currentColor\" stroke-width=\"1.00\" stroke-linecap=\"butt\" stroke-linejoin=\"miter\">\n",
       "\t<path stroke='black'  d='M53.3,229.5 L63.8,229.5 M570.8,229.5 L560.3,229.5  '/>\t<g transform=\"translate(43.6,234.1)\" stroke=\"none\" fill=\"black\" font-family=\"Arial\" font-size=\"14.00\"  text-anchor=\"end\">\n",
       "\t\t<text><tspan font-family=\"Arial\" > 10</tspan></text>\n",
       "\t</g>\n",
       "</g>\n",
       "<g fill=\"none\" color=\"black\" stroke=\"currentColor\" stroke-width=\"1.00\" stroke-linecap=\"butt\" stroke-linejoin=\"miter\">\n",
       "\t<path stroke='black'  d='M53.3,132.5 L63.8,132.5 M570.8,132.5 L560.3,132.5  '/>\t<g transform=\"translate(43.6,137.1)\" stroke=\"none\" fill=\"black\" font-family=\"Arial\" font-size=\"14.00\"  text-anchor=\"end\">\n",
       "\t\t<text><tspan font-family=\"Arial\" > 15</tspan></text>\n",
       "\t</g>\n",
       "</g>\n",
       "<g fill=\"none\" color=\"black\" stroke=\"currentColor\" stroke-width=\"1.00\" stroke-linecap=\"butt\" stroke-linejoin=\"miter\">\n",
       "\t<path stroke='black'  d='M53.3,35.5 L63.8,35.5 M570.8,35.5 L560.3,35.5  '/>\t<g transform=\"translate(43.6,40.1)\" stroke=\"none\" fill=\"black\" font-family=\"Arial\" font-size=\"14.00\"  text-anchor=\"end\">\n",
       "\t\t<text><tspan font-family=\"Arial\" > 20</tspan></text>\n",
       "\t</g>\n",
       "</g>\n",
       "<g fill=\"none\" color=\"black\" stroke=\"currentColor\" stroke-width=\"1.00\" stroke-linecap=\"butt\" stroke-linejoin=\"miter\">\n",
       "\t<path stroke='black'  d='M53.3,423.6 L53.3,413.1 M53.3,35.5 L53.3,46.0  '/>\t<g transform=\"translate(53.3,449.2)\" stroke=\"none\" fill=\"black\" font-family=\"Arial\" font-size=\"14.00\"  text-anchor=\"middle\">\n",
       "\t\t<text><tspan font-family=\"Arial\" > 0</tspan></text>\n",
       "\t</g>\n",
       "</g>\n",
       "<g fill=\"none\" color=\"black\" stroke=\"currentColor\" stroke-width=\"1.00\" stroke-linecap=\"butt\" stroke-linejoin=\"miter\">\n",
       "\t<path stroke='black'  d='M118.0,423.6 L118.0,413.1 M118.0,35.5 L118.0,46.0  '/>\t<g transform=\"translate(118.0,449.2)\" stroke=\"none\" fill=\"black\" font-family=\"Arial\" font-size=\"14.00\"  text-anchor=\"middle\">\n",
       "\t\t<text><tspan font-family=\"Arial\" > 0.5</tspan></text>\n",
       "\t</g>\n",
       "</g>\n",
       "<g fill=\"none\" color=\"black\" stroke=\"currentColor\" stroke-width=\"1.00\" stroke-linecap=\"butt\" stroke-linejoin=\"miter\">\n",
       "\t<path stroke='black'  d='M182.7,423.6 L182.7,413.1 M182.7,35.5 L182.7,46.0  '/>\t<g transform=\"translate(182.7,449.2)\" stroke=\"none\" fill=\"black\" font-family=\"Arial\" font-size=\"14.00\"  text-anchor=\"middle\">\n",
       "\t\t<text><tspan font-family=\"Arial\" > 1</tspan></text>\n",
       "\t</g>\n",
       "</g>\n",
       "<g fill=\"none\" color=\"black\" stroke=\"currentColor\" stroke-width=\"1.00\" stroke-linecap=\"butt\" stroke-linejoin=\"miter\">\n",
       "\t<path stroke='black'  d='M247.4,423.6 L247.4,413.1 M247.4,35.5 L247.4,46.0  '/>\t<g transform=\"translate(247.4,449.2)\" stroke=\"none\" fill=\"black\" font-family=\"Arial\" font-size=\"14.00\"  text-anchor=\"middle\">\n",
       "\t\t<text><tspan font-family=\"Arial\" > 1.5</tspan></text>\n",
       "\t</g>\n",
       "</g>\n",
       "<g fill=\"none\" color=\"black\" stroke=\"currentColor\" stroke-width=\"1.00\" stroke-linecap=\"butt\" stroke-linejoin=\"miter\">\n",
       "\t<path stroke='black'  d='M312.1,423.6 L312.1,413.1 M312.1,35.5 L312.1,46.0  '/>\t<g transform=\"translate(312.1,449.2)\" stroke=\"none\" fill=\"black\" font-family=\"Arial\" font-size=\"14.00\"  text-anchor=\"middle\">\n",
       "\t\t<text><tspan font-family=\"Arial\" > 2</tspan></text>\n",
       "\t</g>\n",
       "</g>\n",
       "<g fill=\"none\" color=\"black\" stroke=\"currentColor\" stroke-width=\"1.00\" stroke-linecap=\"butt\" stroke-linejoin=\"miter\">\n",
       "\t<path stroke='black'  d='M376.7,423.6 L376.7,413.1 M376.7,35.5 L376.7,46.0  '/>\t<g transform=\"translate(376.7,449.2)\" stroke=\"none\" fill=\"black\" font-family=\"Arial\" font-size=\"14.00\"  text-anchor=\"middle\">\n",
       "\t\t<text><tspan font-family=\"Arial\" > 2.5</tspan></text>\n",
       "\t</g>\n",
       "</g>\n",
       "<g fill=\"none\" color=\"black\" stroke=\"currentColor\" stroke-width=\"1.00\" stroke-linecap=\"butt\" stroke-linejoin=\"miter\">\n",
       "\t<path stroke='black'  d='M441.4,423.6 L441.4,413.1 M441.4,35.5 L441.4,46.0  '/>\t<g transform=\"translate(441.4,449.2)\" stroke=\"none\" fill=\"black\" font-family=\"Arial\" font-size=\"14.00\"  text-anchor=\"middle\">\n",
       "\t\t<text><tspan font-family=\"Arial\" > 3</tspan></text>\n",
       "\t</g>\n",
       "</g>\n",
       "<g fill=\"none\" color=\"black\" stroke=\"currentColor\" stroke-width=\"1.00\" stroke-linecap=\"butt\" stroke-linejoin=\"miter\">\n",
       "\t<path stroke='black'  d='M506.1,423.6 L506.1,413.1 M506.1,35.5 L506.1,46.0  '/>\t<g transform=\"translate(506.1,449.2)\" stroke=\"none\" fill=\"black\" font-family=\"Arial\" font-size=\"14.00\"  text-anchor=\"middle\">\n",
       "\t\t<text><tspan font-family=\"Arial\" > 3.5</tspan></text>\n",
       "\t</g>\n",
       "</g>\n",
       "<g fill=\"none\" color=\"black\" stroke=\"currentColor\" stroke-width=\"1.00\" stroke-linecap=\"butt\" stroke-linejoin=\"miter\">\n",
       "\t<path stroke='black'  d='M570.8,423.6 L570.8,413.1 M570.8,35.5 L570.8,46.0  '/>\t<g transform=\"translate(570.8,449.2)\" stroke=\"none\" fill=\"black\" font-family=\"Arial\" font-size=\"14.00\"  text-anchor=\"middle\">\n",
       "\t\t<text><tspan font-family=\"Arial\" > 4</tspan></text>\n",
       "\t</g>\n",
       "</g>\n",
       "<g fill=\"none\" color=\"black\" stroke=\"currentColor\" stroke-width=\"1.00\" stroke-linecap=\"butt\" stroke-linejoin=\"miter\">\n",
       "</g>\n",
       "<g fill=\"none\" color=\"gray\" stroke=\"currentColor\" stroke-width=\"1.00\" stroke-linecap=\"butt\" stroke-linejoin=\"miter\">\n",
       "\t<path stroke='black' stroke-dasharray='2,4'  d='M53.3,423.6 L570.8,423.6  '/></g>\n",
       "<g fill=\"none\" color=\"gray\" stroke=\"currentColor\" stroke-width=\"1.00\" stroke-linecap=\"butt\" stroke-linejoin=\"miter\">\n",
       "\t<path stroke='black' stroke-dasharray='2,4'  d='M53.3,423.6 L53.3,35.5  '/></g>\n",
       "<g fill=\"none\" color=\"gray\" stroke=\"black\" stroke-width=\"2.00\" stroke-linecap=\"butt\" stroke-linejoin=\"miter\">\n",
       "</g>\n",
       "<g fill=\"none\" color=\"black\" stroke=\"currentColor\" stroke-width=\"2.00\" stroke-linecap=\"butt\" stroke-linejoin=\"miter\">\n",
       "</g>\n",
       "<g fill=\"none\" color=\"black\" stroke=\"black\" stroke-width=\"1.00\" stroke-linecap=\"butt\" stroke-linejoin=\"miter\">\n",
       "</g>\n",
       "<g fill=\"none\" color=\"black\" stroke=\"currentColor\" stroke-width=\"1.00\" stroke-linecap=\"butt\" stroke-linejoin=\"miter\">\n",
       "\t<path stroke='black'  d='M53.3,35.5 L53.3,423.6 L570.8,423.6 L570.8,35.5 L53.3,35.5 Z  '/></g>\n",
       "<g fill=\"none\" color=\"black\" stroke=\"currentColor\" stroke-width=\"1.00\" stroke-linecap=\"butt\" stroke-linejoin=\"miter\">\n",
       "</g>\n",
       "</g>\n",
       "</svg>\n",
       "\n"
      ],
      "text/plain": [
       "/tmp/maxplot.svg"
      ]
     },
     "metadata": {},
     "output_type": "display_data"
    }
   ],
   "source": [
    "plot2d([[discrete,xy1],\n",
    "        [discrete,xy2],\n",
    "        [discrete,xy3],\n",
    "        [discrete,xy4],\n",
    "        [discrete,xy5],\n",
    "        [discrete,xy6],\n",
    "        [discrete,xy7],\n",
    "        [discrete,xy8],\n",
    "        [discrete,xy9]], [x, 0, 4], [y, 0, 20])$"
   ]
  },
  {
   "cell_type": "markdown",
   "metadata": {},
   "source": [
    "## $f(x) = \\frac {1} {2} x + 4$"
   ]
  },
  {
   "cell_type": "code",
   "execution_count": 19,
   "metadata": {},
   "outputs": [
    {
     "data": {
      "text/latex": [
       "\\[\\tag{${\\it \\%o}_{47}$}f\\left(x\\right):=\\frac{1}{2}\\,x+4\\]"
      ],
      "text/plain": [
       "                                        1\n",
       "(%o47)                         f(x) := (-) x + 4\n",
       "                                        2"
      ],
      "text/x-maxima": [
       "f(x):=(1/2)*x+4"
      ]
     },
     "execution_count": 19,
     "metadata": {},
     "output_type": "execute_result"
    }
   ],
   "source": [
    "f(x) := 1/2 * x + 4;"
   ]
  },
  {
   "cell_type": "code",
   "execution_count": 20,
   "metadata": {},
   "outputs": [
    {
     "data": {
      "text/latex": [
       "\\[\\tag{${\\it \\%o}_{48}$}\\left[ \\left[ 0 , 4 \\right]  , \\left[ 1 , 6 \\right]  , \\left[ 2 , 7 \\right]  \\right] \\]"
      ],
      "text/plain": [
       "(%o48)                     [[0, 4], [1, 6], [2, 7]]"
      ],
      "text/x-maxima": [
       "[[0,4],[1,6],[2,7]]"
      ]
     },
     "execution_count": 20,
     "metadata": {},
     "output_type": "execute_result"
    }
   ],
   "source": [
    "xy1: recurse(f, 4, 3);"
   ]
  },
  {
   "cell_type": "markdown",
   "metadata": {},
   "source": [
    "## $g(x) = \\frac {1} {2} x + 3$"
   ]
  },
  {
   "cell_type": "code",
   "execution_count": 21,
   "metadata": {},
   "outputs": [
    {
     "data": {
      "text/latex": [
       "\\[\\tag{${\\it \\%o}_{49}$}g\\left(x\\right):=\\frac{1}{2}\\,x+3\\]"
      ],
      "text/plain": [
       "                                        1\n",
       "(%o49)                         g(x) := (-) x + 3\n",
       "                                        2"
      ],
      "text/x-maxima": [
       "g(x):=(1/2)*x+3"
      ]
     },
     "execution_count": 21,
     "metadata": {},
     "output_type": "execute_result"
    }
   ],
   "source": [
    "g(x) := 1/2 * x + 3;"
   ]
  },
  {
   "cell_type": "code",
   "execution_count": 22,
   "metadata": {},
   "outputs": [
    {
     "data": {
      "text/latex": [
       "\\[\\tag{${\\it \\%o}_{50}$}\\left[ \\left[ 0 , 0 \\right]  , \\left[ 1 , 3 \\right]  , \\left[ 2 , \\frac{9}{2} \\right]  , \\left[ 3 , \\frac{21}{4} \\right]  , \\left[ 4 , \\frac{45}{8} \\right]  , \\left[ 5 , \\frac{93}{16} \\right]  \\right] \\]"
      ],
      "text/plain": [
       "                                   9       21       45       93\n",
       "(%o50)        [[0, 0], [1, 3], [2, -], [3, --], [4, --], [5, --]]\n",
       "                                   2       4        8        16"
      ],
      "text/x-maxima": [
       "[[0,0],[1,3],[2,9/2],[3,21/4],[4,45/8],[5,93/16]]"
      ]
     },
     "execution_count": 22,
     "metadata": {},
     "output_type": "execute_result"
    },
    {
     "data": {
      "text/latex": [
       "\\[\\tag{${\\it \\%o}_{51}$}\\left[ \\left[ 0 , 1 \\right]  , \\left[ 1 , \\frac{7}{2} \\right]  , \\left[ 2 , \\frac{19}{4} \\right]  , \\left[ 3 , \\frac{43}{8} \\right]  , \\left[ 4 , \\frac{91}{16} \\right]  , \\left[ 5 , \\frac{187}{32} \\right]  \\right] \\]"
      ],
      "text/plain": [
       "                          7       19       43       91       187\n",
       "(%o51)       [[0, 1], [1, -], [2, --], [3, --], [4, --], [5, ---]]\n",
       "                          2       4        8        16       32"
      ],
      "text/x-maxima": [
       "[[0,1],[1,7/2],[2,19/4],[3,43/8],[4,91/16],[5,187/32]]"
      ]
     },
     "execution_count": 22,
     "metadata": {},
     "output_type": "execute_result"
    },
    {
     "data": {
      "text/latex": [
       "\\[\\tag{${\\it \\%o}_{52}$}\\left[ \\left[ 0 , 2 \\right]  , \\left[ 1 , 4 \\right]  , \\left[ 2 , 5 \\right]  , \\left[ 3 , \\frac{11}{2} \\right]  , \\left[ 4 , \\frac{23}{4} \\right]  , \\left[ 5 , \\frac{47}{8} \\right]  \\right] \\]"
      ],
      "text/plain": [
       "                                           11       23       47\n",
       "(%o52)        [[0, 2], [1, 4], [2, 5], [3, --], [4, --], [5, --]]\n",
       "                                           2        4        8"
      ],
      "text/x-maxima": [
       "[[0,2],[1,4],[2,5],[3,11/2],[4,23/4],[5,47/8]]"
      ]
     },
     "execution_count": 22,
     "metadata": {},
     "output_type": "execute_result"
    },
    {
     "data": {
      "text/latex": [
       "\\[\\tag{${\\it \\%o}_{53}$}\\left[ \\left[ 0 , 4 \\right]  , \\left[ 1 , 5 \\right]  , \\left[ 2 , \\frac{11}{2} \\right]  , \\left[ 3 , \\frac{23}{4} \\right]  , \\left[ 4 , \\frac{47}{8} \\right]  , \\left[ 5 , \\frac{95}{16} \\right]  \\right] \\]"
      ],
      "text/plain": [
       "                                  11       23       47       95\n",
       "(%o53)       [[0, 4], [1, 5], [2, --], [3, --], [4, --], [5, --]]\n",
       "                                  2        4        8        16"
      ],
      "text/x-maxima": [
       "[[0,4],[1,5],[2,11/2],[3,23/4],[4,47/8],[5,95/16]]"
      ]
     },
     "execution_count": 22,
     "metadata": {},
     "output_type": "execute_result"
    },
    {
     "data": {
      "text/latex": [
       "\\[\\tag{${\\it \\%o}_{54}$}\\left[ \\left[ 0 , 6 \\right]  , \\left[ 1 , 6 \\right]  , \\left[ 2 , 6 \\right]  , \\left[ 3 , 6 \\right]  , \\left[ 4 , 6 \\right]  , \\left[ 5 , 6 \\right]  \\right] \\]"
      ],
      "text/plain": [
       "(%o54)         [[0, 6], [1, 6], [2, 6], [3, 6], [4, 6], [5, 6]]"
      ],
      "text/x-maxima": [
       "[[0,6],[1,6],[2,6],[3,6],[4,6],[5,6]]"
      ]
     },
     "execution_count": 22,
     "metadata": {},
     "output_type": "execute_result"
    },
    {
     "data": {
      "text/latex": [
       "\\[\\tag{${\\it \\%o}_{55}$}\\left[ \\left[ 0 , 8 \\right]  , \\left[ 1 , 7 \\right]  , \\left[ 2 , \\frac{13}{2} \\right]  , \\left[ 3 , \\frac{25}{4} \\right]  , \\left[ 4 , \\frac{49}{8} \\right]  , \\left[ 5 , \\frac{97}{16} \\right]  \\right] \\]"
      ],
      "text/plain": [
       "                                  13       25       49       97\n",
       "(%o55)       [[0, 8], [1, 7], [2, --], [3, --], [4, --], [5, --]]\n",
       "                                  2        4        8        16"
      ],
      "text/x-maxima": [
       "[[0,8],[1,7],[2,13/2],[3,25/4],[4,49/8],[5,97/16]]"
      ]
     },
     "execution_count": 22,
     "metadata": {},
     "output_type": "execute_result"
    },
    {
     "data": {
      "text/latex": [
       "\\[\\tag{${\\it \\%o}_{56}$}\\left[ \\left[ 0 , 10 \\right]  , \\left[ 1 , 8 \\right]  , \\left[ 2 , 7 \\right]  , \\left[ 3 , \\frac{13}{2} \\right]  , \\left[ 4 , \\frac{25}{4} \\right]  , \\left[ 5 , \\frac{49}{8} \\right]  \\right] \\]"
      ],
      "text/plain": [
       "                                           13       25       49\n",
       "(%o56)       [[0, 10], [1, 8], [2, 7], [3, --], [4, --], [5, --]]\n",
       "                                           2        4        8"
      ],
      "text/x-maxima": [
       "[[0,10],[1,8],[2,7],[3,13/2],[4,25/4],[5,49/8]]"
      ]
     },
     "execution_count": 22,
     "metadata": {},
     "output_type": "execute_result"
    },
    {
     "data": {
      "text/latex": [
       "\\[\\tag{${\\it \\%o}_{57}$}\\left[ \\left[ 0 , 11 \\right]  , \\left[ 1 , \\frac{17}{2} \\right]  , \\left[ 2 , \\frac{29}{4} \\right]  , \\left[ 3 , \\frac{53}{8} \\right]  , \\left[ 4 , \\frac{101}{16} \\right]  , \\left[ 5 , \\frac{197}{32} \\right]  \\right] \\]"
      ],
      "text/plain": [
       "                         17       29       53       101       197\n",
       "(%o57)     [[0, 11], [1, --], [2, --], [3, --], [4, ---], [5, ---]]\n",
       "                         2        4        8        16        32"
      ],
      "text/x-maxima": [
       "[[0,11],[1,17/2],[2,29/4],[3,53/8],[4,101/16],[5,197/32]]"
      ]
     },
     "execution_count": 22,
     "metadata": {},
     "output_type": "execute_result"
    }
   ],
   "source": [
    "xy1: recurse(g, 0, 6);\n",
    "xy2: recurse(g, 1, 6);\n",
    "xy3: recurse(g, 2, 6);\n",
    "xy4: recurse(g, 4, 6);\n",
    "xy5: recurse(g, 6, 6);\n",
    "xy6: recurse(g, 8, 6);\n",
    "xy6: recurse(g, 10, 6);\n",
    "xy7: recurse(g, 11, 6);"
   ]
  },
  {
   "cell_type": "code",
   "execution_count": 23,
   "metadata": {},
   "outputs": [
    {
     "data": {
      "image/svg+xml": [
       "<?xml version=\"1.0\" encoding=\"utf-8\"  standalone=\"no\"?>\n",
       "<svg \n",
       " width=\"600\" height=\"480\"\n",
       " viewBox=\"0 0 600 480\"\n",
       " xmlns=\"http://www.w3.org/2000/svg\"\n",
       " xmlns:xlink=\"http://www.w3.org/1999/xlink\"\n",
       ">\n",
       "\n",
       "<title>Gnuplot</title>\n",
       "<desc>Produced by GNUPLOT 5.2 patchlevel 7 </desc>\n",
       "\n",
       "<g id=\"gnuplot_canvas\">\n",
       "\n",
       "<rect x=\"0\" y=\"0\" width=\"600\" height=\"480\" fill=\"none\"/>\n",
       "<defs>\n",
       "\n",
       "\t<circle id='gpDot' r='0.5' stroke-width='0.5' stroke='currentColor'/>\n",
       "\t<path id='gpPt0' stroke-width='0.190' stroke='currentColor' d='M-1,0 h2 M0,-1 v2'/>\n",
       "\t<path id='gpPt1' stroke-width='0.190' stroke='currentColor' d='M-1,-1 L1,1 M1,-1 L-1,1'/>\n",
       "\t<path id='gpPt2' stroke-width='0.190' stroke='currentColor' d='M-1,0 L1,0 M0,-1 L0,1 M-1,-1 L1,1 M-1,1 L1,-1'/>\n",
       "\t<rect id='gpPt3' stroke-width='0.190' stroke='currentColor' x='-1' y='-1' width='2' height='2'/>\n",
       "\t<rect id='gpPt4' stroke-width='0.190' stroke='currentColor' fill='currentColor' x='-1' y='-1' width='2' height='2'/>\n",
       "\t<circle id='gpPt5' stroke-width='0.190' stroke='currentColor' cx='0' cy='0' r='1'/>\n",
       "\t<use xlink:href='#gpPt5' id='gpPt6' fill='currentColor' stroke='none'/>\n",
       "\t<path id='gpPt7' stroke-width='0.190' stroke='currentColor' d='M0,-1.33 L-1.33,0.67 L1.33,0.67 z'/>\n",
       "\t<use xlink:href='#gpPt7' id='gpPt8' fill='currentColor' stroke='none'/>\n",
       "\t<use xlink:href='#gpPt7' id='gpPt9' stroke='currentColor' transform='rotate(180)'/>\n",
       "\t<use xlink:href='#gpPt9' id='gpPt10' fill='currentColor' stroke='none'/>\n",
       "\t<use xlink:href='#gpPt3' id='gpPt11' stroke='currentColor' transform='rotate(45)'/>\n",
       "\t<use xlink:href='#gpPt11' id='gpPt12' fill='currentColor' stroke='none'/>\n",
       "\t<path id='gpPt13' stroke-width='0.190' stroke='currentColor' d='M0,1.330 L1.265,0.411 L0.782,-1.067 L-0.782,-1.076 L-1.265,0.411 z'/>\n",
       "\t<use xlink:href='#gpPt13' id='gpPt14' fill='currentColor' stroke='none'/>\n",
       "\t<filter id='textbox' filterUnits='objectBoundingBox' x='0' y='0' height='1' width='1'>\n",
       "\t  <feFlood flood-color='white' flood-opacity='1' result='bgnd'/>\n",
       "\t  <feComposite in='SourceGraphic' in2='bgnd' operator='atop'/>\n",
       "\t</filter>\n",
       "\t<filter id='greybox' filterUnits='objectBoundingBox' x='0' y='0' height='1' width='1'>\n",
       "\t  <feFlood flood-color='lightgrey' flood-opacity='1' result='grey'/>\n",
       "\t  <feComposite in='SourceGraphic' in2='grey' operator='atop'/>\n",
       "\t</filter>\n",
       "</defs>\n",
       "<g fill=\"none\" color=\"white\" stroke=\"currentColor\" stroke-width=\"1.00\" stroke-linecap=\"butt\" stroke-linejoin=\"miter\">\n",
       "</g>\n",
       "<g fill=\"none\" color=\"gray\" stroke=\"currentColor\" stroke-width=\"1.00\" stroke-linecap=\"butt\" stroke-linejoin=\"miter\">\n",
       "\t<path stroke='black' stroke-dasharray='2,4'  d='M53.3,423.6 L570.8,423.6  '/></g>\n",
       "<g fill=\"none\" color=\"gray\" stroke=\"currentColor\" stroke-width=\"1.00\" stroke-linecap=\"butt\" stroke-linejoin=\"miter\">\n",
       "\t<path stroke='black' stroke-dasharray='2,4'  d='M53.3,423.6 L53.3,35.5  '/></g>\n",
       "<g fill=\"none\" color=\"black\" stroke=\"currentColor\" stroke-width=\"1.00\" stroke-linecap=\"butt\" stroke-linejoin=\"miter\">\n",
       "\t<path stroke='black'  d='M53.3,35.5 L53.3,423.6 L570.8,423.6 L570.8,35.5 L53.3,35.5 Z  '/></g>\n",
       "<g fill=\"none\" color=\"black\" stroke=\"currentColor\" stroke-width=\"1.00\" stroke-linecap=\"butt\" stroke-linejoin=\"miter\">\n",
       "</g>\n",
       "\t<g id=\"gnuplot_plot_1\" ><title>discrete1</title>\n",
       "<g fill=\"none\" color=\"black\" stroke=\"currentColor\" stroke-width=\"1.00\" stroke-linecap=\"butt\" stroke-linejoin=\"miter\">\n",
       "\t<g transform=\"translate(492.4,61.1)\" stroke=\"none\" fill=\"black\" font-family=\"Arial\" font-size=\"14.00\"  text-anchor=\"end\">\n",
       "\t\t<text><tspan font-family=\"Arial\" >discrete1</tspan></text>\n",
       "\t</g>\n",
       "</g>\n",
       "<g fill=\"none\" color=\"black\" stroke=\"currentColor\" stroke-width=\"1.00\" stroke-linecap=\"butt\" stroke-linejoin=\"miter\">\n",
       "\t<path stroke='rgb(  0,   0, 255)'  d='M502.1,56.5 L551.4,56.5 M53.3,423.6 L156.8,340.4 L260.3,298.9 L363.8,278.1 L467.3,267.7 L570.8,262.5\n",
       "\t\t '/></g>\n",
       "\t</g>\n",
       "\t<g id=\"gnuplot_plot_2\" ><title>discrete2</title>\n",
       "<g fill=\"none\" color=\"black\" stroke=\"currentColor\" stroke-width=\"1.00\" stroke-linecap=\"butt\" stroke-linejoin=\"miter\">\n",
       "\t<g transform=\"translate(492.4,82.1)\" stroke=\"none\" fill=\"black\" font-family=\"Arial\" font-size=\"14.00\"  text-anchor=\"end\">\n",
       "\t\t<text><tspan font-family=\"Arial\" >discrete2</tspan></text>\n",
       "\t</g>\n",
       "</g>\n",
       "<g fill=\"none\" color=\"black\" stroke=\"currentColor\" stroke-width=\"1.00\" stroke-linecap=\"butt\" stroke-linejoin=\"miter\">\n",
       "\t<path stroke='rgb(255,   0,   0)'  d='M502.1,77.5 L551.4,77.5 M53.3,395.9 L156.8,326.6 L260.3,291.9 L363.8,274.6 L467.3,265.9 L570.8,261.6\n",
       "\t\t '/></g>\n",
       "\t</g>\n",
       "\t<g id=\"gnuplot_plot_3\" ><title>discrete3</title>\n",
       "<g fill=\"none\" color=\"black\" stroke=\"currentColor\" stroke-width=\"1.00\" stroke-linecap=\"butt\" stroke-linejoin=\"miter\">\n",
       "\t<g transform=\"translate(492.4,103.1)\" stroke=\"none\" fill=\"black\" font-family=\"Arial\" font-size=\"14.00\"  text-anchor=\"end\">\n",
       "\t\t<text><tspan font-family=\"Arial\" >discrete3</tspan></text>\n",
       "\t</g>\n",
       "</g>\n",
       "<g fill=\"none\" color=\"black\" stroke=\"currentColor\" stroke-width=\"1.00\" stroke-linecap=\"butt\" stroke-linejoin=\"miter\">\n",
       "\t<path stroke='rgb(  0, 255,   0)'  d='M502.1,98.5 L551.4,98.5 M53.3,368.2 L156.8,312.7 L260.3,285.0 L363.8,271.1 L467.3,264.2 L570.8,260.7\n",
       "\t\t '/></g>\n",
       "\t</g>\n",
       "\t<g id=\"gnuplot_plot_4\" ><title>discrete4</title>\n",
       "<g fill=\"none\" color=\"black\" stroke=\"currentColor\" stroke-width=\"1.00\" stroke-linecap=\"butt\" stroke-linejoin=\"miter\">\n",
       "\t<g transform=\"translate(492.4,124.1)\" stroke=\"none\" fill=\"black\" font-family=\"Arial\" font-size=\"14.00\"  text-anchor=\"end\">\n",
       "\t\t<text><tspan font-family=\"Arial\" >discrete4</tspan></text>\n",
       "\t</g>\n",
       "</g>\n",
       "<g fill=\"none\" color=\"black\" stroke=\"currentColor\" stroke-width=\"1.00\" stroke-linecap=\"butt\" stroke-linejoin=\"miter\">\n",
       "\t<path stroke='rgb(255,   0, 255)'  d='M502.1,119.5 L551.4,119.5 M53.3,312.7 L156.8,285.0 L260.3,271.1 L363.8,264.2 L467.3,260.7 L570.8,259.0\n",
       "\t\t '/></g>\n",
       "\t</g>\n",
       "\t<g id=\"gnuplot_plot_5\" ><title>discrete5</title>\n",
       "<g fill=\"none\" color=\"black\" stroke=\"currentColor\" stroke-width=\"1.00\" stroke-linecap=\"butt\" stroke-linejoin=\"miter\">\n",
       "\t<g transform=\"translate(492.4,145.1)\" stroke=\"none\" fill=\"black\" font-family=\"Arial\" font-size=\"14.00\"  text-anchor=\"end\">\n",
       "\t\t<text><tspan font-family=\"Arial\" >discrete5</tspan></text>\n",
       "\t</g>\n",
       "</g>\n",
       "<g fill=\"none\" color=\"black\" stroke=\"currentColor\" stroke-width=\"1.00\" stroke-linecap=\"butt\" stroke-linejoin=\"miter\">\n",
       "\t<path stroke='rgb(  0,   0,   0)'  d='M502.1,140.5 L551.4,140.5 M53.3,257.3 L156.8,257.3 L260.3,257.3 L363.8,257.3 L467.3,257.3 L570.8,257.3\n",
       "\t\t '/></g>\n",
       "\t</g>\n",
       "\t<g id=\"gnuplot_plot_6\" ><title>discrete6</title>\n",
       "<g fill=\"none\" color=\"black\" stroke=\"currentColor\" stroke-width=\"1.00\" stroke-linecap=\"butt\" stroke-linejoin=\"miter\">\n",
       "\t<g transform=\"translate(492.4,166.1)\" stroke=\"none\" fill=\"black\" font-family=\"Arial\" font-size=\"14.00\"  text-anchor=\"end\">\n",
       "\t\t<text><tspan font-family=\"Arial\" >discrete6</tspan></text>\n",
       "\t</g>\n",
       "</g>\n",
       "<g fill=\"none\" color=\"black\" stroke=\"currentColor\" stroke-width=\"1.00\" stroke-linecap=\"butt\" stroke-linejoin=\"miter\">\n",
       "\t<path stroke='rgb(  0, 255, 255)'  d='M502.1,161.5 L551.4,161.5 M53.3,146.4 L156.8,201.8 L260.3,229.5 L363.8,243.4 L467.3,250.3 L570.8,253.8\n",
       "\t\t '/></g>\n",
       "\t</g>\n",
       "\t<g id=\"gnuplot_plot_7\" ><title>discrete7</title>\n",
       "<g fill=\"none\" color=\"black\" stroke=\"currentColor\" stroke-width=\"1.00\" stroke-linecap=\"butt\" stroke-linejoin=\"miter\">\n",
       "\t<g transform=\"translate(492.4,187.1)\" stroke=\"none\" fill=\"black\" font-family=\"Arial\" font-size=\"14.00\"  text-anchor=\"end\">\n",
       "\t\t<text><tspan font-family=\"Arial\" >discrete7</tspan></text>\n",
       "\t</g>\n",
       "</g>\n",
       "<g fill=\"none\" color=\"black\" stroke=\"currentColor\" stroke-width=\"1.00\" stroke-linecap=\"butt\" stroke-linejoin=\"miter\">\n",
       "\t<path stroke='rgb(  0,   0, 255)'  d='M502.1,182.5 L551.4,182.5 M53.3,118.7 L156.8,188.0 L260.3,222.6 L363.8,239.9 L467.3,248.6 L570.8,252.9\n",
       "\t\t '/></g>\n",
       "\t</g>\n",
       "\t<g id=\"gnuplot_plot_8\" ><title>discrete8</title>\n",
       "<g fill=\"none\" color=\"black\" stroke=\"currentColor\" stroke-width=\"1.00\" stroke-linecap=\"butt\" stroke-linejoin=\"miter\">\n",
       "\t<g transform=\"translate(492.4,208.1)\" stroke=\"none\" fill=\"black\" font-family=\"Arial\" font-size=\"14.00\"  text-anchor=\"end\">\n",
       "\t\t<text><tspan font-family=\"Arial\" >discrete8</tspan></text>\n",
       "\t</g>\n",
       "</g>\n",
       "<g fill=\"none\" color=\"black\" stroke=\"currentColor\" stroke-width=\"1.00\" stroke-linecap=\"butt\" stroke-linejoin=\"miter\">\n",
       "\t<path stroke='rgb(255,   0,   0)'  d='M502.1,203.5 L551.4,203.5  '/></g>\n",
       "\t</g>\n",
       "<g fill=\"none\" color=\"black\" stroke=\"currentColor\" stroke-width=\"1.00\" stroke-linecap=\"butt\" stroke-linejoin=\"miter\">\n",
       "\t<path stroke='black'  d='M53.3,423.6 L63.8,423.6 M570.8,423.6 L560.3,423.6  '/>\t<g transform=\"translate(43.6,428.2)\" stroke=\"none\" fill=\"black\" font-family=\"Arial\" font-size=\"14.00\"  text-anchor=\"end\">\n",
       "\t\t<text><tspan font-family=\"Arial\" > 0</tspan></text>\n",
       "\t</g>\n",
       "</g>\n",
       "<g fill=\"none\" color=\"black\" stroke=\"currentColor\" stroke-width=\"1.00\" stroke-linecap=\"butt\" stroke-linejoin=\"miter\">\n",
       "\t<path stroke='black'  d='M53.3,368.2 L63.8,368.2 M570.8,368.2 L560.3,368.2  '/>\t<g transform=\"translate(43.6,372.8)\" stroke=\"none\" fill=\"black\" font-family=\"Arial\" font-size=\"14.00\"  text-anchor=\"end\">\n",
       "\t\t<text><tspan font-family=\"Arial\" > 2</tspan></text>\n",
       "\t</g>\n",
       "</g>\n",
       "<g fill=\"none\" color=\"black\" stroke=\"currentColor\" stroke-width=\"1.00\" stroke-linecap=\"butt\" stroke-linejoin=\"miter\">\n",
       "\t<path stroke='black'  d='M53.3,312.7 L63.8,312.7 M570.8,312.7 L560.3,312.7  '/>\t<g transform=\"translate(43.6,317.3)\" stroke=\"none\" fill=\"black\" font-family=\"Arial\" font-size=\"14.00\"  text-anchor=\"end\">\n",
       "\t\t<text><tspan font-family=\"Arial\" > 4</tspan></text>\n",
       "\t</g>\n",
       "</g>\n",
       "<g fill=\"none\" color=\"black\" stroke=\"currentColor\" stroke-width=\"1.00\" stroke-linecap=\"butt\" stroke-linejoin=\"miter\">\n",
       "\t<path stroke='black'  d='M53.3,257.3 L63.8,257.3 M570.8,257.3 L560.3,257.3  '/>\t<g transform=\"translate(43.6,261.9)\" stroke=\"none\" fill=\"black\" font-family=\"Arial\" font-size=\"14.00\"  text-anchor=\"end\">\n",
       "\t\t<text><tspan font-family=\"Arial\" > 6</tspan></text>\n",
       "\t</g>\n",
       "</g>\n",
       "<g fill=\"none\" color=\"black\" stroke=\"currentColor\" stroke-width=\"1.00\" stroke-linecap=\"butt\" stroke-linejoin=\"miter\">\n",
       "\t<path stroke='black'  d='M53.3,201.8 L63.8,201.8 M570.8,201.8 L560.3,201.8  '/>\t<g transform=\"translate(43.6,206.4)\" stroke=\"none\" fill=\"black\" font-family=\"Arial\" font-size=\"14.00\"  text-anchor=\"end\">\n",
       "\t\t<text><tspan font-family=\"Arial\" > 8</tspan></text>\n",
       "\t</g>\n",
       "</g>\n",
       "<g fill=\"none\" color=\"black\" stroke=\"currentColor\" stroke-width=\"1.00\" stroke-linecap=\"butt\" stroke-linejoin=\"miter\">\n",
       "\t<path stroke='black'  d='M53.3,146.4 L63.8,146.4 M570.8,146.4 L560.3,146.4  '/>\t<g transform=\"translate(43.6,151.0)\" stroke=\"none\" fill=\"black\" font-family=\"Arial\" font-size=\"14.00\"  text-anchor=\"end\">\n",
       "\t\t<text><tspan font-family=\"Arial\" > 10</tspan></text>\n",
       "\t</g>\n",
       "</g>\n",
       "<g fill=\"none\" color=\"black\" stroke=\"currentColor\" stroke-width=\"1.00\" stroke-linecap=\"butt\" stroke-linejoin=\"miter\">\n",
       "\t<path stroke='black'  d='M53.3,90.9 L63.8,90.9 M570.8,90.9 L560.3,90.9  '/>\t<g transform=\"translate(43.6,95.5)\" stroke=\"none\" fill=\"black\" font-family=\"Arial\" font-size=\"14.00\"  text-anchor=\"end\">\n",
       "\t\t<text><tspan font-family=\"Arial\" > 12</tspan></text>\n",
       "\t</g>\n",
       "</g>\n",
       "<g fill=\"none\" color=\"black\" stroke=\"currentColor\" stroke-width=\"1.00\" stroke-linecap=\"butt\" stroke-linejoin=\"miter\">\n",
       "\t<path stroke='black'  d='M53.3,35.5 L63.8,35.5 M570.8,35.5 L560.3,35.5  '/>\t<g transform=\"translate(43.6,40.1)\" stroke=\"none\" fill=\"black\" font-family=\"Arial\" font-size=\"14.00\"  text-anchor=\"end\">\n",
       "\t\t<text><tspan font-family=\"Arial\" > 14</tspan></text>\n",
       "\t</g>\n",
       "</g>\n",
       "<g fill=\"none\" color=\"black\" stroke=\"currentColor\" stroke-width=\"1.00\" stroke-linecap=\"butt\" stroke-linejoin=\"miter\">\n",
       "\t<path stroke='black'  d='M53.3,423.6 L53.3,413.1 M53.3,35.5 L53.3,46.0  '/>\t<g transform=\"translate(53.3,449.2)\" stroke=\"none\" fill=\"black\" font-family=\"Arial\" font-size=\"14.00\"  text-anchor=\"middle\">\n",
       "\t\t<text><tspan font-family=\"Arial\" > 0</tspan></text>\n",
       "\t</g>\n",
       "</g>\n",
       "<g fill=\"none\" color=\"black\" stroke=\"currentColor\" stroke-width=\"1.00\" stroke-linecap=\"butt\" stroke-linejoin=\"miter\">\n",
       "\t<path stroke='black'  d='M156.8,423.6 L156.8,413.1 M156.8,35.5 L156.8,46.0  '/>\t<g transform=\"translate(156.8,449.2)\" stroke=\"none\" fill=\"black\" font-family=\"Arial\" font-size=\"14.00\"  text-anchor=\"middle\">\n",
       "\t\t<text><tspan font-family=\"Arial\" > 1</tspan></text>\n",
       "\t</g>\n",
       "</g>\n",
       "<g fill=\"none\" color=\"black\" stroke=\"currentColor\" stroke-width=\"1.00\" stroke-linecap=\"butt\" stroke-linejoin=\"miter\">\n",
       "\t<path stroke='black'  d='M260.3,423.6 L260.3,413.1 M260.3,35.5 L260.3,46.0  '/>\t<g transform=\"translate(260.3,449.2)\" stroke=\"none\" fill=\"black\" font-family=\"Arial\" font-size=\"14.00\"  text-anchor=\"middle\">\n",
       "\t\t<text><tspan font-family=\"Arial\" > 2</tspan></text>\n",
       "\t</g>\n",
       "</g>\n",
       "<g fill=\"none\" color=\"black\" stroke=\"currentColor\" stroke-width=\"1.00\" stroke-linecap=\"butt\" stroke-linejoin=\"miter\">\n",
       "\t<path stroke='black'  d='M363.8,423.6 L363.8,413.1 M363.8,35.5 L363.8,46.0  '/>\t<g transform=\"translate(363.8,449.2)\" stroke=\"none\" fill=\"black\" font-family=\"Arial\" font-size=\"14.00\"  text-anchor=\"middle\">\n",
       "\t\t<text><tspan font-family=\"Arial\" > 3</tspan></text>\n",
       "\t</g>\n",
       "</g>\n",
       "<g fill=\"none\" color=\"black\" stroke=\"currentColor\" stroke-width=\"1.00\" stroke-linecap=\"butt\" stroke-linejoin=\"miter\">\n",
       "\t<path stroke='black'  d='M467.3,423.6 L467.3,413.1 M467.3,35.5 L467.3,46.0  '/>\t<g transform=\"translate(467.3,449.2)\" stroke=\"none\" fill=\"black\" font-family=\"Arial\" font-size=\"14.00\"  text-anchor=\"middle\">\n",
       "\t\t<text><tspan font-family=\"Arial\" > 4</tspan></text>\n",
       "\t</g>\n",
       "</g>\n",
       "<g fill=\"none\" color=\"black\" stroke=\"currentColor\" stroke-width=\"1.00\" stroke-linecap=\"butt\" stroke-linejoin=\"miter\">\n",
       "\t<path stroke='black'  d='M570.8,423.6 L570.8,413.1 M570.8,35.5 L570.8,46.0  '/>\t<g transform=\"translate(570.8,449.2)\" stroke=\"none\" fill=\"black\" font-family=\"Arial\" font-size=\"14.00\"  text-anchor=\"middle\">\n",
       "\t\t<text><tspan font-family=\"Arial\" > 5</tspan></text>\n",
       "\t</g>\n",
       "</g>\n",
       "<g fill=\"none\" color=\"black\" stroke=\"currentColor\" stroke-width=\"1.00\" stroke-linecap=\"butt\" stroke-linejoin=\"miter\">\n",
       "</g>\n",
       "<g fill=\"none\" color=\"gray\" stroke=\"currentColor\" stroke-width=\"1.00\" stroke-linecap=\"butt\" stroke-linejoin=\"miter\">\n",
       "\t<path stroke='black' stroke-dasharray='2,4'  d='M53.3,423.6 L570.8,423.6  '/></g>\n",
       "<g fill=\"none\" color=\"gray\" stroke=\"currentColor\" stroke-width=\"1.00\" stroke-linecap=\"butt\" stroke-linejoin=\"miter\">\n",
       "\t<path stroke='black' stroke-dasharray='2,4'  d='M53.3,423.6 L53.3,35.5  '/></g>\n",
       "<g fill=\"none\" color=\"gray\" stroke=\"black\" stroke-width=\"2.00\" stroke-linecap=\"butt\" stroke-linejoin=\"miter\">\n",
       "</g>\n",
       "<g fill=\"none\" color=\"black\" stroke=\"currentColor\" stroke-width=\"2.00\" stroke-linecap=\"butt\" stroke-linejoin=\"miter\">\n",
       "</g>\n",
       "<g fill=\"none\" color=\"black\" stroke=\"black\" stroke-width=\"1.00\" stroke-linecap=\"butt\" stroke-linejoin=\"miter\">\n",
       "</g>\n",
       "<g fill=\"none\" color=\"black\" stroke=\"currentColor\" stroke-width=\"1.00\" stroke-linecap=\"butt\" stroke-linejoin=\"miter\">\n",
       "\t<path stroke='black'  d='M53.3,35.5 L53.3,423.6 L570.8,423.6 L570.8,35.5 L53.3,35.5 Z  '/></g>\n",
       "<g fill=\"none\" color=\"black\" stroke=\"currentColor\" stroke-width=\"1.00\" stroke-linecap=\"butt\" stroke-linejoin=\"miter\">\n",
       "</g>\n",
       "</g>\n",
       "</svg>\n",
       "\n"
      ],
      "text/plain": [
       "/tmp/maxplot.svg"
      ]
     },
     "metadata": {},
     "output_type": "display_data"
    }
   ],
   "source": [
    "plot2d([[discrete,xy1],\n",
    "        [discrete,xy2],\n",
    "        [discrete,xy3],\n",
    "        [discrete,xy4],\n",
    "        [discrete,xy5],\n",
    "        [discrete,xy6],\n",
    "        [discrete,xy7],\n",
    "        [discrete,xy8]], [x, 0, 5], [y, 0, 14])$"
   ]
  },
  {
   "cell_type": "markdown",
   "metadata": {},
   "source": [
    "## $h(x) = 2x$"
   ]
  },
  {
   "cell_type": "code",
   "execution_count": 24,
   "metadata": {},
   "outputs": [
    {
     "data": {
      "text/latex": [
       "\\[\\tag{${\\it \\%o}_{59}$}h\\left(x\\right):=2\\,x\\]"
      ],
      "text/plain": [
       "(%o59)                            h(x) := 2 x"
      ],
      "text/x-maxima": [
       "h(x):=2*x"
      ]
     },
     "execution_count": 24,
     "metadata": {},
     "output_type": "execute_result"
    }
   ],
   "source": [
    "h(x) := 2 * x;"
   ]
  },
  {
   "cell_type": "code",
   "execution_count": 25,
   "metadata": {},
   "outputs": [
    {
     "data": {
      "text/latex": [
       "\\[\\tag{${\\it \\%o}_{60}$}\\left[ \\left[ 0 , 1 \\right]  , \\left[ 1 , 2 \\right]  , \\left[ 2 , 4 \\right]  , \\left[ 3 , 8 \\right]  \\right] \\]"
      ],
      "text/plain": [
       "(%o60)                 [[0, 1], [1, 2], [2, 4], [3, 8]]"
      ],
      "text/x-maxima": [
       "[[0,1],[1,2],[2,4],[3,8]]"
      ]
     },
     "execution_count": 25,
     "metadata": {},
     "output_type": "execute_result"
    },
    {
     "data": {
      "text/latex": [
       "\\[\\tag{${\\it \\%o}_{61}$}\\left[ \\left[ 0 , 2 \\right]  , \\left[ 1 , 4 \\right]  , \\left[ 2 , 8 \\right]  , \\left[ 3 , 16 \\right]  \\right] \\]"
      ],
      "text/plain": [
       "(%o61)                 [[0, 2], [1, 4], [2, 8], [3, 16]]"
      ],
      "text/x-maxima": [
       "[[0,2],[1,4],[2,8],[3,16]]"
      ]
     },
     "execution_count": 25,
     "metadata": {},
     "output_type": "execute_result"
    }
   ],
   "source": [
    "xy1: recurse(h, 1, 4);\n",
    "xy2: recurse(h, 2, 4);"
   ]
  },
  {
   "cell_type": "markdown",
   "metadata": {},
   "source": []
  }
 ],
 "metadata": {
  "kernelspec": {
   "display_name": "Maxima",
   "language": "maxima",
   "name": "maxima"
  },
  "language_info": {
   "codemirror_mode": "maxima",
   "file_extension": ".mac",
   "mimetype": "text/x-maxima",
   "name": "maxima",
   "pygments_lexer": "maxima",
   "version": "5.43.0"
  },
  "widgets": {
   "application/vnd.jupyter.widget-state+json": {
    "state": {},
    "version_major": 2,
    "version_minor": 0
   }
  }
 },
 "nbformat": 4,
 "nbformat_minor": 2
}
